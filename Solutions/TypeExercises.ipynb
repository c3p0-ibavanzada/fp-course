{
 "cells": [
  {
   "cell_type": "markdown",
   "metadata": {
    "dotnet_interactive": {
     "language": "csharp"
    },
    "polyglot_notebook": {
     "kernelName": "csharp"
    }
   },
   "source": [
    "## F\\# types exercises\n",
    "\n",
    "Some gentle exercises to start working with domains.\n",
    "\n",
    "### Coins\n",
    "\n",
    "At some point, a customer will enter some amount of each coin to buy a product in the food vending machine. The machine receives coins of $\\$$0.1, $\\$$0.25 and $\\$$0.5 value only. \n",
    " - Model a type `Coins` that accounts for the number of each of the coins the machine receives. \n",
    " - Create a function `amount` that receives a value of `Coins` and returns the amount in $\\$$ that the customer introduced in the machine.\n",
    "\n",
    "> 💡 The function `float` can be used to convert an integer value to a float type \n",
    "\n",
    "### Slots\n",
    "\n",
    "The food vending machine vendor supplies the machine with different slots to accomodate products that have different sizes. The vendor provides three different sizes, single, double and triple. \n",
    "- Model the sizes of the slot in a type `SlotSize`.\n",
    "- Extend the model `FoodMachineItem` to add the size of the product measured by the size of the slot it occupies.\n",
    "\n",
    "### Coffee machine\n",
    "Our vending machine client wants to add a coffee machine just beside the food vending machine, and wants us to prepare the software to manage it. As a first round conversation, we have been informed that the coffee machine will serve coffee and black tea. Sugar and cream can be added to both of them. It will also have chocolate and capucchino, with the only option to add sugar. Finally, it will also serve a healthy green or white tea that can be topped with milk only. Start modeling the coffee machine by introducing the types to describe all these beverages.\n",
    "\n",
    "\n",
    "\n"
   ]
  },
  {
   "cell_type": "code",
   "execution_count": null,
   "metadata": {
    "dotnet_interactive": {
     "language": "fsharp"
    },
    "polyglot_notebook": {
     "kernelName": "fsharp"
    },
    "vscode": {
     "languageId": "polyglot-notebook"
    }
   },
   "outputs": [],
   "source": [
    "type Dimes = \n",
    "    | Dimes of uint8\n",
    "\n",
    "type Quarters = \n",
    "    | Quarters of uint8 \n",
    "\n",
    "type Halfs =\n",
    "    | Halfs of uint8 \n",
    "\n",
    "type Coins =\n",
    "    { \n",
    "        Dimes: Dimes \n",
    "        Quarters: Quarters\n",
    "        Halfs: Halfs \n",
    "    }\n",
    "\n",
    "let amount coins = \n",
    "    let (Dimes dimes) = coins.Dimes \n",
    "    let (Quarters quarts) = coins.Quarters \n",
    "    let (Halfs halfs) = coins.Halfs\n",
    "\n",
    "    (float dimes) * 0.1 + float (quarts) * 0.25 + float (halfs) * 0.5"
   ]
  },
  {
   "cell_type": "code",
   "execution_count": 3,
   "metadata": {
    "dotnet_interactive": {
     "language": "fsharp"
    },
    "polyglot_notebook": {
     "kernelName": "fsharp"
    },
    "vscode": {
     "languageId": "polyglot-notebook"
    }
   },
   "outputs": [
    {
     "ename": "Error",
     "evalue": "input.fsx (93,22)-(93,34) typecheck error The 'if' expression needs to have type 'Semaphore4' to satisfy context type requirements. It currently has type 'Semaphore2'.\ninput.fsx (95,22)-(95,34) typecheck error The 'if' expression needs to have type 'Semaphore4' to satisfy context type requirements. It currently has type 'Semaphore2'.",
     "output_type": "error",
     "traceback": [
      "input.fsx (93,22)-(93,34) typecheck error The 'if' expression needs to have type 'Semaphore4' to satisfy context type requirements. It currently has type 'Semaphore2'.\n",
      "input.fsx (95,22)-(95,34) typecheck error The 'if' expression needs to have type 'Semaphore4' to satisfy context type requirements. It currently has type 'Semaphore2'."
     ]
    }
   ],
   "source": [
    "[<Literal>]\n",
    "let PI = 3.1415\n",
    "\n",
    "type Color =\n",
    "| Red\n",
    "| Green\n",
    "| Blue\n",
    "\n",
    "type Rectangle =\n",
    "    {\n",
    "        A: float\n",
    "        B: float \n",
    "    }\n",
    "\n",
    "type Shape = \n",
    "    | Circle of float\n",
    "    | Rectangle of Rectangle\n",
    "\n",
    "let areaCircle r =\n",
    "    r*r*PI \n",
    "    \n",
    "let areaRectangle a b = \n",
    "    a * b    \n",
    "\n",
    "let area shape =\n",
    "    match shape with\n",
    "    | Circle r -> areaCircle r \n",
    "    | Rectangle rect -> areaRectangle rect.A rect.B \n",
    "\n",
    "let isSquare shape = \n",
    "    match shape with\n",
    "    | Circle r -> false  \n",
    "    | Rectangle rect -> rect.A = rect.B \n",
    "\n",
    "let scale shape percentage = \n",
    "    match shape with\n",
    "    | Circle r -> ()\n",
    "    | Rectangle rect -> ()\n",
    "\n",
    "\n",
    "type Semaphore =\n",
    "    | Red\n",
    "    | Yellow\n",
    "    | Green \n",
    "\n",
    "type Time =\n",
    "    | Time of int  \n",
    "\n",
    "type Semaphore2 = \n",
    "    | Red of Time \n",
    "    | Yellow of Time \n",
    "    | Green of Time \n",
    "\n",
    "let RedDefault = Red (Time 45)\n",
    "let YellowDefault = Yellow (Time 2)\n",
    "let GreenDefault = Green (Time 66)\n",
    "\n",
    "\n",
    "type YellowState =\n",
    "    | ToGreen\n",
    "    | ToRed \n",
    "\n",
    "let switch semaphore yellowState =\n",
    "    match semaphore,yellowState with \n",
    "    | Red (Time t), ys -> \n",
    "        if t<=0 then YellowDefault else Red (Time t) \n",
    "    | Yellow (Time t), ys -> \n",
    "        if t<=0 then\n",
    "            match ys with \n",
    "            | ToGreen -> GreenDefault\n",
    "            | ToRed -> RedDefault \n",
    "        else \n",
    "            Yellow (Time t) \n",
    "    | Green (Time t), ys -> \n",
    "        if t<=0 then YellowDefault else Green (Time t)        \n",
    "\n",
    "type Semaphore4 = \n",
    "    | Red of Time \n",
    "    | YellowFromRed of Time \n",
    "    | YellowFromGreen of Time     \n",
    "    | Green of Time \n",
    "\n",
    "let RedDefault4 = Red (Time 45)\n",
    "let YellowFromRedDefault = YellowFromRed (Time 2)\n",
    "let YellowFromGreenDefault = YellowFromGreen (Time 2)\n",
    "let GreenDefault4 = Green (Time 66)\n",
    "\n",
    "let getTime semaphore4 = \n",
    "    match semaphore4 with \n",
    "    | Red (Time t) -> t\n",
    "    | YellowFromRed (Time t) -> t \n",
    "    | YellowFromGreen (Time t) -> t    \n",
    "    | Green (Time t) -> t\n",
    "\n",
    "let switch4 (semaphore: Semaphore4) : Semaphore4 = \n",
    "    match semaphore with \n",
    "    | Red (Time t) -> \n",
    "        if t<=0 then YellowFromRedDefault else Red (Time t) \n",
    "    | YellowFromRed (Time t) -> \n",
    "        if t<=0 then GreenDefault4 else YellowFromRed (Time t) \n",
    "    | YellowFromGreen (Time t) -> \n",
    "        if t<=0 then RedDefault4 else YellowFromRed (Time t)        \n",
    "    | Green (Time t) -> \n",
    "        if t<=0 then YellowFromGreenDefault else Green (Time t)        \n",
    "\n",
    "let testSwitch (Time t) nextSemaphore = \n",
    "    let t = getTime semaphore \n",
    "    if t<=0 then nextSemaphore else semaphore \n",
    "\n",
    "\n"
   ]
  }
 ],
 "metadata": {
  "kernelspec": {
   "display_name": ".NET (C#)",
   "language": "C#",
   "name": ".net-csharp"
  },
  "polyglot_notebook": {
   "kernelInfo": {
    "defaultKernelName": "csharp",
    "items": [
     {
      "aliases": [
       "c#",
       "C#"
      ],
      "languageName": "C#",
      "name": "csharp"
     },
     {
      "aliases": [
       "frontend"
      ],
      "languageName": null,
      "name": "vscode"
     },
     {
      "aliases": [
       "js"
      ],
      "languageName": "JavaScript",
      "name": "javascript"
     },
     {
      "aliases": [],
      "name": "webview"
     },
     {
      "aliases": [],
      "languageName": "KQL",
      "name": "kql"
     },
     {
      "aliases": [],
      "languageName": null,
      "name": ".NET"
     },
     {
      "aliases": [
       "f#",
       "F#"
      ],
      "languageName": "F#",
      "name": "fsharp"
     },
     {
      "aliases": [],
      "languageName": "HTML",
      "name": "html"
     },
     {
      "aliases": [],
      "languageName": "Mermaid",
      "name": "mermaid"
     },
     {
      "aliases": [
       "powershell"
      ],
      "languageName": "PowerShell",
      "name": "pwsh"
     },
     {
      "aliases": [],
      "languageName": "SQL",
      "name": "sql"
     },
     {
      "aliases": [],
      "languageName": null,
      "name": "value"
     }
    ]
   }
  }
 },
 "nbformat": 4,
 "nbformat_minor": 2
}
