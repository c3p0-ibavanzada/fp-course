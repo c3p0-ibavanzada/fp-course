{
 "cells": [
  {
   "cell_type": "code",
   "execution_count": 2,
   "metadata": {
    "dotnet_interactive": {
     "language": "fsharp"
    },
    "polyglot_notebook": {
     "kernelName": "fsharp"
    },
    "vscode": {
     "languageId": "polyglot-notebook"
    }
   },
   "outputs": [
    {
     "name": "stdout",
     "output_type": "stream",
     "text": [
      "North\n",
      "NorthEast\n",
      "East\n",
      "SouthEast\n",
      "South\n",
      "SouthWest\n"
     ]
    }
   ],
   "source": [
    "type CardinalPoint =\n",
    "    | North\n",
    "    | South\n",
    "    | East\n",
    "    | West\n",
    "    | NorthEast \n",
    "    | SouthEast \n",
    "    | NorthWest\n",
    "    | SouthWest \n",
    "\n",
    "\n",
    "\n",
    "let degreesToCardinal (degrees: float) : CardinalPoint =\n",
    "    match (degrees + 360.0) % 360.0 with\n",
    "    | x when x < 22.5 || x >= 337.5 -> North\n",
    "    | x when x >= 22.5 && x < 67.5 -> NorthEast\n",
    "    | x when x >= 67.5 && x < 112.5 -> East\n",
    "    | x when x >= 112.5 && x < 157.5 -> SouthEast\n",
    "    | x when x >= 157.5 && x < 202.5 -> South\n",
    "    | x when x >= 202.5 && x < 247.5 -> SouthWest\n",
    "    | x when x >= 247.5 && x < 292.5 -> West\n",
    "    | x when x >= 292.5 && x < 337.5 -> NorthWest\n",
    "    | _ -> failwith \"Invalid input\"\n",
    "\n",
    "printfn \"%A\" (degreesToCardinal 0.0) // North\n",
    "printfn \"%A\" (degreesToCardinal 45.0) // Northeast\n",
    "printfn \"%A\" (degreesToCardinal 90.0) // East\n",
    "printfn \"%A\" (degreesToCardinal 135.0) // Southeast\n",
    "printfn \"%A\" (degreesToCardinal 180.0) // South\n",
    "printfn \"%A\" (degreesToCardinal 225.0) // Southwest"
   ]
  }
 ],
 "metadata": {
  "language_info": {
   "name": "python"
  },
  "orig_nbformat": 4
 },
 "nbformat": 4,
 "nbformat_minor": 2
}
