{
 "cells": [
  {
   "attachments": {},
   "cell_type": "markdown",
   "metadata": {},
   "source": [
    "## Discriminated unions\n",
    "\n",
    "One of the key aspects of F\\# (and other functional languages) is that it provides a specific syntax to model those characteristics of inputs and outputs that belong to a well predefined collection. These are called _discriminated unions_. \n",
    "\n",
    "The type for our food `vendingMachine` would be:"
   ]
  },
  {
   "cell_type": "code",
   "execution_count": 7,
   "metadata": {
    "dotnet_interactive": {
     "language": "fsharp"
    },
    "vscode": {
     "languageId": "fsharp"
    }
   },
   "outputs": [],
   "source": [
    "type FoodProduct =\n",
    "    | Chips\n",
    "    | Chocolate\n",
    "    | Candy "
   ]
  },
  {
   "attachments": {},
   "cell_type": "markdown",
   "metadata": {},
   "source": [
    "while for the electronics we could have:"
   ]
  },
  {
   "cell_type": "code",
   "execution_count": 8,
   "metadata": {
    "dotnet_interactive": {
     "language": "fsharp"
    },
    "vscode": {
     "languageId": "fsharp"
    }
   },
   "outputs": [],
   "source": [
    "type Electronics = \n",
    "    | Phones\n",
    "    | Speakers\n",
    "    | Headphones"
   ]
  },
  {
   "attachments": {},
   "cell_type": "markdown",
   "metadata": {},
   "source": [
    "> 🔔 It is customary to use `PascalCase` for types (i.e., `FoodProduct`).\n",
    "\n",
    "> ❗️ Case types in a discriminated union should start with an uppercase letter (`Phones`, `Chips`, etc.).\n",
    "\n",
    "In the expressions above we are defining a type with a name (`FoodProduct`, `Electronics`) that can have several  case types. It is important to stress the fact that the cases of each discriminated union type are _disjoint_, that is, can not be accessed at the same time. For example:"
   ]
  },
  {
   "cell_type": "code",
   "execution_count": 9,
   "metadata": {
    "dotnet_interactive": {
     "language": "fsharp"
    },
    "vscode": {
     "languageId": "fsharp"
    }
   },
   "outputs": [],
   "source": [
    "let d = FoodProduct.Chips\n",
    "let s = Electronics.Speakers"
   ]
  },
  {
   "attachments": {},
   "cell_type": "markdown",
   "metadata": {},
   "source": [
    "The languages uses the dot `.` to represent a case of a discriminated union. The value `s` represents of course an speaker, and since it is inmutable, there is no possible way that can be a phone or a headphone. \n",
    "\n",
    "So how can we define functions with discriminated unions? Let us write a function `price` that receives an input of type `Electronics` and gives us the price:"
   ]
  },
  {
   "cell_type": "code",
   "execution_count": 10,
   "metadata": {
    "dotnet_interactive": {
     "language": "fsharp"
    },
    "vscode": {
     "languageId": "fsharp"
    }
   },
   "outputs": [
    {
     "name": "stdout",
     "output_type": "stream",
     "text": [
      "The price of speaker is: 29 $\n"
     ]
    }
   ],
   "source": [
    "let price electronic = \n",
    "    match electronic with \n",
    "    | Phones -> 435\n",
    "    | Speakers -> 29\n",
    "    | Headphones -> 122\n",
    "\n",
    "printfn \"The price of speaker is: %A $\" (price s)    "
   ]
  },
  {
   "attachments": {},
   "cell_type": "markdown",
   "metadata": {},
   "source": [
    "The way one can disaggregate the different cases of an input that is a discriminated union is through _pattern matching_, represented by the construct `match ... with` and then, all the cases. The syntax is pretty straightforward: for each discriminated union case label (after the `|` sign in the construct) the function returns the price as an `int`. \n",
    "\n",
    "Note also that the match should contain _all_ the possible cases of the discriminated union. If one is forgetting some case, the compiler will tell us about with some wiggled underlining at the match. This means that the patter matching is _exhaustive_. \n",
    "\n",
    "Another very important aspect of the pattern matching is that is evaluated _in the order_ is written. \n",
    "\n",
    "But, what if we want to write down a `priceFood` function, and asign a 1.5 price to all the items except Chocolates, that are tagged at a 2.35 price? The language introduces the _wildcard_ symbol that matches _any_ input in the pattern matching construct. The wildcard is represented by the `_` (single underscore) symbol:"
   ]
  },
  {
   "cell_type": "code",
   "execution_count": 11,
   "metadata": {
    "dotnet_interactive": {
     "language": "fsharp"
    },
    "vscode": {
     "languageId": "fsharp"
    }
   },
   "outputs": [
    {
     "name": "stdout",
     "output_type": "stream",
     "text": [
      "Chocolate: 2.35 $\n",
      "Chips: 1.5 $\n",
      "Candy: 1.5 $\n"
     ]
    }
   ],
   "source": [
    "let priceFood food = \n",
    "    match food with \n",
    "    | Chocolate -> 2.35\n",
    "    | _ -> 1.5 \n",
    "\n",
    "printfn \"Chocolate: %A $\" (priceFood FoodProduct.Chocolate)        \n",
    "printfn \"Chips: %A $\" (priceFood FoodProduct.Chips)        \n",
    "printfn \"Candy: %A $\" (priceFood FoodProduct.Candy)        "
   ]
  },
  {
   "attachments": {},
   "cell_type": "markdown",
   "metadata": {},
   "source": [
    "Here we see the interplay between the order evaluation of the pattern matching and the wildcard. We are returning a specific values for _some cases_ (Chocolate), and asign a common value for _the rest of the cases_. When a food `value` is received by `priceFood` it is compared with the `Chocolate` case first. If it is not chocolate, then is get captured by the wildcard pattern. Consider the following example:"
   ]
  },
  {
   "cell_type": "code",
   "execution_count": 12,
   "metadata": {
    "dotnet_interactive": {
     "language": "fsharp"
    },
    "vscode": {
     "languageId": "fsharp"
    }
   },
   "outputs": [
    {
     "name": "stdout",
     "output_type": "stream",
     "text": [
      "Chocolate: 1.5 $\n",
      "Chips: 1.5 $\n",
      "Candy: 1.5 $\n"
     ]
    }
   ],
   "source": [
    "let priceSale food = \n",
    "    match food with \n",
    "    | _ -> 1.5 \n",
    "    | Chocolate -> 2.35\n",
    "\n",
    "printfn \"Chocolate: %A $\" (priceSale FoodProduct.Chocolate)        \n",
    "printfn \"Chips: %A $\" (priceSale FoodProduct.Chips)        \n",
    "printfn \"Candy: %A $\" (priceSale FoodProduct.Candy)        "
   ]
  },
  {
   "attachments": {},
   "cell_type": "markdown",
   "metadata": {},
   "source": [
    "Well, everything is \"on sale\" at 1.5! That is because the wildcard captures _any input_ and since it is the first _case_, any food will be at that price. \n",
    "\n",
    "Here again, the compiler behind scenes comes to our rescue. It will let you know that some of the pattern matching rules will not be reached:\n",
    "\n",
    "![This will save you from bankruptcy](../figures/rule_will_never_match.png)\n"
   ]
  },
  {
   "attachments": {},
   "cell_type": "markdown",
   "metadata": {},
   "source": [
    "### Combining discriminated unions and basic types\n",
    "\n",
    "In many cases, the discriminated union construct is not general enough, so one can combine it with basic types. Let us say that we want to identify the brand of each of our items in the vending machines. Since it can accomodate multiple brands of products, we decide that we represent the brand by a `string`. We can expand our `FoodProduct` discriminated union type as:\n"
   ]
  },
  {
   "cell_type": "code",
   "execution_count": 13,
   "metadata": {
    "dotnet_interactive": {
     "language": "fsharp"
    },
    "vscode": {
     "languageId": "fsharp"
    }
   },
   "outputs": [],
   "source": [
    "type BrandedFood =\n",
    "    | Chips of string \n",
    "    | Chocolate of string \n",
    "    | Candy of string "
   ]
  },
  {
   "attachments": {},
   "cell_type": "markdown",
   "metadata": {},
   "source": [
    "Each of the cases of the `BrandedFood` type has now a _value_ of type `string`. The discriminated union makes use of the keyword `of` to associate each case with each value type. One can define identifiers for this compound type as:"
   ]
  },
  {
   "cell_type": "code",
   "execution_count": 14,
   "metadata": {
    "dotnet_interactive": {
     "language": "fsharp"
    },
    "vscode": {
     "languageId": "fsharp"
    }
   },
   "outputs": [],
   "source": [
    "let belovedChocolate = BrandedFood.Chocolate \"Wonka\"\n",
    "let healthyChips = BrandedFood.Chips \"NotALeis\"\n",
    "let sourCandy = BrandedFood.Candy \"TearDrops\""
   ]
  },
  {
   "attachments": {},
   "cell_type": "markdown",
   "metadata": {},
   "source": [
    "In the brand example, we choose to combine all the cases with the same basic type, `string`. But, again, one can mix and match. For example, a chocolate can come in different presentations:"
   ]
  },
  {
   "cell_type": "code",
   "execution_count": 15,
   "metadata": {
    "dotnet_interactive": {
     "language": "fsharp"
    },
    "vscode": {
     "languageId": "fsharp"
    }
   },
   "outputs": [],
   "source": [
    "type ChocolatePresentation =\n",
    "| Bar of float  // a chocolate Bar of a given weight\n",
    "| Box of int // a package with a number of chocolate pieces    "
   ]
  },
  {
   "attachments": {},
   "cell_type": "markdown",
   "metadata": {},
   "source": [
    "Or, if we want to model the change money the vending machine returns to the customer, we can define a case where an actual amount is returned, and another one that represents the fact that the client just put the exact money into the machine:"
   ]
  },
  {
   "cell_type": "code",
   "execution_count": 16,
   "metadata": {
    "dotnet_interactive": {
     "language": "fsharp"
    },
    "vscode": {
     "languageId": "fsharp"
    }
   },
   "outputs": [],
   "source": [
    "type Change =\n",
    "| Amount of float\n",
    "| NoChange"
   ]
  },
  {
   "attachments": {},
   "cell_type": "markdown",
   "metadata": {},
   "source": [
    "Pattern matching in functions against these compound discriminated unions is again fairly simple. To get the brand of a `BrandedFood` product, we can define the function `brand`:"
   ]
  },
  {
   "cell_type": "code",
   "execution_count": 17,
   "metadata": {
    "dotnet_interactive": {
     "language": "fsharp"
    },
    "vscode": {
     "languageId": "fsharp"
    }
   },
   "outputs": [],
   "source": [
    "let brand product = \n",
    "    match product with\n",
    "    | Chips p -> p \n",
    "    | Chocolate p -> p \n",
    "    | Candy p -> p  "
   ]
  },
  {
   "cell_type": "code",
   "execution_count": 18,
   "metadata": {
    "dotnet_interactive": {
     "language": "fsharp"
    },
    "vscode": {
     "languageId": "fsharp"
    }
   },
   "outputs": [
    {
     "name": "stdout",
     "output_type": "stream",
     "text": [
      "Brand of belovedChocolate: Wonka\n"
     ]
    }
   ],
   "source": [
    "printfn \"Brand of belovedChocolate: %s\" (brand belovedChocolate)"
   ]
  },
  {
   "attachments": {},
   "cell_type": "markdown",
   "metadata": {},
   "source": [
    "In this function, each case has an associated value represented by the identifier `p`, that is _unwrapped_ from the discriminated union, and returned. \n",
    "\n",
    "Another example:"
   ]
  },
  {
   "cell_type": "code",
   "execution_count": 19,
   "metadata": {
    "dotnet_interactive": {
     "language": "fsharp"
    },
    "vscode": {
     "languageId": "fsharp"
    }
   },
   "outputs": [
    {
     "name": "stdout",
     "output_type": "stream",
     "text": [
      "You are receiving 3.0 $ as change\n"
     ]
    }
   ],
   "source": [
    "let changeValue change =\n",
    "    match change with \n",
    "    | Amount money -> money\n",
    "    | NoChange -> 0 \n",
    "\n",
    "let c = Amount 3 \n",
    "\n",
    "printfn \"You are receiving %A $ as change\" (changeValue c)"
   ]
  },
  {
   "attachments": {},
   "cell_type": "markdown",
   "metadata": {},
   "source": [
    "> Note on how a discriminated union that mix basic types seems to present a kind of divergence in code. The type `Change` combines a wrapped `float` type (with `Amount`) and a pure union type `NoChange`. Since functions need to have specific input and output types, any function that receives a `Change` input has to return a defined output. There usually two possibilities. The first one is that the function flattens  the inputs (such as in the case of `changeValue`), where one gets the float value of the money the user receives. The second one corresponds to a function that  promotes the input types to another one: for example, the trivial case would be a function that prints the amount of money the customer receives, `printChange: Change -> ()`, that is, receives a `Change` and returns `unit`. \n",
    "> This is one of the key ideas behind functional programming, being able to connect different types through functions.\n"
   ]
  },
  {
   "attachments": {},
   "cell_type": "markdown",
   "metadata": {},
   "source": [
    "### Protecting inputs with single discriminated unions\n",
    "\n",
    "The last, but not least, use case of discriminated unions correspond to those ones that only have one term. Let us say that we need to describe the models of the different items in our electronics vending machine. One way to do it is using a _single_ discriminated union:\n"
   ]
  },
  {
   "cell_type": "code",
   "execution_count": 1,
   "metadata": {
    "vscode": {
     "languageId": "fsharp"
    }
   },
   "outputs": [],
   "source": [
    "type Model =\n",
    "| Model of string "
   ]
  },
  {
   "attachments": {},
   "cell_type": "markdown",
   "metadata": {},
   "source": [
    "Then, we can define different models of items:"
   ]
  },
  {
   "cell_type": "code",
   "execution_count": 2,
   "metadata": {
    "vscode": {
     "languageId": "fsharp"
    }
   },
   "outputs": [],
   "source": [
    "let yPhone = Model \"Xtreme 3S\"\n",
    "let miniSpeakers = Model \"Louder Pro\""
   ]
  },
  {
   "attachments": {},
   "cell_type": "markdown",
   "metadata": {},
   "source": [
    "Since the discriminated union is has only one case, there is a short way to unwrap the value inside it:"
   ]
  },
  {
   "cell_type": "code",
   "execution_count": 3,
   "metadata": {
    "vscode": {
     "languageId": "fsharp"
    }
   },
   "outputs": [
    {
     "name": "stdout",
     "output_type": "stream",
     "text": [
      "the model of the yPhone is \"Xtreme 3S\"\n"
     ]
    },
    {
     "data": {
      "text/html": [
       "<null>"
      ]
     },
     "execution_count": 3,
     "metadata": {},
     "output_type": "execute_result"
    }
   ],
   "source": [
    "let (Model yPhoneModel) = yPhone\n",
    "printfn \"The model of the yPhone is %A\" yPhoneModel"
   ]
  },
  {
   "attachments": {},
   "cell_type": "markdown",
   "metadata": {},
   "source": [
    "Looks like there is a lot of pomp in this types, why just not use a simpler `string` instead? The answer is, again, related with functions. Let us define the `printModel` function as:"
   ]
  },
  {
   "cell_type": "markdown",
   "metadata": {},
   "source": [
    "\n",
    "\n",
    "\n",
    "\n",
    "\n",
    "\n",
    "\n",
    "\n",
    "\n",
    "- Say something about validation?\n",
    "\n",
    "\n",
    "\n",
    "\n",
    "\n"
   ]
  },
  {
   "cell_type": "code",
   "execution_count": 6,
   "metadata": {
    "vscode": {
     "languageId": "fsharp"
    }
   },
   "outputs": [],
   "source": [
    "let printModel (model: Model) =\n",
    "    let (Model value) = model \n",
    "    printfn \"The model value is %A\" model "
   ]
  },
  {
   "cell_type": "code",
   "execution_count": 8,
   "metadata": {
    "vscode": {
     "languageId": "fsharp"
    }
   },
   "outputs": [
    {
     "name": "stdout",
     "output_type": "stream",
     "text": [
      "The model value is Model \"Xtreme 3S\"\n",
      "The model value is Model \"Louder Pro\"\n"
     ]
    },
    {
     "data": {
      "text/html": [
       "<null>"
      ]
     },
     "execution_count": 8,
     "metadata": {},
     "output_type": "execute_result"
    }
   ],
   "source": [
    "printModel yPhone\n",
    "printModel miniSpeakers"
   ]
  },
  {
   "attachments": {},
   "cell_type": "markdown",
   "metadata": {},
   "source": [
    "\n",
    "\n",
    "### Wrapping up"
   ]
  },
  {
   "cell_type": "markdown",
   "metadata": {},
   "source": []
  },
  {
   "cell_type": "markdown",
   "metadata": {},
   "source": []
  }
 ],
 "metadata": {
  "kernelspec": {
   "display_name": ".NET (F#)",
   "language": "F#",
   "name": ".net-fsharp"
  },
  "language_info": {
   "file_extension": ".fs",
   "mimetype": "text/x-fsharp",
   "name": "C#",
   "pygments_lexer": "fsharp",
   "version": "4.5"
  },
  "orig_nbformat": 4,
  "vscode": {
   "interpreter": {
    "hash": "1a1af0ee75eeea9e2e1ee996c87e7a2b11a0bebd85af04bb136d915cefc0abce"
   }
  }
 },
 "nbformat": 4,
 "nbformat_minor": 2
}
