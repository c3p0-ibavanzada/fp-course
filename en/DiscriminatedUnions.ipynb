{
 "cells": [
  {
   "attachments": {},
   "cell_type": "markdown",
   "metadata": {},
   "source": [
    "## Discriminated unions\n",
    "\n",
    "One of the key aspects of F\\# (and other functional languages) is that it provides a specific syntax to model those characteristics of inputs and outputs that belong to a well predefined collection. These are called _discriminated unions_. \n",
    "\n",
    "The type for our food `vendingMachine` would be:"
   ]
  },
  {
   "cell_type": "code",
   "execution_count": 7,
   "metadata": {
    "dotnet_interactive": {
     "language": "fsharp"
    },
    "vscode": {
     "languageId": "dotnet-interactive.fsharp"
    }
   },
   "outputs": [],
   "source": [
    "type FoodProduct =\n",
    "    | Chips\n",
    "    | Chocolate\n",
    "    | Candy "
   ]
  },
  {
   "cell_type": "code",
   "execution_count": null,
   "metadata": {
    "dotnet_interactive": {
     "language": "fsharp"
    },
    "vscode": {
     "languageId": "dotnet-interactive.fsharp"
    }
   },
   "outputs": [],
   "source": []
  },
  {
   "attachments": {},
   "cell_type": "markdown",
   "metadata": {},
   "source": [
    "while for the electronics we could have:"
   ]
  },
  {
   "cell_type": "code",
   "execution_count": 8,
   "metadata": {
    "dotnet_interactive": {
     "language": "fsharp"
    },
    "vscode": {
     "languageId": "dotnet-interactive.fsharp"
    }
   },
   "outputs": [],
   "source": [
    "type Electronics = \n",
    "    | Phones\n",
    "    | Speakers\n",
    "    | Headphones"
   ]
  },
  {
   "attachments": {},
   "cell_type": "markdown",
   "metadata": {},
   "source": [
    "> 🔔 It is customary to use `PascalCase` for types (i.e., `FoodProduct`).\n",
    "\n",
    "> ❗️ Case types in a discriminated union should start with an uppercase letter (`Phones`, `Chips`, etc.).\n",
    "\n",
    "In the expressions above we are defining a type with a name (`FoodProduct`, `Electronics`) that can have several  case types. It is important to stress the fact that the cases of each discriminated union type are _disjoint_, that is, can not be accessed at the same time. For example:"
   ]
  },
  {
   "cell_type": "code",
   "execution_count": 9,
   "metadata": {
    "dotnet_interactive": {
     "language": "fsharp"
    },
    "vscode": {
     "languageId": "dotnet-interactive.fsharp"
    }
   },
   "outputs": [],
   "source": [
    "let d = FoodProduct.Chips\n",
    "let s = Electronics.Speakers"
   ]
  },
  {
   "attachments": {},
   "cell_type": "markdown",
   "metadata": {},
   "source": [
    "The languages uses the dot `.` to represent a case of a discriminated union. The value `s` represents of course an speaker, and since it is inmutable, there is no possible way that can be a phone or a headphone. \n",
    "\n",
    "So how can we define functions with discriminated unions? Let us write a function `price` that receives an input of type `Electronics` and gives us the price:"
   ]
  },
  {
   "cell_type": "code",
   "execution_count": 10,
   "metadata": {
    "dotnet_interactive": {
     "language": "fsharp"
    },
    "vscode": {
     "languageId": "dotnet-interactive.fsharp"
    }
   },
   "outputs": [
    {
     "name": "stdout",
     "output_type": "stream",
     "text": [
      "The price of speaker is: 29 $\n"
     ]
    }
   ],
   "source": [
    "let price electronic = \n",
    "    match electronic with \n",
    "    | Phones -> 435\n",
    "    | Speakers -> 29\n",
    "    | Headphones -> 122\n",
    "\n",
    "printfn \"The price of speaker is: %A $\" (price s)    "
   ]
  },
  {
   "attachments": {},
   "cell_type": "markdown",
   "metadata": {},
   "source": [
    "The way one can disaggregate the different cases of an input that is a discriminated union is through _pattern matching_, represented by the construct `match ... with` and then, all the cases. The syntax is pretty straightforward: for each discriminated union case label (after the `|` sign in the construct) the function returns the price as an `int`. \n",
    "\n",
    "Note also that the match should contain _all_ the possible cases of the discriminated union. If one is forgetting some case, the compiler will tell us about with some wiggled underlining at the match. This means that the patter matching is _exhaustive_. \n",
    "\n",
    "Another very important aspect of the pattern matching is that is evaluated _in the order_ is written. \n",
    "\n",
    "But, what if we want to write down a `priceFood` function, and asign a 1.5 price to all the items except Chocolates, that are tagged at a 2.35 price? The language introduces the _wildcard_ symbol that matches _any_ input in the pattern matching construct. The wildcard is represented by the `_` (single underscore) symbol:"
   ]
  },
  {
   "cell_type": "code",
   "execution_count": 11,
   "metadata": {
    "dotnet_interactive": {
     "language": "fsharp"
    },
    "vscode": {
     "languageId": "dotnet-interactive.fsharp"
    }
   },
   "outputs": [
    {
     "name": "stdout",
     "output_type": "stream",
     "text": [
      "Chocolate: 2.35 $\n",
      "Chips: 1.5 $\n",
      "Candy: 1.5 $\n"
     ]
    }
   ],
   "source": [
    "let priceFood food = \n",
    "    match food with \n",
    "    | Chocolate -> 2.35\n",
    "    | _ -> 1.5 \n",
    "\n",
    "printfn \"Chocolate: %A $\" (priceFood FoodProduct.Chocolate)        \n",
    "printfn \"Chips: %A $\" (priceFood FoodProduct.Chips)        \n",
    "printfn \"Candy: %A $\" (priceFood FoodProduct.Candy)        "
   ]
  },
  {
   "attachments": {},
   "cell_type": "markdown",
   "metadata": {},
   "source": [
    "Here we see the interplay between the order evaluation of the pattern matching and the wildcard. We are returning a specific values for _some cases_ (Chocolate), and asign a common value for _the rest of the cases_. When a food `value` is received by `priceFood` it is compared with the `Chocolate` case first. If it is not chocolate, then is get captured by the wildcard pattern. Consider the following example:"
   ]
  },
  {
   "cell_type": "code",
   "execution_count": 12,
   "metadata": {
    "dotnet_interactive": {
     "language": "fsharp"
    },
    "vscode": {
     "languageId": "dotnet-interactive.fsharp"
    }
   },
   "outputs": [
    {
     "name": "stdout",
     "output_type": "stream",
     "text": [
      "Chocolate: 1.5 $\n",
      "Chips: 1.5 $\n",
      "Candy: 1.5 $\n"
     ]
    }
   ],
   "source": [
    "let priceSale food = \n",
    "    match food with \n",
    "    | _ -> 1.5 \n",
    "    | Chocolate -> 2.35\n",
    "\n",
    "printfn \"Chocolate: %A $\" (priceSale FoodProduct.Chocolate)        \n",
    "printfn \"Chips: %A $\" (priceSale FoodProduct.Chips)        \n",
    "printfn \"Candy: %A $\" (priceSale FoodProduct.Candy)        "
   ]
  },
  {
   "attachments": {},
   "cell_type": "markdown",
   "metadata": {},
   "source": [
    "Well, everything is \"on sale\" at 1.5! That is because the wildcard captures _any input_ and since it is the first _case_, any food will be at that price. \n",
    "\n",
    "Here again, the compiler behind scenes comes to our rescue. It will let you know that some of the pattern matching rules will not be reached:\n",
    "\n",
    "![This will save you from bankruptcy](../figures/rule_will_never_match.png)\n"
   ]
  },
  {
   "attachments": {},
   "cell_type": "markdown",
   "metadata": {},
   "source": [
    "### Combining discriminated unions and basic types\n",
    "\n",
    "In many cases, the discriminated union construct is not general enough, so one can combine it with basic types. Let us say that we want to identify the brand of each of our items in the vending machines. Since it can accomodate multiple brands of products, we decide that we represent the brand by a `string`. We can expand our `FoodProduct` discriminated union type as:\n"
   ]
  },
  {
   "cell_type": "code",
   "execution_count": 13,
   "metadata": {
    "dotnet_interactive": {
     "language": "fsharp"
    },
    "vscode": {
     "languageId": "dotnet-interactive.fsharp"
    }
   },
   "outputs": [],
   "source": [
    "type BrandedFood =\n",
    "    | Chips of string \n",
    "    | Chocolate of string \n",
    "    | Candy of string "
   ]
  },
  {
   "attachments": {},
   "cell_type": "markdown",
   "metadata": {},
   "source": [
    "Each of the cases of the `BrandedFood` type has now a _value_ of type `string`. The discriminated union makes use of the keyword `of` to associate each case with each value type. One can define identifiers for this compound type as:"
   ]
  },
  {
   "cell_type": "code",
   "execution_count": 14,
   "metadata": {
    "dotnet_interactive": {
     "language": "fsharp"
    },
    "vscode": {
     "languageId": "dotnet-interactive.fsharp"
    }
   },
   "outputs": [],
   "source": [
    "let belovedChocolate = BrandedFood.Chocolate \"Wonka\"\n",
    "let healthyChips = BrandedFood.Chips \"NotALays\"\n",
    "let sourCandy = BrandedFood.Candy \"TearDrops\""
   ]
  },
  {
   "attachments": {},
   "cell_type": "markdown",
   "metadata": {},
   "source": [
    "In the brand example, we choose to combine all the cases with the same basic type, `string`. But, again, one can mix and match. For example, a chocolate can come in different presentations:"
   ]
  },
  {
   "cell_type": "code",
   "execution_count": 15,
   "metadata": {
    "dotnet_interactive": {
     "language": "fsharp"
    },
    "vscode": {
     "languageId": "dotnet-interactive.fsharp"
    }
   },
   "outputs": [],
   "source": [
    "type ChocolatePresentation =\n",
    "| Bar of float  // a chocolate Bar of a given weight\n",
    "| Box of int // a package with a number of chocolate pieces    "
   ]
  },
  {
   "attachments": {},
   "cell_type": "markdown",
   "metadata": {},
   "source": [
    "Or, if we want to model the change money the vending machine returns to the customer, we can define a case where an actual amount is returned, and another one that represents the fact that the client just put the exact money into the machine:"
   ]
  },
  {
   "cell_type": "code",
   "execution_count": 16,
   "metadata": {
    "dotnet_interactive": {
     "language": "fsharp"
    },
    "vscode": {
     "languageId": "dotnet-interactive.fsharp"
    }
   },
   "outputs": [],
   "source": [
    "type Change =\n",
    "| Amount of float\n",
    "| NoChange"
   ]
  },
  {
   "attachments": {},
   "cell_type": "markdown",
   "metadata": {},
   "source": [
    "Pattern matching in functions against these compound discriminated unions is again fairly simple. To get the brand of a `BrandedFood` product, we can define the function `brand`:"
   ]
  },
  {
   "cell_type": "code",
   "execution_count": 17,
   "metadata": {
    "dotnet_interactive": {
     "language": "fsharp"
    },
    "vscode": {
     "languageId": "dotnet-interactive.fsharp"
    }
   },
   "outputs": [],
   "source": [
    "let brand product = \n",
    "    match product with\n",
    "    | Chips p -> p \n",
    "    | Chocolate p -> p \n",
    "    | Candy p -> p  "
   ]
  },
  {
   "cell_type": "code",
   "execution_count": 18,
   "metadata": {
    "dotnet_interactive": {
     "language": "fsharp"
    },
    "vscode": {
     "languageId": "dotnet-interactive.fsharp"
    }
   },
   "outputs": [
    {
     "name": "stdout",
     "output_type": "stream",
     "text": [
      "Brand of belovedChocolate: Wonka\n"
     ]
    }
   ],
   "source": [
    "printfn \"Brand of belovedChocolate: %s\" (brand belovedChocolate)"
   ]
  },
  {
   "attachments": {},
   "cell_type": "markdown",
   "metadata": {},
   "source": [
    "In this function, each case has an associated value represented by the identifier `p`, that is _unwrapped_ from the discriminated union, and returned. \n",
    "\n",
    "Another example:"
   ]
  },
  {
   "cell_type": "code",
   "execution_count": 19,
   "metadata": {
    "dotnet_interactive": {
     "language": "fsharp"
    },
    "vscode": {
     "languageId": "dotnet-interactive.fsharp"
    }
   },
   "outputs": [
    {
     "name": "stdout",
     "output_type": "stream",
     "text": [
      "You are receiving 3.0 $ as change\n"
     ]
    }
   ],
   "source": [
    "let changeValue change =\n",
    "    match change with \n",
    "    | Amount money -> money\n",
    "    | NoChange -> 0 \n",
    "\n",
    "let c = Amount 3 \n",
    "\n",
    "printfn \"You are receiving %A $ as change\" (changeValue c)"
   ]
  },
  {
   "attachments": {},
   "cell_type": "markdown",
   "metadata": {},
   "source": [
    "> Note on how a discriminated union that mix types presents a kind of divergence in code. This is refered to inputs and outputs: if a function receives one of these du as an input, it needs to wrap the du type into another type, because it is not possible for a function to return the wrapped value of a du, since it can be different types. "
   ]
  },
  {
   "attachments": {},
   "cell_type": "markdown",
   "metadata": {},
   "source": [
    "### Protecting inputs with single discriminated unions"
   ]
  },
  {
   "cell_type": "markdown",
   "metadata": {},
   "source": []
  },
  {
   "cell_type": "markdown",
   "metadata": {},
   "source": [
    "\n",
    "\n",
    "\n",
    "\n",
    "\n",
    "\n",
    "\n",
    "\n",
    "\n",
    "- Say something about validation?\n",
    "\n",
    "\n",
    "\n",
    "\n",
    "\n"
   ]
  },
  {
   "attachments": {},
   "cell_type": "markdown",
   "metadata": {},
   "source": [
    "#### Comment on FP vs OOP ?\n",
    "\n",
    "\n",
    " \n",
    "On the contrary, methods in a class are designed to change (that is, _mutate_) values of an instance of that class. \n",
    "[FP vs OP](https://betterprogramming.pub/functional-programming-vs-object-oriented-programming-why-you-dont-need-to-choose-29820f89f348)\n",
    "\n",
    "We also presented the primitive types as an example, but to program with a reasonable chance of success, it is necessary for the language to be able to aggregate different primitive types in more complex ones. In the case of object oriented languages, one builds a hierarchy of classes that represent the domain one is working on. Those classes encapsulate not only data (that is described in types) but also their associated behavior through methods. In the case of functional F\\#, and other functional languages, there is no need to attach behavior to types.\n",
    "\n",
    "\n",
    "\n",
    "\n",
    "\n",
    "#### Thinking with types\n",
    "\n",
    "As said before, almost all programming languages provide an idea of aggregating simple types (strings, bools, ints, etc.) into more complex ones, which is needed to properly describe a domain. The basic data of a user (name, email, etc.) can be put together in a type, the email data (to, from, subject, text, etc.) in another one and so on. Combining these new types one can generate more and more complex ones, until you can build, for example, all the types needed for an email application. \n",
    "\n",
    "One of the most important steps in programming is to study the domain one is working on, and to fully understand how one can describe that domain with data and the processes that manage those data. In object oriented programming one is allowed (even required) to glue related processes and data together in classes. In functional programming one focuses on how processes (that is, functions) relate different kinds of data (that is, types). Since data in functional programming is inmutable and functions create outputs from inputs, one needs to identify the processes of our domain and distill them into functions, with proper inputs and outputs, in such a way that one can combine those functions together by composing them properly. Therefore, the analysis of a process and it conversion into functions not only requires to define the rules and the logic of the creation of outputs from inputs, buy more importantly, to adequate stablish those inputs and outputs such that composition of functions can be used (see again this [beautiful picture example](https://mathinsight.org/function_machine_composition)).\n",
    "\n",
    "Functional programming languages typically define two kinds of aggregate types: product types and sum types. Product types \n",
    "\n",
    "#### Product type: Records\n",
    "\n"
   ]
  },
  {
   "attachments": {},
   "cell_type": "markdown",
   "metadata": {},
   "source": [
    "\n",
    "\n",
    "#### Sum type: Discriminated unions"
   ]
  },
  {
   "cell_type": "markdown",
   "metadata": {},
   "source": []
  },
  {
   "cell_type": "markdown",
   "metadata": {},
   "source": []
  }
 ],
 "metadata": {
  "kernelspec": {
   "display_name": ".NET (C#)",
   "language": "C#",
   "name": ".net-csharp"
  },
  "language_info": {
   "file_extension": ".cs",
   "mimetype": "text/x-csharp",
   "name": "C#",
   "pygments_lexer": "csharp",
   "version": "9.0"
  },
  "orig_nbformat": 4,
  "vscode": {
   "interpreter": {
    "hash": "1a1af0ee75eeea9e2e1ee996c87e7a2b11a0bebd85af04bb136d915cefc0abce"
   }
  }
 },
 "nbformat": 4,
 "nbformat_minor": 2
}
