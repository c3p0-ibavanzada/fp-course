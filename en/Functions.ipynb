{
 "cells": [
  {
   "cell_type": "markdown",
   "metadata": {},
   "source": [
    "## Functions everywhere\n",
    "\n",
    "F\\# is mainly a functional language, where _functions_ play a major role. In the precedent section we have seen that everything in F\\# is an expression, and that there are no variables whatsoever. \n",
    "\n",
    "Functions in a functional language borrow many of the properties of their mathematical siblings. "
   ]
  },
  {
   "cell_type": "markdown",
   "metadata": {},
   "source": [
    "### Functions in math\n",
    "\n",
    "Let us recall that a function in math is just a relation of some sort from one set of values to another set of values. Not every possible relation is a function in math, though. For a relation to be a function from a set _A_ to a set _B_ , it needs to relate every element of _A_ with an element of _B_. \n",
    "For example, the relation _age_ that gives the age of a person is a function: every living person has an age, there are many humans with the same age, but there are no humans with age 200 years. \n",
    "The relation _discount_ that gives you a discount price of a product on sale is also a function: for every product on sale you get a discounted price, there can be many products with the same discount price, and probably you will not find a product with a discount price of 0\\$ (there is no free beer...)\n",
    "\n",
    "Going back to math, _next_, the relation that for an integer number gives you the next number  is a function. Usually it is annotated as:\n",
    "\n",
    "$\n",
    "f(x) = x + 1 \n",
    "$\n",
    "\n",
    "and in F\\#:"
   ]
  },
  {
   "cell_type": "code",
   "execution_count": 2,
   "metadata": {
    "dotnet_interactive": {
     "language": "fsharp"
    },
    "vscode": {
     "languageId": "dotnet-interactive.fsharp"
    }
   },
   "outputs": [],
   "source": [
    "let next x = x + 1"
   ]
  },
  {
   "cell_type": "markdown",
   "metadata": {},
   "source": []
  }
 ],
 "metadata": {
  "kernelspec": {
   "display_name": ".NET (C#)",
   "language": "C#",
   "name": ".net-csharp"
  },
  "language_info": {
   "file_extension": ".cs",
   "mimetype": "text/x-csharp",
   "name": "C#",
   "pygments_lexer": "csharp",
   "version": "9.0"
  },
  "orig_nbformat": 4,
  "vscode": {
   "interpreter": {
    "hash": "aee8b7b246df8f9039afb4144a1f6fd8d2ca17a180786b69acc140d282b71a49"
   }
  }
 },
 "nbformat": 4,
 "nbformat_minor": 2
}
