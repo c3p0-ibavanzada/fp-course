{
 "cells": [
  {
   "cell_type": "markdown",
   "metadata": {
    "dotnet_interactive": {
     "language": "fsharp"
    }
   },
   "source": [
    "## Fundamentals\n",
    "\n",
    "### In preparation for take off\n",
    "\n",
    "These guides are oriented to those progammers interested in learning some concepts on functional programming, from a practical perspective. F\\# is an excelent _first_ functional programming language: it is functional (of course), it has a clean and readable syntax (not a lot of fancy symbols and stuff), it is flexible (in case you need to grasp some other paradigm in the middle of your code) and it is concise enough to express your ideas with clarity. \n",
    "\n",
    "Learning a new language _and_ a new programming paradigm is a wonderful adventure. You do not need any special preparation, although I assume that the reader has some background in at least one popular language (let us say C, Python, Java or JavaScript, for example). Hope you enjoy your journey as much as I did when I started with F\\# a few years ago. Rembember to code and make mistakes, for there is where the learning transforms. \n",
    "\n",
    "F\\#, as every other computer language, has it own syntax and peculiarities that one needs to understand. But learning the functional paradigm requires to set aside a few concepts that one is very fond of and uses in everyday coding in imperative or object oriented languages. \n",
    "\n",
    "> This difference has profound roots at the very origin of computing science.\n",
    "> In the beginning, there where two mutually equivalent approaches to formal computing, one developed by Alan Turing with his [computing machine](https://londmathsoc.onlinelibrary.wiley.com/doi/epdf/10.1112/plms/s2-42.1.230), while the other one was worked out by Alonzo Church with his [lambda calculus](https://www.jstor.org/stable/2371045?origin=crossref&seq=10#metadata_info_tab_contents). Both approaches evolved in parallel, and gave rise to different branches of programming styles. \n",
    "> Functional programming is by no means new. LISP, the first functional programming language appeared in 1958, just a year shy of its \n",
    "> imperative counterpart, Fortran.\n",
    "> \n",
    "> In a very loose sense, learning a functional language is like travelling in time, going back through the imperative branch of  programming and taking the other exit in the roundabout.\n",
    "\n",
    "Even though you do not finally adopt the functional paradigm, adding a new language style to your assets will give you the experience to revisit old programming habits with new eyes, giving a deeper understanding, and more fine tuning to your code. You will become a better programmer, definetly!\n",
    "\n",
    "F\\# is one of the languages provided by the .NET framework (together with C# and Visual Basic). As such, F\\# is tighly integrated with all the tools and libraries that .NET provides. In this sense, and __only for pedagogical purposes__, I will view .NET as the set of libraries that one can use to enhance your code. In other words, I will stay away from using them, and focusing in the core features of F\\# as a functional language. From Web programming to Machine Learning, from databases to windows, .NET has everything you need to make your programming a better experience, once you know the core features F\\# provides. \n",
    "\n",
    "> If you are a C# programmer, you will probably get a better mileage going into some of the excellent resources of F\\# for C# coders, such as [Get programming with F\\#](https://www.manning.com/books/get-programming-with-f-sharp#:~:text=about%20the%20book-,Get%20Programming%20with%20F%23%3A%20A%20guide%20for%20.,of%20functional%20programming%20in%20F%23.) \n"
   ]
  },
  {
   "cell_type": "markdown",
   "metadata": {
    "dotnet_interactive": {
     "language": "fsharp"
    }
   },
   "source": [
    "## Tools\n",
    "\n",
    "All this series is written as [Jupyter notebooks](https://jupyter.org/). You can grab them at [this github repository](https://github.com/fcolavecchia/fp-course). Instructions on how to set up F\\# as a Notebook kernel can be found __[here]__. \n",
    "\n",
    "This series is about the fundamentals of F\\# programming, and none of the examples need even to install F\\#. You can simply code along in your web browser of your choice, heading to the [Fable REPL](https://fable.io/repl/). Just write your code in the left panel, click the usual play button (or Alt+Enter), and there you go, you are programming in F\\#!. \n",
    "\n",
    "You can also install the F\\# language and use your everyday editor, see instructions __[here]__. \n",
    "\n",
    "Visual Studio Code has a wonderful extension called Ionide to work with F\\#. I personally use JetBrains Rider for my daily coding.\n",
    "\n",
    "> You can also install Visual Studio for Windows or MacOS, if you are familiar with that tool. "
   ]
  },
  {
   "cell_type": "markdown",
   "metadata": {},
   "source": []
  },
  {
   "cell_type": "markdown",
   "metadata": {},
   "source": [
    "\n",
    "\n",
    "\n",
    "### `let` the fun begin \n",
    "\n",
    "Any code you write will need data. \n",
    "\n",
    "Any code you write will do _something_ with that data. \n",
    "\n",
    "So the first step in a new language is to learn how to define a way to hold your data, and how to transform it along the code. The former concept usually translates into _variables_ and while the latter one into _routines_, (or any other name, such as procedures, or functions, depending your programming scope). In this way, one uses routines to change the variables, or create other ones, from an order to buy something in a website, to the color of a pixel in your game of choice. \n",
    "\n",
    "\n",
    "\n",
    "\n",
    "\n",
    ">> [A nice thread on reusability of binding names](https://github.com/dotnet/fsharp/issues/9900).\n",
    "\n",
    "\n",
    "\n",
    "\n",
    "\n"
   ]
  },
  {
   "cell_type": "code",
   "execution_count": null,
   "metadata": {
    "dotnet_interactive": {
     "language": "fsharp"
    },
    "vscode": {
     "languageId": "dotnet-interactive.fsharp"
    }
   },
   "outputs": [],
   "source": []
  },
  {
   "cell_type": "markdown",
   "metadata": {},
   "source": [
    "### Functions everywhere"
   ]
  },
  {
   "cell_type": "code",
   "execution_count": 4,
   "metadata": {
    "dotnet_interactive": {
     "language": "fsharp"
    },
    "vscode": {
     "languageId": "dotnet-interactive.fsharp"
    }
   },
   "outputs": [],
   "source": [
    "let foo a b =\n",
    "    a + b"
   ]
  },
  {
   "cell_type": "code",
   "execution_count": null,
   "metadata": {
    "dotnet_interactive": {
     "language": "fsharp"
    },
    "vscode": {
     "languageId": "dotnet-interactive.fsharp"
    }
   },
   "outputs": [],
   "source": [
    "foo 2 3 "
   ]
  },
  {
   "cell_type": "code",
   "execution_count": 5,
   "metadata": {
    "dotnet_interactive": {
     "language": "fsharp"
    },
    "vscode": {
     "languageId": "dotnet-interactive.fsharp"
    }
   },
   "outputs": [
    {
     "ename": "Error",
     "evalue": "input.fsx (1,5)-(1,12) typecheck error This expression was expected to have type\n    'int'    \nbut here has type\n    'string'    \ninput.fsx (1,13)-(1,18) typecheck error This expression was expected to have type\n    'int'    \nbut here has type\n    'string'    ",
     "output_type": "error",
     "traceback": [
      "input.fsx (1,5)-(1,12) typecheck error This expression was expected to have type\n",
      "    'int'    \n",
      "but here has type\n",
      "    'string'    \n",
      "input.fsx (1,13)-(1,18) typecheck error This expression was expected to have type\n",
      "    'int'    \n",
      "but here has type\n",
      "    'string'    "
     ]
    }
   ],
   "source": [
    "foo \"John \" \"Doe\""
   ]
  },
  {
   "cell_type": "markdown",
   "metadata": {
    "dotnet_interactive": {
     "language": "fsharp"
    }
   },
   "source": [
    "### Discriminated unions "
   ]
  },
  {
   "cell_type": "markdown",
   "metadata": {
    "dotnet_interactive": {
     "language": "fsharp"
    }
   },
   "source": [
    "### To be or not to be, that is the option "
   ]
  },
  {
   "cell_type": "markdown",
   "metadata": {},
   "source": [
    "### On Lists"
   ]
  },
  {
   "cell_type": "code",
   "execution_count": null,
   "metadata": {
    "dotnet_interactive": {
     "language": "fsharp"
    },
    "vscode": {
     "languageId": "dotnet-interactive.fsharp"
    }
   },
   "outputs": [],
   "source": [
    "let indexOfAny (text: string) (charList: char list) = \n",
    "    let textList = Seq.toList text \n",
    "    let found = charList\n",
    "                    |> List.map (fun c -> List.tryFindIndex (fun t -> t = c) textList )\n",
    "                    |> List.choose id \n",
    "    match found with\n",
    "    | [] -> -1     \n",
    "    | _ -> List.min found "
   ]
  },
  {
   "cell_type": "markdown",
   "metadata": {},
   "source": [
    "[A nice discussion on indexing pairing al list with indexes](https://stackoverflow.com/questions/71074342/pairing-list-elements-with-indexes)\n",
    "\n",
    "\n"
   ]
  },
  {
   "cell_type": "code",
   "execution_count": null,
   "metadata": {
    "dotnet_interactive": {
     "language": "fsharp"
    },
    "vscode": {
     "languageId": "dotnet-interactive.fsharp"
    }
   },
   "outputs": [],
   "source": [
    "let myIndexed (xs: list<'a>) = \n",
    "    ([0..(xs.Length - 1)], xs)\n",
    "        ||> List.map2 (fun i t -> (i,t))  // This is List.zip"
   ]
  },
  {
   "cell_type": "code",
   "execution_count": null,
   "metadata": {
    "dotnet_interactive": {
     "language": "fsharp"
    },
    "vscode": {
     "languageId": "dotnet-interactive.fsharp"
    }
   },
   "outputs": [],
   "source": [
    "let indexOfAny2 (text: string) (charList: char list) = \n",
    "\n",
    "    // let textList = ([0..text.Length-1], Seq.toList text)\n",
    "    //                 ||> List.map2 (fun i t -> (i,t))\n",
    "\n",
    "    let textList = List.indexed (Seq.toList text)\n",
    "\n",
    "    let found = [ for (i,t) in textList do \n",
    "                    for c in charList do \n",
    "                        if (c = t) then yield i \n",
    "                    ]\n",
    "    \n",
    "    match found with\n",
    "    | [] -> -1     \n",
    "    | _ -> List.min found "
   ]
  },
  {
   "cell_type": "code",
   "execution_count": null,
   "metadata": {
    "dotnet_interactive": {
     "language": "fsharp"
    },
    "vscode": {
     "languageId": "dotnet-interactive.fsharp"
    }
   },
   "outputs": [],
   "source": [
    "let a = 0 "
   ]
  },
  {
   "cell_type": "code",
   "execution_count": null,
   "metadata": {
    "dotnet_interactive": {
     "language": "fsharp"
    },
    "vscode": {
     "languageId": "dotnet-interactive.fsharp"
    }
   },
   "outputs": [],
   "source": [
    "indexOfAny \"zzabyycdxx\" ['z';'a'] |> printfn \"%A\"\n",
    "indexOfAny \"zzabyycdxx\" ['b';'y'] |> printfn \"%A\"\n",
    "indexOfAny \"aba\" ['z'] |> printfn \"%A\"      \n"
   ]
  },
  {
   "cell_type": "code",
   "execution_count": null,
   "metadata": {
    "dotnet_interactive": {
     "language": "fsharp"
    },
    "vscode": {
     "languageId": "dotnet-interactive.fsharp"
    }
   },
   "outputs": [],
   "source": [
    "indexOfAny2 \"zzabyycdxx\" ['z';'a'] |> printfn \"%A\"\n",
    "indexOfAny2 \"zzabyycdxx\" ['b';'y'] |> printfn \"%A\"\n",
    "indexOfAny2 \"aba\" ['z'] |> printfn \"%A\"      \n"
   ]
  }
 ],
 "metadata": {
  "kernelspec": {
   "display_name": ".NET (F#)",
   "language": "F#",
   "name": ".net-fsharp"
  },
  "language_info": {
   "file_extension": ".cs",
   "mimetype": "text/x-csharp",
   "name": "F#",
   "pygments_lexer": "csharp",
   "version": "9.0"
  },
  "orig_nbformat": 4
 },
 "nbformat": 4,
 "nbformat_minor": 2
}
