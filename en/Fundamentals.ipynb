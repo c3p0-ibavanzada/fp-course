{
 "cells": [
  {
   "cell_type": "markdown",
   "metadata": {
    "dotnet_interactive": {
     "language": "fsharp"
    }
   },
   "source": [
    "## Fundamentals\n",
    "\n",
    "### In preparation for take off\n",
    "\n",
    "These guides are oriented to those progammers interested in learning some concepts on functional programming, from a practical perspective. F\\# is an excelent _first_ functional programming language: it is functional (of course), it has a clean and readable syntax (not a lot of fancy symbols and stuff), it is flexible (in case you need to grasp some other paradigm in the middle of your code) and it is concise enough to express your ideas with clarity. \n",
    "\n",
    "Learning a new language _and_ a new programming paradigm is a wonderful adventure. You do not need any special preparation, although I assume that the reader has some background in at least one popular language (let us say C, Python, Java or JavaScript, for example). Hope you enjoy your journey as much as I did when I started with F\\# a few years ago. Rembember to code and make mistakes, for there is where the learning transforms. \n",
    "\n",
    "F\\#, as every other computer language, has it own syntax and peculiarities that one needs to understand. But learning the functional paradigm requires to set aside a few concepts that one is very fond of and uses in everyday coding in imperative or object oriented languages. \n",
    "\n",
    "> This difference has profound roots at the very origin of computing science.\n",
    "> In the beginning, there where two mutually equivalent approaches to formal computing, one developed by Alan Turing with his [computing machine](https://londmathsoc.onlinelibrary.wiley.com/doi/epdf/10.1112/plms/s2-42.1.230), while the other one was worked out by Alonzo Church with his [lambda calculus](https://www.jstor.org/stable/2371045?origin=crossref&seq=10#metadata_info_tab_contents). Both approaches evolved in parallel, and gave rise to different branches of programming styles. \n",
    "> Functional programming is by no means new. LISP, the first functional programming language appeared in 1958, just a year shy of its \n",
    "> imperative counterpart, Fortran.\n",
    "> \n",
    "> In a very loose sense, learning a functional language is like travelling in time, going back through the imperative branch of  programming and taking the other exit in the roundabout.\n",
    "\n",
    "Even though you do not finally adopt the functional paradigm, adding a new language style to your assets will give you the experience to revisit old programming habits with new eyes, giving a deeper understanding, and more fine tuning to your code. You will become a better programmer, definetly!\n",
    "\n",
    "F\\# is one of the languages provided by the .NET framework (together with C# and Visual Basic). As such, F\\# is tighly integrated with all the tools and libraries that .NET provides. In this sense, and __only for pedagogical purposes__, I will view .NET as the set of libraries that one can use to enhance your code. In other words, I will stay away from using them, and focusing in the core features of F\\# as a functional language. From Web programming to Machine Learning, from databases to windows, .NET has everything you need to make your programming a better experience, once you know the core features F\\# provides. \n",
    "\n",
    "> If you are a C# programmer, you will probably get a better mileage going into some of the excellent resources of F\\# for C# coders, such as [Get programming with F\\#](https://www.manning.com/books/get-programming-with-f-sharp#:~:text=about%20the%20book-,Get%20Programming%20with%20F%23%3A%20A%20guide%20for%20.,of%20functional%20programming%20in%20F%23.) \n",
    "See the Resources section for more information.\n"
   ]
  },
  {
   "cell_type": "markdown",
   "metadata": {
    "dotnet_interactive": {
     "language": "fsharp"
    }
   },
   "source": [
    "## Tools\n",
    "\n",
    "This series is about the fundamentals of F\\# programming, and none of the examples need even to install F\\#. You can simply code along in your web browser of your choice, heading to the [Fable REPL](https://fable.io/repl/). Just write your code in the left panel, click the usual play button (or Alt+Enter), and there you go, you are programming in F\\#!.\n",
    "\n",
    "You can also install the F\\# language and use your everyday editor, see instructions __[here]__. \n",
    "\n",
    "Besides, all this series is written as [Jupyter notebooks](https://jupyter.org/). You can grab them at [this github repository](https://github.com/fcolavecchia/fp-course). Instructions on how to set up F\\# as a Notebook kernel can be found __[here]__. \n",
    "\n",
    "[Visual Studio Code](https://code.visualstudio.com/) has a wonderful extension called [Ionide](https://ionide.io/Editors/Code/overview.html) to work with F\\#. I personally use JetBrains Rider for my daily coding.\n",
    "\n",
    "You can also use F\\# with Visual Studio for Windows or MacOS, if you are familiar with that tool. \n",
    "\n",
    "Moreover, if you want to code F\\# with `vim`, [Ionide gets you covered](https://ionide.io/Editors/Vim/overview.html)."
   ]
  },
  {
   "cell_type": "markdown",
   "metadata": {},
   "source": []
  },
  {
   "attachments": {},
   "cell_type": "markdown",
   "metadata": {},
   "source": [
    "## So what is a function anyway?\n",
    "\n",
    "Since we are about to learn functional programming, we need to agree in what a _function_ is in this context. Let us start with a set of entities, for example, the cars parked in a given block of a street. One can identify each car by its license plate, and then build a table with two columns: the first one with the license plate, and the second one with the corresponding the color of each car:\n",
    "\n",
    "| Lic. Plate | Color         | \n",
    "| :----------: |:-------------:|\n",
    "| ABC 124 | black |\n",
    "| DEF 350 | red   |\n",
    "| QRZ 441 | black |\n",
    "| JPG 255 | white | \n",
    "\n",
    "That's a function that we can call `carColor`, that associates each car of the block with its color. The table is a representation of that function. A function from a set of entities A to a set of entities B is then a relation that associates elements between the sets A and B, with the property that each and every element of A has a one and only one corresponding element of B. \n",
    "\n",
    "There are two things to note. First, a function is defined _from_ one set _to_ another set, in our example, from the set of license plates to the set of colors. To get the color of a particular car, you go to the table representation of the function, look up the plate in the column of license plates, and get the color from the second column. With this in mind, one can identify the _from_ set as the _input_ of the function, while the _to_ set is the _output_. \n",
    "\n",
    "Second, all elements of the input must relate to some element in the output set. In our example, every car in the block has a color assigned in the table. This means that there cannot be empty cells in the second column of our table. \n",
    "\n",
    "> ❓ Can you come up with more examples of functions in the real world? \n",
    "\n",
    "In math, functions are ubiquitous. Let us assume that $x$ is an integer, and define the function \n",
    "$$\n",
    "f(x) = x + 1 , \n",
    "$$\n",
    "that is, the function that returns the value $x$ plus one. The input set (which is called the _domain_ of the function in math) is the set of all integer values, $\\mathbb{Z}$, while the output set (the _codomain_ in math) is also $\\mathbb{Z}$. Using the _arrow_ notation, the complete definition of the function would be\n",
    "$$\n",
    "f: \\mathbb{Z} \\rightarrow \\mathbb{N} \\cup \\{0\\} / x \\mapsto x + 1 \n",
    "$$\n",
    "Or in english, $f$ is a function from $\\mathbb{Z}$ to $\\mathbb{Z}$ such that $f$ of $x$ is $x + 1$.\n",
    "\n",
    "> 🔔 A slight detour around the codomain. The codomain is the set of entities where the function can possibly map input values. For example, in the case of the color of the cars, the codomain is simply all the possible colors. In many cases that information is too general, and it is convenient to define the _range_ of the function, which is the set of actual values of outputs the function maps inputs into. The _range_ in the cars example is the set {black, red, white}.\n",
    "\n",
    "### Multiple inputs and outputs\n",
    "\n",
    "Let us take the example of a vending machine. In a vending machine, products are arranged in shelves, where each shelf is named by a letter. In each shelf, the products are aligned and identified by a number. Then, in A1 you have a bag of chips, in A2 a chocolate, in B1 a soda, and so on. The machine also has a keyboard with letters and numbers for you to choose the product. To buy something, you need to give the machine some money (coins, bills, credit card, etc), select the product by clicking the letter and the number on the keyboard. The machine returns the product and some cashback, if any. \n",
    "The inputs of our `vendingMachine` function are the money, the letter and the number you selected, and the outputs are the product and \n",
    "the cashback (if any). \n",
    "\n",
    "An example from math could be a translation function, where given a point with coordinates $x$ and $y$ in the plane, it returns a point with coordinates $x+1$ and $y+1$.  \n",
    "\n",
    "> \n",
    "\n",
    "### Composition \n",
    " \n",
    "\n",
    "\n",
    "The example of the friends, names, and initials.\n",
    "\n"
   ]
  },
  {
   "cell_type": "markdown",
   "metadata": {},
   "source": [
    "Binding functions\n",
    "\n",
    "Functions with many arguments\n"
   ]
  },
  {
   "cell_type": "markdown",
   "metadata": {},
   "source": [
    "\n",
    "\n",
    "\n",
    "### `let` the fun begin \n",
    "\n",
    "Any code you write will need data. \n",
    "\n",
    "Any code you write will do _something_ with that data. \n",
    "\n",
    "So the first step in a new language is to learn how to define a way to hold your data, and how to transform it along the prgram. The former concept usually translates into _variables_ and while the latter one into _routines_, (or any other name, such as procedures, or functions, depending your programming scope). In this way, one uses routines to change the variables, or create other ones, from an order to buy something in a website, to the color of a pixel in your game of preference. \n",
    "\n",
    "But let us go back and start with _expressions_. An expression is an ordered set of symbols that may represent different entities in the code. Pretty much like a sentence in a human language, an expression has to have a valid syntax (nobody will understand me if I use the. period wrong.) and also has to be meaningful (I a example for if me nobody of sentence sort the understand will words). The compiler, however, is much more strict with the rules and does not allow such poems. Why? Because the compiler needs to grab the expression, process it and obtain a _value_. So the value is the result of the evaluation of an expression. \n",
    "\n",
    "And since every expression results in a value, one needs to manage all these values that will be appearing as the code runs, identify and use them as one sees fit. To that end, F\\# uses several _keywords_, and one of them is the `let`. \n",
    "\n",
    "In F\\# one says that `let` _binds_ an expression to an identifier. For example\n"
   ]
  },
  {
   "cell_type": "code",
   "execution_count": 34,
   "metadata": {
    "dotnet_interactive": {
     "language": "fsharp"
    },
    "vscode": {
     "languageId": "fsharp"
    }
   },
   "outputs": [],
   "source": [
    "// My first line in F# \n",
    "let a = 1 "
   ]
  },
  {
   "cell_type": "markdown",
   "metadata": {},
   "source": [
    "binds the literal expression `1` to the name `a`. On the right hand side of the `=` symbol (that acts here as a binding operator), one can have any valid expression:"
   ]
  },
  {
   "cell_type": "code",
   "execution_count": 35,
   "metadata": {
    "dotnet_interactive": {
     "language": "fsharp"
    },
    "vscode": {
     "languageId": "fsharp"
    }
   },
   "outputs": [],
   "source": [
    "let a = 1 + 3\n",
    "let s = \"this is a string\" \n",
    "let l = [1 ; 2 ; 3] // A list of integers "
   ]
  },
  {
   "cell_type": "markdown",
   "metadata": {},
   "source": [
    "and so on. Of course one can associate a previous binding with a new one through an expression:"
   ]
  },
  {
   "cell_type": "code",
   "execution_count": 40,
   "metadata": {
    "dotnet_interactive": {
     "language": "fsharp"
    },
    "vscode": {
     "languageId": "fsharp"
    }
   },
   "outputs": [
    {
     "name": "stdout",
     "output_type": "stream",
     "text": [
      "8\n"
     ]
    }
   ],
   "source": [
    "let b = a + 4 "
   ]
  },
  {
   "cell_type": "markdown",
   "metadata": {},
   "source": [
    "In the line above, we add four to `a` and bind the result of this expression to the `b` identifier. "
   ]
  },
  {
   "cell_type": "markdown",
   "metadata": {},
   "source": [
    "### Inmutability\n",
    "\n",
    "However, you cannot bind an expression to an identifier that has already been used:"
   ]
  },
  {
   "cell_type": "code",
   "execution_count": null,
   "metadata": {
    "dotnet_interactive": {
     "language": "fsharp"
    },
    "vscode": {
     "languageId": "fsharp"
    }
   },
   "outputs": [
    {
     "ename": "Error",
     "evalue": "input.fsx (2,5)-(2,6) typecheck error Duplicate definition of value 'q'",
     "output_type": "error",
     "traceback": [
      "input.fsx (2,5)-(2,6) typecheck error Duplicate definition of value 'q'"
     ]
    }
   ],
   "source": [
    "let q = 3\n",
    "let q = q + 1"
   ]
  },
  {
   "cell_type": "markdown",
   "metadata": {},
   "source": [
    "which answers why one does not use _variables_ in F\\#: once the value of an expression is obtained, it cannot be changed. In other words, all the values are _immutable_: once there, they cannot be changed. There are no variables in the language, because there is nothing to _vary_. You can create as many values as you want, but you cannot change them: \n"
   ]
  },
  {
   "cell_type": "code",
   "execution_count": 42,
   "metadata": {
    "dotnet_interactive": {
     "language": "fsharp"
    },
    "vscode": {
     "languageId": "fsharp"
    }
   },
   "outputs": [],
   "source": [
    "let q = 3\n",
    "let qq = q + 1"
   ]
  },
  {
   "cell_type": "markdown",
   "metadata": {},
   "source": [
    "> ❗️ There are some cases where one can use the same identifier, see this "
   ]
  },
  {
   "cell_type": "markdown",
   "metadata": {},
   "source": [
    "The implications of this are deep and it is very important to let the concept mature and sink in, because it percolates all the code in F\\# (and any other functional language). In some way, since everything is an expression, coding in F\\# is mananging the expressions that solve our problem. You name an expression (that is, you bind it to an identifier), use it in another expression, bind its value to a new identifier and so on an so on.\n",
    "\n",
    "The perspective of a code as a long list of `let` bindings is kind of daunting. That is where functions come in."
   ]
  },
  {
   "cell_type": "markdown",
   "metadata": {},
   "source": [
    "### Resources\n",
    "\n",
    "\n",
    "\n",
    "\n",
    "\n",
    "\n",
    "\n",
    "\n",
    "\n",
    ">> [A nice thread on reusability of binding names](https://github.com/dotnet/fsharp/issues/9900).\n",
    "\n",
    "\n",
    "\n",
    "\n",
    "\n"
   ]
  },
  {
   "cell_type": "code",
   "execution_count": 8,
   "metadata": {
    "vscode": {
     "languageId": "fsharp"
    }
   },
   "outputs": [],
   "source": [
    "let demo () = \n",
    "    let x = 7  \n",
    "    let x = x + 3\n",
    "    printfn \"The x is %d\" x"
   ]
  },
  {
   "cell_type": "code",
   "execution_count": 9,
   "metadata": {
    "vscode": {
     "languageId": "fsharp"
    }
   },
   "outputs": [
    {
     "name": "stdout",
     "output_type": "stream",
     "text": [
      "The x is 10\n"
     ]
    },
    {
     "data": {
      "text/html": [
       "<null>"
      ]
     },
     "execution_count": 9,
     "metadata": {},
     "output_type": "execute_result"
    }
   ],
   "source": [
    "demo()"
   ]
  },
  {
   "cell_type": "markdown",
   "metadata": {},
   "source": []
  },
  {
   "cell_type": "code",
   "execution_count": 33,
   "metadata": {
    "dotnet_interactive": {
     "language": "fsharp"
    },
    "vscode": {
     "languageId": "fsharp"
    }
   },
   "outputs": [
    {
     "name": "stdout",
     "output_type": "stream",
     "text": [
      "12345678910"
     ]
    }
   ],
   "source": [
    "let x4 = for i in [1..10]\n",
    "          do printf \"%i\" i"
   ]
  },
  {
   "cell_type": "code",
   "execution_count": 32,
   "metadata": {
    "dotnet_interactive": {
     "language": "fsharp"
    },
    "vscode": {
     "languageId": "fsharp"
    }
   },
   "outputs": [
    {
     "data": {
      "text/plain": [
       "I a example for if me nobody of sentence sort the understand will words"
      ]
     },
     "metadata": {},
     "output_type": "display_data"
    }
   ],
   "source": [
    "let c = \"nobody will understand me I a example for if of sentence sort the words\"\n",
    "let q = c.Split(' ')\n",
    "Array.sort q \n",
    "|> String.concat \" \""
   ]
  },
  {
   "cell_type": "code",
   "execution_count": 47,
   "metadata": {
    "dotnet_interactive": {
     "language": "fsharp"
    },
    "vscode": {
     "languageId": "fsharp"
    }
   },
   "outputs": [],
   "source": [
    "let p = 5"
   ]
  },
  {
   "cell_type": "code",
   "execution_count": 48,
   "metadata": {
    "dotnet_interactive": {
     "language": "fsharp"
    },
    "vscode": {
     "languageId": "fsharp"
    }
   },
   "outputs": [
    {
     "name": "stdout",
     "output_type": "stream",
     "text": [
      "5\n"
     ]
    }
   ],
   "source": [
    "printfn \"%A\" p "
   ]
  },
  {
   "cell_type": "code",
   "execution_count": 45,
   "metadata": {
    "dotnet_interactive": {
     "language": "fsharp"
    },
    "vscode": {
     "languageId": "fsharp"
    }
   },
   "outputs": [
    {
     "name": "stdout",
     "output_type": "stream",
     "text": [
      "6\n"
     ]
    }
   ],
   "source": [
    "let p = 6\n",
    "printfn \"%A\" p "
   ]
  },
  {
   "cell_type": "markdown",
   "metadata": {},
   "source": [
    "### Functions everywhere"
   ]
  },
  {
   "cell_type": "markdown",
   "metadata": {},
   "source": [
    "Looks like one can reuse the binding name in different cells, provided one runs in the current order. Same value on one cell are not allowed, though."
   ]
  },
  {
   "cell_type": "code",
   "execution_count": 16,
   "metadata": {
    "dotnet_interactive": {
     "language": "fsharp"
    },
    "vscode": {
     "languageId": "fsharp"
    }
   },
   "outputs": [],
   "source": [
    "let foo (a:string) b =\n",
    "    a + b\n",
    "   "
   ]
  },
  {
   "cell_type": "code",
   "execution_count": 17,
   "metadata": {
    "dotnet_interactive": {
     "language": "fsharp"
    },
    "vscode": {
     "languageId": "fsharp"
    }
   },
   "outputs": [
    {
     "ename": "Error",
     "evalue": "input.fsx (2,13)-(2,14) typecheck error This expression was expected to have type\n    'string'    \nbut here has type\n    'int'    \ninput.fsx (2,15)-(2,16) typecheck error This expression was expected to have type\n    'string'    \nbut here has type\n    'int'    ",
     "output_type": "error",
     "traceback": [
      "input.fsx (2,13)-(2,14) typecheck error This expression was expected to have type\n",
      "    'string'    \n",
      "but here has type\n",
      "    'int'    \n",
      "input.fsx (2,15)-(2,16) typecheck error This expression was expected to have type\n",
      "    'string'    \n",
      "but here has type\n",
      "    'int'    "
     ]
    }
   ],
   "source": [
    "let d = foo \"John \" \"Doe\"\n",
    "let d = foo 2 3 "
   ]
  },
  {
   "cell_type": "code",
   "execution_count": 14,
   "metadata": {
    "dotnet_interactive": {
     "language": "fsharp"
    },
    "vscode": {
     "languageId": "fsharp"
    }
   },
   "outputs": [],
   "source": [
    "let foo (a:int) b =\n",
    "    a + b"
   ]
  },
  {
   "cell_type": "code",
   "execution_count": 15,
   "metadata": {
    "dotnet_interactive": {
     "language": "fsharp"
    },
    "vscode": {
     "languageId": "fsharp"
    }
   },
   "outputs": [],
   "source": [
    "let d = foo 2 3 "
   ]
  },
  {
   "cell_type": "code",
   "execution_count": null,
   "metadata": {
    "dotnet_interactive": {
     "language": "fsharp"
    },
    "vscode": {
     "languageId": "fsharp"
    }
   },
   "outputs": [],
   "source": [
    "let next x = \n",
    "    x + 1 "
   ]
  },
  {
   "cell_type": "markdown",
   "metadata": {
    "dotnet_interactive": {
     "language": "fsharp"
    }
   },
   "source": [
    "### Types\n",
    "\n",
    "#### Product type: Records\n",
    "\n",
    "#### Sum type: Discriminated unions\n",
    "\n"
   ]
  },
  {
   "cell_type": "markdown",
   "metadata": {
    "dotnet_interactive": {
     "language": "fsharp"
    }
   },
   "source": [
    "### To be or not to be, that is the option "
   ]
  },
  {
   "cell_type": "markdown",
   "metadata": {},
   "source": [
    "### On Lists"
   ]
  },
  {
   "cell_type": "code",
   "execution_count": 10,
   "metadata": {
    "dotnet_interactive": {
     "language": "fsharp"
    },
    "vscode": {
     "languageId": "fsharp"
    }
   },
   "outputs": [],
   "source": [
    "let indexOfAny (text: string) (charList: char list) = \n",
    "    let textList = Seq.toList text \n",
    "    let found = charList\n",
    "                    |> List.map (fun c -> List.tryFindIndex (fun t -> t = c) textList )\n",
    "                    |> List.choose id \n",
    "    match found with\n",
    "    | [] -> -1     \n",
    "    | _ -> List.min found "
   ]
  },
  {
   "cell_type": "markdown",
   "metadata": {},
   "source": [
    "[A nice discussion on indexing pairing al list with indexes](https://stackoverflow.com/questions/71074342/pairing-list-elements-with-indexes)\n",
    "\n",
    "\n"
   ]
  },
  {
   "cell_type": "markdown",
   "metadata": {},
   "source": []
  },
  {
   "cell_type": "code",
   "execution_count": 11,
   "metadata": {
    "dotnet_interactive": {
     "language": "fsharp"
    },
    "vscode": {
     "languageId": "fsharp"
    }
   },
   "outputs": [],
   "source": [
    "let myIndexed (xs: list<'a>) = \n",
    "    ([0..(xs.Length - 1)], xs)\n",
    "        ||> List.map2 (fun i t -> (i,t))  // This is List.zip"
   ]
  },
  {
   "cell_type": "code",
   "execution_count": 12,
   "metadata": {
    "dotnet_interactive": {
     "language": "fsharp"
    },
    "vscode": {
     "languageId": "fsharp"
    }
   },
   "outputs": [],
   "source": [
    "let indexOfAny2 (text: string) (charList: char list) = \n",
    "\n",
    "    // let textList = ([0..text.Length-1], Seq.toList text)\n",
    "    //                 ||> List.map2 (fun i t -> (i,t))\n",
    "\n",
    "    let textList = List.indexed (Seq.toList text)\n",
    "\n",
    "    let found = [ for (i,t) in textList do \n",
    "                    for c in charList do \n",
    "                        if (c = t) then yield i \n",
    "                    ]\n",
    "    \n",
    "    match found with\n",
    "    | [] -> -1     \n",
    "    | _ -> List.min found "
   ]
  },
  {
   "cell_type": "code",
   "execution_count": 13,
   "metadata": {
    "dotnet_interactive": {
     "language": "fsharp"
    },
    "vscode": {
     "languageId": "fsharp"
    }
   },
   "outputs": [],
   "source": [
    "let a = 0 "
   ]
  },
  {
   "cell_type": "code",
   "execution_count": 14,
   "metadata": {
    "dotnet_interactive": {
     "language": "fsharp"
    },
    "vscode": {
     "languageId": "fsharp"
    }
   },
   "outputs": [
    {
     "name": "stdout",
     "output_type": "stream",
     "text": [
      "0\n",
      "3\n",
      "-1\n"
     ]
    }
   ],
   "source": [
    "indexOfAny \"zzabyycdxx\" ['z';'a'] |> printfn \"%A\"\n",
    "indexOfAny \"zzabyycdxx\" ['b';'y'] |> printfn \"%A\"\n",
    "indexOfAny \"aba\" ['z'] |> printfn \"%A\"      \n"
   ]
  },
  {
   "cell_type": "code",
   "execution_count": 26,
   "metadata": {
    "dotnet_interactive": {
     "language": "javascript"
    },
    "vscode": {
     "languageId": "fsharp"
    }
   },
   "outputs": [
    {
     "data": {
      "text/plain": [
       "c is:5"
      ]
     },
     "metadata": {},
     "output_type": "display_data"
    },
    {
     "data": {
      "text/plain": [
       "c is:5"
      ]
     },
     "metadata": {},
     "output_type": "display_data"
    },
    {
     "data": {
      "text/plain": [
       "or maybe is: John Doe"
      ]
     },
     "metadata": {},
     "output_type": "display_data"
    },
    {
     "data": {
      "text/plain": [
       "or maybe is: John Doe"
      ]
     },
     "metadata": {},
     "output_type": "display_data"
    },
    {
     "data": {
      "text/plain": [
       "or maybe is: 1"
      ]
     },
     "metadata": {},
     "output_type": "display_data"
    },
    {
     "data": {
      "text/plain": [
       "or maybe is: 1"
      ]
     },
     "metadata": {},
     "output_type": "display_data"
    },
    {
     "data": {
      "text/plain": [
       "or maybe is: 5"
      ]
     },
     "metadata": {},
     "output_type": "display_data"
    },
    {
     "data": {
      "text/plain": [
       "or maybe is: 5"
      ]
     },
     "metadata": {},
     "output_type": "display_data"
    }
   ],
   "source": [
    "#!js\n",
    "// Function to compute the product of p1 and p2\n",
    "function foo_js(a, b) {\n",
    "  return a + b;\n",
    "}\n",
    "\n",
    "// Sum \n",
    "c = foo_js(3,2);\n",
    "console.log('c is:'+c);\n",
    "\n",
    "// Concat\n",
    "c = foo_js(\"John \",\"Doe\")\n",
    "console.log(\"or maybe is: \"+c);\n",
    "\n",
    "// Or something else\n",
    "c = foo_js(true,true)\n",
    "console.log(\"or maybe is: \"+c)\n",
    "\n",
    "// or something weirder \n",
    "c = foo_js(true,4)\n",
    "console.log(\"or maybe is: \"+c)\n",
    "\n",
    "\n"
   ]
  },
  {
   "cell_type": "code",
   "execution_count": 15,
   "metadata": {
    "dotnet_interactive": {
     "language": "fsharp"
    },
    "vscode": {
     "languageId": "fsharp"
    }
   },
   "outputs": [
    {
     "name": "stdout",
     "output_type": "stream",
     "text": [
      "0\n",
      "3\n",
      "-1\n"
     ]
    }
   ],
   "source": [
    "indexOfAny2 \"zzabyycdxx\" ['z';'a'] |> printfn \"%A\"\n",
    "indexOfAny2 \"zzabyycdxx\" ['b';'y'] |> printfn \"%A\"\n",
    "indexOfAny2 \"aba\" ['z'] |> printfn \"%A\"      \n"
   ]
  }
 ],
 "metadata": {
  "kernelspec": {
   "display_name": ".NET (F#)",
   "language": "F#",
   "name": ".net-fsharp"
  },
  "language_info": {
   "file_extension": ".fs",
   "mimetype": "text/x-fsharp",
   "name": "F#",
   "pygments_lexer": "fsharp",
   "version": "4.5"
  },
  "orig_nbformat": 4
 },
 "nbformat": 4,
 "nbformat_minor": 2
}
