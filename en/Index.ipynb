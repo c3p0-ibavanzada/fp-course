{
 "cells": [
  {
   "attachments": {},
   "cell_type": "markdown",
   "metadata": {
    "dotnet_interactive": {
     "language": "fsharp"
    }
   },
   "source": [
    "# Index\n",
    "\n",
    "\n",
    "## Fundamentals\n",
    "\n",
    "## Tools\n",
    "\n",
    "### `let` the fun begin \n",
    "\n",
    "\n",
    "### Inmutability\n",
    "\n",
    "### So what is a function anyway?\n",
    "\n",
    "### Functions in F\\# \n",
    "\n",
    "### Types \n",
    "\n",
    "#### Product type: Records\n",
    "\n",
    "#### Sum type: Discriminated unions\n",
    "\n",
    "### To be or not to be, that is the option \n",
    "\n",
    "### Resources\n",
    "\n",
    "\n",
    "\n",
    "\n",
    "\n",
    "\n",
    "\n",
    "\n",
    "\n",
    ">> [A nice thread on reusability of binding names](https://github.com/dotnet/fsharp/issues/9900).\n",
    "\n",
    "\n",
    "\n",
    "\n",
    "\n"
   ]
  }
 ],
 "metadata": {
  "kernelspec": {
   "display_name": ".NET (F#)",
   "language": "F#",
   "name": ".net-fsharp"
  },
  "language_info": {
   "file_extension": ".fs",
   "mimetype": "text/x-fsharp",
   "name": "F#",
   "pygments_lexer": "fsharp",
   "version": "4.5"
  },
  "orig_nbformat": 4
 },
 "nbformat": 4,
 "nbformat_minor": 2
}
