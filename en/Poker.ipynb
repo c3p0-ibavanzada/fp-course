{
 "cells": [
  {
   "cell_type": "code",
   "execution_count": 1,
   "metadata": {
    "dotnet_interactive": {
     "language": "fsharp"
    },
    "polyglot_notebook": {
     "kernelName": "fsharp"
    },
    "vscode": {
     "languageId": "polyglot-notebook"
    }
   },
   "outputs": [],
   "source": [
    "type CardValue =\n",
    "    | Two | Three | Four | Five | Six | Seven | Eight | Nine | Ten | Jack | Queen | King | Ace\n",
    "\n",
    "type CardSuit =\n",
    "    | Hearts | Diamonds | Clubs | Spades\n",
    "\n",
    "type PokerCard = {\n",
    "    Value: CardValue\n",
    "    Suit: CardSuit\n",
    "}\n",
    "\n",
    "type PokerDeck = PokerCard list\n",
    "\n",
    "let createPokerDeck () =\n",
    "    [ for suit in [Hearts; Diamonds; Clubs; Spades]\n",
    "        do\n",
    "        for value in [Two; Three; Four; Five; Six; Seven; Eight; Nine; Ten; Jack; Queen; King; Ace]\n",
    "            do yield { Value = value; Suit = suit } ]\n",
    "\n",
    "let deck = createPokerDeck ()\n"
   ]
  },
  {
   "attachments": {},
   "cell_type": "markdown",
   "metadata": {
    "dotnet_interactive": {
     "language": "fsharp"
    },
    "polyglot_notebook": {
     "kernelName": "fsharp"
    }
   },
   "source": [
    "Primera versión, loops y `mutable`:"
   ]
  },
  {
   "cell_type": "code",
   "execution_count": 2,
   "metadata": {
    "dotnet_interactive": {
     "language": "fsharp"
    },
    "polyglot_notebook": {
     "kernelName": "fsharp"
    },
    "vscode": {
     "languageId": "polyglot-notebook"
    }
   },
   "outputs": [],
   "source": [
    "let dealHand (deck: PokerDeck) : PokerCard list =\n",
    "    let mutable remainingDeck = deck\n",
    "    let mutable hand = []\n",
    "    for i in 1..5 do\n",
    "        let randomIndex = System.Random().Next(0, remainingDeck.Length)\n",
    "        let card = remainingDeck.[randomIndex]\n",
    "        remainingDeck <- remainingDeck |> List.filter (fun c -> c <> card)\n",
    "        hand <- card :: hand\n",
    "    hand\n"
   ]
  },
  {
   "cell_type": "code",
   "execution_count": null,
   "metadata": {
    "dotnet_interactive": {
     "language": "fsharp"
    },
    "polyglot_notebook": {
     "kernelName": "fsharp"
    },
    "vscode": {
     "languageId": "polyglot-notebook"
    }
   },
   "outputs": [],
   "source": [
    "let deck = createPokerDeck()\n",
    "let hand = dealHand deck\n",
    "printfn \"Hand: %A\" hand\n"
   ]
  },
  {
   "attachments": {},
   "cell_type": "markdown",
   "metadata": {
    "dotnet_interactive": {
     "language": "fsharp"
    },
    "polyglot_notebook": {
     "kernelName": "fsharp"
    }
   },
   "source": [
    "Segunda versión, sin `mutable`, usando recursión:"
   ]
  },
  {
   "cell_type": "code",
   "execution_count": null,
   "metadata": {
    "dotnet_interactive": {
     "language": "fsharp"
    },
    "polyglot_notebook": {
     "kernelName": "fsharp"
    },
    "vscode": {
     "languageId": "polyglot-notebook"
    }
   },
   "outputs": [],
   "source": [
    "let dealHand (deck: PokerDeck) : PokerCard list =\n",
    "    let rec drawCards (deck: PokerDeck) (hand: PokerCard list) (count: int) : PokerCard list * PokerDeck =\n",
    "        match count with\n",
    "        | 0 -> hand, deck\n",
    "        | _ ->\n",
    "            let randomIndex = System.Random().Next(0, deck.Length)\n",
    "            let card = deck.[randomIndex]\n",
    "            let remainingDeck = deck |> List.filter (fun c -> c <> card)\n",
    "            drawCards remainingDeck (card :: hand) (count - 1)\n",
    "    let hand, _ = drawCards deck [] 5\n",
    "    hand\n"
   ]
  },
  {
   "attachments": {},
   "cell_type": "markdown",
   "metadata": {
    "dotnet_interactive": {
     "language": "fsharp"
    },
    "polyglot_notebook": {
     "kernelName": "fsharp"
    }
   },
   "source": [
    "Tercera versión, con `shuffle`:"
   ]
  },
  {
   "cell_type": "code",
   "execution_count": null,
   "metadata": {
    "dotnet_interactive": {
     "language": "fsharp"
    },
    "polyglot_notebook": {
     "kernelName": "fsharp"
    },
    "vscode": {
     "languageId": "polyglot-notebook"
    }
   },
   "outputs": [],
   "source": [
    "let dealHand (deck: PokerDeck) : PokerCard list =\n",
    "    let random = System.Random()\n",
    "    let shuffle (deck: PokerDeck) : PokerDeck =\n",
    "        deck |> List.sortBy (fun _ -> random.Next())\n",
    "    let shuffledDeck = shuffle deck\n",
    "    let cardsToDraw = 5\n",
    "    let selectedCards = shuffledDeck |> List.take cardsToDraw\n",
    "    selectedCards\n"
   ]
  }
 ],
 "metadata": {
  "language_info": {
   "name": "python"
  },
  "orig_nbformat": 4
 },
 "nbformat": 4,
 "nbformat_minor": 2
}
