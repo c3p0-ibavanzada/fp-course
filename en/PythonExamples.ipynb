{
 "cells": [
  {
   "cell_type": "markdown",
   "metadata": {},
   "source": [
    "## The Python way\n",
    "\n",
    "As simple and concise as it is, Python dynamic typing system can be a curse. When the codebase grows larger, finding errors can be pretty difficult. Here are some examples that can be used to compare with the F\\# counterparts."
   ]
  },
  {
   "cell_type": "markdown",
   "metadata": {},
   "source": [
    "### The sum of all fears\n",
    "\n",
    "The rather simple sum (`+`) operand, working on different types can lead to things that are expected (summing two numbers, concatenating two strings), or weird stuff, as we can see in the following cell:"
   ]
  },
  {
   "cell_type": "code",
   "execution_count": 9,
   "metadata": {},
   "outputs": [
    {
     "name": "stdout",
     "output_type": "stream",
     "text": [
      "c is:  5\n",
      "or maybe is:  John Doe\n",
      "or maybe is:  2\n",
      "or maybe is:  5\n"
     ]
    }
   ],
   "source": [
    "def foo(a,b):\n",
    "    return (a + b)\n",
    "\n",
    "# Sum \n",
    "c = foo(3,2)\n",
    "print(\"c is: \",c)\n",
    "\n",
    "# Concat\n",
    "c = foo(\"John \",\"Doe\")\n",
    "print(\"or maybe is: \",c)\n",
    "\n",
    "# Or something else\n",
    "c = foo(True,True)\n",
    "print(\"or maybe is: \",c)\n",
    "\n",
    "# or something weirder \n",
    "c = foo(True,4)\n",
    "print(\"or maybe is: \",c)\n",
    "\n",
    "\n"
   ]
  },
  {
   "cell_type": "markdown",
   "metadata": {},
   "source": [
    "In Python, the `bool` type is a . Then, since `True == 1` and `False == 0`, is perfectly valid to sum booleans, and moreover, sum a `bool` and an `int`."
   ]
  },
  {
   "cell_type": "code",
   "execution_count": 10,
   "metadata": {},
   "outputs": [
    {
     "data": {
      "text/plain": [
       "bool"
      ]
     },
     "execution_count": 10,
     "metadata": {},
     "output_type": "execute_result"
    }
   ],
   "source": [
    "type(True)"
   ]
  },
  {
   "cell_type": "code",
   "execution_count": 13,
   "metadata": {},
   "outputs": [
    {
     "data": {
      "text/plain": [
       "mappingproxy({'__repr__': <slot wrapper '__repr__' of 'bool' objects>,\n",
       "              '__and__': <slot wrapper '__and__' of 'bool' objects>,\n",
       "              '__rand__': <slot wrapper '__rand__' of 'bool' objects>,\n",
       "              '__xor__': <slot wrapper '__xor__' of 'bool' objects>,\n",
       "              '__rxor__': <slot wrapper '__rxor__' of 'bool' objects>,\n",
       "              '__or__': <slot wrapper '__or__' of 'bool' objects>,\n",
       "              '__ror__': <slot wrapper '__ror__' of 'bool' objects>,\n",
       "              '__new__': <function bool.__new__(*args, **kwargs)>,\n",
       "              '__doc__': 'bool(x) -> bool\\n\\nReturns True when the argument x is true, False otherwise.\\nThe builtins True and False are the only two instances of the class bool.\\nThe class bool is a subclass of the class int, and cannot be subclassed.'})"
      ]
     },
     "execution_count": 13,
     "metadata": {},
     "output_type": "execute_result"
    }
   ],
   "source": [
    "bool.__dict__\n",
    "# dir(bool)"
   ]
  },
  {
   "cell_type": "markdown",
   "metadata": {},
   "source": [
    "### Mutability and function passing\n",
    "\n",
    "[See here](https://www.linux.com/training-tutorials/python3-sometimes-immutable-mutable-and-everything-object/#:~:text=Python%20immutable%20objects%2C%20such%20as,behaves%20like%20an%20object%20copying.)\n",
    "\n"
   ]
  },
  {
   "cell_type": "code",
   "execution_count": 18,
   "metadata": {},
   "outputs": [
    {
     "name": "stdout",
     "output_type": "stream",
     "text": [
      "a: 11 at  0x7fbc79121a70\n",
      "x: 10 at  0x7fbc79121a50\n",
      "y: 11 at  0x7fbc79121a70\n"
     ]
    }
   ],
   "source": [
    "def foo1(a):\n",
    "# function block\n",
    "    a += 1\n",
    "    print(\"a:\", a, \"at \",hex(id(a)))\n",
    "    return a\n",
    "# main or caller block\n",
    "x = 10\n",
    "print(\"x:\", x, \"at \",hex(id(x)))\n",
    "\n",
    "y = foo1(x)\n",
    "# value of x is unchanged\n",
    "print(\"x after:\", x, \"at \",hex(id(x)))\n",
    "print(\"y:\", y, \"at \",hex(id(y)))\n"
   ]
  },
  {
   "cell_type": "code",
   "execution_count": 22,
   "metadata": {},
   "outputs": [
    {
     "name": "stdout",
     "output_type": "stream",
     "text": [
      "x: wild at  0x7fbc7e52f1b0\n",
      "a: wildey at  0x7fbc7e5500f0\n",
      "x after: wild at  0x7fbc7e52f1b0\n",
      "y: wildey at  0x7fbc7e5500f0\n"
     ]
    }
   ],
   "source": [
    "def foo1(a):\n",
    "# function block\n",
    "    a = a + \"ey\" \n",
    "    print(\"a:\", a, \"at \",hex(id(a)))\n",
    "    return a\n",
    "# main or caller block\n",
    "x = \"wild\"\n",
    "print(\"x:\", x, \"at \",hex(id(x)))\n",
    "\n",
    "y = foo1(x)\n",
    "# value of x is unchanged\n",
    "print(\"x after:\", x, \"at \",hex(id(x)))\n",
    "print(\"y:\", y, \"at \",hex(id(y)))\n"
   ]
  }
 ],
 "metadata": {
  "kernelspec": {
   "display_name": "Python 3.9.5 ('base')",
   "language": "python",
   "name": "python3"
  },
  "language_info": {
   "codemirror_mode": {
    "name": "ipython",
    "version": 3
   },
   "file_extension": ".py",
   "mimetype": "text/x-python",
   "name": "python",
   "nbconvert_exporter": "python",
   "pygments_lexer": "ipython3",
   "version": "3.9.5"
  },
  "orig_nbformat": 4,
  "vscode": {
   "interpreter": {
    "hash": "3d597f4c481aa0f25dceb95d2a0067e73c0966dcbd003d741d821a7208527ecf"
   }
  }
 },
 "nbformat": 4,
 "nbformat_minor": 2
}
