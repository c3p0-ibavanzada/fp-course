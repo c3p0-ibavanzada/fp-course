{
 "cells": [
  {
   "attachments": {},
   "cell_type": "markdown",
   "metadata": {
    "dotnet_interactive": {
     "language": "csharp"
    },
    "polyglot_notebook": {
     "kernelName": "csharp"
    }
   },
   "source": [
    "## Records\n",
    "\n",
    "Dealing with entities that do not belong to well predefined group of cases.\n",
    "\n",
    "We presented before the need to aggregate useful information of some entities that cannot be restricted to have some specific types, for example, the data of a credit card. \n",
    "\n",
    "Pretty much any high level language provides a way to define such types. In C language one has the `struct` type, in Python a class without methods (or a [named tuple](https://docs.python.org/3/library/collections.html#collections.namedtuple)), etc. This type in F\\# is called a _record_. "
   ]
  },
  {
   "cell_type": "code",
   "execution_count": 1,
   "metadata": {
    "dotnet_interactive": {
     "language": "fsharp"
    },
    "polyglot_notebook": {
     "kernelName": "fsharp"
    },
    "vscode": {
     "languageId": "polyglot-notebook"
    }
   },
   "outputs": [],
   "source": [
    "type CreditCard =\n",
    "    {\n",
    "        HoldersName : string\n",
    "        Number: string\n",
    "        ExpirationDateMonth: uint8 \n",
    "        ExpirationDateYear: uint8 \n",
    "        CVV: uint16\n",
    "    }"
   ]
  },
  {
   "attachments": {},
   "cell_type": "markdown",
   "metadata": {
    "dotnet_interactive": {
     "language": "fsharp"
    },
    "polyglot_notebook": {
     "kernelName": "fsharp"
    }
   },
   "source": [
    "The record uses curly braces to aggregate the different components of the type. Each component has a label (`HoldersName`, `Number`, etc.) and a type associated with it. \n",
    "To create a record, one needs to define all and every component:"
   ]
  },
  {
   "cell_type": "code",
   "execution_count": 4,
   "metadata": {
    "dotnet_interactive": {
     "language": "fsharp"
    },
    "polyglot_notebook": {
     "kernelName": "fsharp"
    },
    "vscode": {
     "languageId": "polyglot-notebook"
    }
   },
   "outputs": [],
   "source": [
    "let doeCard = \n",
    "    {\n",
    "        HoldersName = \"John Doe\"\n",
    "        Number = \"1234 5678 9101 1121\"\n",
    "        ExpirationDateMonth = 12uy\n",
    "        ExpirationDateYear = 23uy \n",
    "        CVV = 111us \n",
    "    }\n"
   ]
  },
  {
   "attachments": {},
   "cell_type": "markdown",
   "metadata": {
    "dotnet_interactive": {
     "language": "fsharp"
    },
    "polyglot_notebook": {
     "kernelName": "fsharp"
    }
   },
   "source": [
    "> 🔔 Note the suffix `uy` for unsigned integers of 8 bits (`uint8`) and `us` for their 16 bits partner (`uint16`)."
   ]
  },
  {
   "attachments": {},
   "cell_type": "markdown",
   "metadata": {
    "dotnet_interactive": {
     "language": "fsharp"
    },
    "polyglot_notebook": {
     "kernelName": "fsharp"
    }
   },
   "source": [
    "Instead of indenting the definition, one can write all the components together, separated by `;`:"
   ]
  },
  {
   "cell_type": "code",
   "execution_count": 7,
   "metadata": {
    "dotnet_interactive": {
     "language": "fsharp"
    },
    "polyglot_notebook": {
     "kernelName": "fsharp"
    },
    "vscode": {
     "languageId": "polyglot-notebook"
    }
   },
   "outputs": [
    {
     "name": "stdout",
     "output_type": "stream",
     "text": [
      "{ HoldersName = \"John Doe\"\n",
      "  Number = \"1234 5678 9101 1121\"\n",
      "  ExpirationDateMonth = 12uy\n",
      "  ExpirationDateYear = 23uy\n",
      "  CVV = 111us }\n"
     ]
    }
   ],
   "source": [
    "let doeFakeCard = { HoldersName = \"John Doe\"; Number = \"1234 5678 9101 1121\"; ExpirationDateMonth = 12uy; ExpirationDateYear = 23uy ; CVV = 111us}\n",
    "\n",
    "printfn \"%A\" doeFakeCard    "
   ]
  },
  {
   "attachments": {},
   "cell_type": "markdown",
   "metadata": {
    "dotnet_interactive": {
     "language": "fsharp"
    },
    "polyglot_notebook": {
     "kernelName": "fsharp"
    }
   },
   "source": [
    "but as one can sees that this is suitable [only for small records](https://learn.microsoft.com/en-us/dotnet/fsharp/style-guide/formatting#formatting-record-expressions).\n",
    "\n",
    "What happens if John Doe's card expires and needs to be replaced by a new one? \n",
    "As with all other values in the language, records are _inmutable_, so it is not possible to update `doeCard` in place. To do that, we need to create another, new value. F\\# provides a way to _copy and update_ a record value, that enables us to change just the components that need to be changed in a record. Assuming that the new card keeps the number (and, of course, the cardholder's name), we would have:"
   ]
  },
  {
   "cell_type": "code",
   "execution_count": 6,
   "metadata": {
    "dotnet_interactive": {
     "language": "fsharp"
    },
    "polyglot_notebook": {
     "kernelName": "fsharp"
    },
    "vscode": {
     "languageId": "polyglot-notebook"
    }
   },
   "outputs": [
    {
     "name": "stdout",
     "output_type": "stream",
     "text": [
      "{ HoldersName = \"John Doe\"\n",
      "  Number = \"1234 5678 9101 1121\"\n",
      "  ExpirationDateMonth = 12uy\n",
      "  ExpirationDateYear = 25uy\n",
      "  CVV = 222us }\n"
     ]
    }
   ],
   "source": [
    "let newDoeCard = \n",
    "    { doeCard with \n",
    "        ExpirationDateMonth = 12uy\n",
    "        ExpirationDateYear = 25uy\n",
    "        CVV = 222us \n",
    "    }\n",
    "\n",
    "printfn \"%A\" newDoeCard    "
   ]
  },
  {
   "attachments": {},
   "cell_type": "markdown",
   "metadata": {
    "dotnet_interactive": {
     "language": "fsharp"
    },
    "polyglot_notebook": {
     "kernelName": "fsharp"
    }
   },
   "source": [
    "One uses again curly braces to express the record type, then the old value `doeCard` that will be updated `with` the components that need to be updated. \n",
    "\n",
    "To access a specific component of a record, one uses again the `.`, as we did with discriminated unions:"
   ]
  },
  {
   "cell_type": "code",
   "execution_count": 9,
   "metadata": {
    "dotnet_interactive": {
     "language": "fsharp"
    },
    "polyglot_notebook": {
     "kernelName": "fsharp"
    },
    "vscode": {
     "languageId": "polyglot-notebook"
    }
   },
   "outputs": [
    {
     "name": "stdout",
     "output_type": "stream",
     "text": [
      "John's Does card number: \"1234 5678 9101 1121\"\n",
      "John's Does card CVV: 222us\n"
     ]
    }
   ],
   "source": [
    "printfn \"John's Does card number: %A\" newDoeCard.Number \n",
    "printfn \"John's Does card CVV: %A\" newDoeCard.CVV"
   ]
  },
  {
   "attachments": {},
   "cell_type": "markdown",
   "metadata": {
    "dotnet_interactive": {
     "language": "fsharp"
    },
    "polyglot_notebook": {
     "kernelName": "fsharp"
    }
   },
   "source": [
    "## Mixing types \n",
    "\n",
    "Discriminated union and record are the two ways one can represent entities in the language. One can build all sort of complex types by mixing them, it is up to the programmer how to combine this smaller bricks to model the domain. \n",
    "\n",
    "For example, one can put together the expiration date in its own type:"
   ]
  },
  {
   "cell_type": "code",
   "execution_count": 10,
   "metadata": {
    "dotnet_interactive": {
     "language": "fsharp"
    },
    "polyglot_notebook": {
     "kernelName": "fsharp"
    },
    "vscode": {
     "languageId": "polyglot-notebook"
    }
   },
   "outputs": [],
   "source": [
    "type ExpirationDate =\n",
    "    { \n",
    "        Month : uint8\n",
    "        Year : uint8 \n",
    "    }"
   ]
  },
  {
   "attachments": {},
   "cell_type": "markdown",
   "metadata": {
    "dotnet_interactive": {
     "language": "fsharp"
    },
    "polyglot_notebook": {
     "kernelName": "fsharp"
    }
   },
   "source": [
    "That would give us a cleaner `CreditCard2` type:"
   ]
  },
  {
   "cell_type": "code",
   "execution_count": 11,
   "metadata": {
    "dotnet_interactive": {
     "language": "fsharp"
    },
    "polyglot_notebook": {
     "kernelName": "fsharp"
    },
    "vscode": {
     "languageId": "polyglot-notebook"
    }
   },
   "outputs": [],
   "source": [
    "type CreditCard2 =\n",
    "    {\n",
    "        HoldersName : string\n",
    "        Number: string\n",
    "        ExpirationDate: ExpirationDate \n",
    "        CVV: uint16\n",
    "    }"
   ]
  },
  {
   "attachments": {},
   "cell_type": "markdown",
   "metadata": {
    "dotnet_interactive": {
     "language": "fsharp"
    },
    "polyglot_notebook": {
     "kernelName": "fsharp"
    }
   },
   "source": [
    "For the vending machine, one can write"
   ]
  },
  {
   "cell_type": "code",
   "execution_count": 12,
   "metadata": {
    "dotnet_interactive": {
     "language": "fsharp"
    },
    "polyglot_notebook": {
     "kernelName": "fsharp"
    },
    "vscode": {
     "languageId": "polyglot-notebook"
    }
   },
   "outputs": [],
   "source": [
    "type FoodProduct =\n",
    "    | Chips\n",
    "    | Chocolate\n",
    "    | Candy \n",
    "\n",
    "type BrandedFood =\n",
    "    | Chips of string \n",
    "    | Chocolate of string \n",
    "    | Candy of string     \n",
    "\n",
    "type FoodMachineItem =\n",
    "    {\n",
    "        Brand: BrandedFood\n",
    "        ProductType: FoodProduct \n",
    "        Price: float \n",
    "    }"
   ]
  },
  {
   "cell_type": "code",
   "execution_count": 14,
   "metadata": {
    "dotnet_interactive": {
     "language": "fsharp"
    },
    "polyglot_notebook": {
     "kernelName": "fsharp"
    },
    "vscode": {
     "languageId": "polyglot-notebook"
    }
   },
   "outputs": [],
   "source": [
    "let sourCandy = {\n",
    "    Brand = BrandedFood.Candy \"TearDrops\"\n",
    "    ProductType = FoodProduct.Candy \n",
    "    Price = 2.39\n",
    "}"
   ]
  },
  {
   "attachments": {},
   "cell_type": "markdown",
   "metadata": {
    "dotnet_interactive": {
     "language": "fsharp"
    },
    "polyglot_notebook": {
     "kernelName": "fsharp"
    }
   },
   "source": [
    "Notice that we need to specify completely the type in the `ProductType` component, by using `FoodProduct.Candy`. This is to avoid the collision with the case `Candy of string` in the BrandedFood type. Do not worry! The compiler behind will get you covered, signaling the problem:"
   ]
  },
  {
   "cell_type": "code",
   "execution_count": 15,
   "metadata": {
    "dotnet_interactive": {
     "language": "fsharp"
    },
    "polyglot_notebook": {
     "kernelName": "fsharp"
    },
    "vscode": {
     "languageId": "polyglot-notebook"
    }
   },
   "outputs": [
    {
     "name": "stderr",
     "output_type": "stream",
     "text": [
      "Stopped due to error\n"
     ]
    },
    {
     "ename": "Error",
     "evalue": "input.fsx (3,19)-(3,24) typecheck error This expression was expected to have type\n    'FoodProduct'    \nbut here has type\n    'string -> BrandedFood'    ",
     "output_type": "error",
     "traceback": [
      "input.fsx (3,19)-(3,24) typecheck error This expression was expected to have type\n",
      "    'FoodProduct'    \n",
      "but here has type\n",
      "    'string -> BrandedFood'    "
     ]
    }
   ],
   "source": [
    "let sourCandyWithCollision = {\n",
    "    Brand = BrandedFood.Candy \"TearDrops\"\n",
    "    ProductType = Candy \n",
    "    Price = 2.39\n",
    "}"
   ]
  },
  {
   "attachments": {},
   "cell_type": "markdown",
   "metadata": {
    "dotnet_interactive": {
     "language": "fsharp"
    },
    "polyglot_notebook": {
     "kernelName": "fsharp"
    }
   },
   "source": [
    "And from here on, the sky is the limit."
   ]
  }
 ],
 "metadata": {
  "kernelspec": {
   "display_name": ".NET (C#)",
   "language": "C#",
   "name": ".net-csharp"
  },
  "polyglot_notebook": {
   "kernelInfo": {
    "defaultKernelName": "csharp",
    "items": [
     {
      "aliases": [
       "c#",
       "C#"
      ],
      "languageName": "C#",
      "name": "csharp"
     },
     {
      "aliases": [],
      "languageName": "Mermaid",
      "name": "mermaid"
     },
     {
      "aliases": [
       "frontend"
      ],
      "languageName": null,
      "name": "vscode"
     },
     {
      "aliases": [
       "js"
      ],
      "languageName": "JavaScript",
      "name": "javascript"
     },
     {
      "aliases": [],
      "name": "webview"
     },
     {
      "aliases": [
       "powershell"
      ],
      "languageName": "PowerShell",
      "name": "pwsh"
     }
    ]
   }
  }
 },
 "nbformat": 4,
 "nbformat_minor": 2
}
