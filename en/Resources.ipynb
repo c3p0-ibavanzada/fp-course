{
 "cells": [
  {
   "attachments": {},
   "cell_type": "markdown",
   "metadata": {},
   "source": [
    "### Resources\n",
    "\n",
    "[What I wish I knew when learning F#](https://danielbachler.de/2020/12/23/what-i-wish-i-knew-when-learning-fsharp.html), by Daniel Bachler. \n",
    "\n",
    "\n",
    "\n",
    "\n",
    "\n",
    "\n",
    "\n",
    ">> [A nice thread on reusability of binding names](https://github.com/dotnet/fsharp/issues/9900).\n",
    "\n",
    "\n",
    "\n",
    "\n",
    "\n"
   ]
  },
  {
   "cell_type": "markdown",
   "metadata": {},
   "source": [
    "### Web Development resources\n",
    "\n",
    "\n",
    "- [Fable](https://fable.io/), the amazing transpiler from F# to JavaScript (and lately, [other languages](https://fable.io/blog/2022/2022-06-06-Snake_Island_alpha.html). Is not just a compiler, but a way to use these languages together. Depending on the recipe you would like to prepare, add the ingredients at your own pleasure. Also, check [Fable REPL](https://fable.io/repl/), where you can sketch with F#, no installation of anything needed.\n",
    "-  [Feliz](https://zaid-ajaj.github.io/Feliz/)  is kind of hard to define, but basically it enables you to build and/or interact with React components directly in F#. \n",
    "- [Feliz.Bulma](https://dzoukr.github.io/Feliz.Bulma) is a wrapper around the well-known [Bulma](https://bulma.io/) CSS framework, tailored to the [Feliz](https://zaid-ajaj.github.io/Feliz/) DSL.  \n",
    "- [Html2Feliz](https://thisfunctionaltom.github.io/Html2Feliz/) enables you to translate plain HTML into Feliz. \n",
    "- "
   ]
  },
  {
   "cell_type": "markdown",
   "metadata": {},
   "source": [
    "### Functions everywhere"
   ]
  },
  {
   "cell_type": "markdown",
   "metadata": {},
   "source": [
    "Looks like one can reuse the binding name in different cells, provided one runs in the current order. Same value on one cell are not allowed, though."
   ]
  }
 ],
 "metadata": {
  "kernelspec": {
   "display_name": ".NET (C#)",
   "language": "C#",
   "name": ".net-csharp"
  },
  "language_info": {
   "file_extension": ".cs",
   "mimetype": "text/x-csharp",
   "name": "C#",
   "pygments_lexer": "csharp",
   "version": "9.0"
  },
  "orig_nbformat": 4,
  "vscode": {
   "interpreter": {
    "hash": "1a1af0ee75eeea9e2e1ee996c87e7a2b11a0bebd85af04bb136d915cefc0abce"
   }
  }
 },
 "nbformat": 4,
 "nbformat_minor": 2
}
