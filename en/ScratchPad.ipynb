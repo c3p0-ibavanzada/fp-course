{
 "cells": [
  {
   "cell_type": "markdown",
   "metadata": {
    "dotnet_interactive": {
     "language": "fsharp"
    }
   },
   "source": [
    "# Scratch Pad "
   ]
  },
  {
   "cell_type": "code",
   "execution_count": 1,
   "metadata": {
    "dotnet_interactive": {
     "language": "fsharp"
    },
    "vscode": {
     "languageId": "fsharp"
    }
   },
   "outputs": [
    {
     "name": "stdout",
     "output_type": "stream",
     "text": [
      "12345678910"
     ]
    }
   ],
   "source": [
    "let x4 = for i in [1..10]\n",
    "          do printf \"%i\" i"
   ]
  },
  {
   "cell_type": "code",
   "execution_count": 2,
   "metadata": {
    "dotnet_interactive": {
     "language": "fsharp"
    },
    "vscode": {
     "languageId": "fsharp"
    }
   },
   "outputs": [
    {
     "data": {
      "text/plain": [
       "I a example for if me nobody of sentence sort the understand will words"
      ]
     },
     "metadata": {},
     "output_type": "display_data"
    }
   ],
   "source": [
    "let c = \"nobody will understand me I a example for if of sentence sort the words\"\n",
    "let q = c.Split(' ')\n",
    "Array.sort q \n",
    "|> String.concat \" \""
   ]
  },
  {
   "cell_type": "code",
   "execution_count": 3,
   "metadata": {
    "dotnet_interactive": {
     "language": "fsharp"
    },
    "vscode": {
     "languageId": "fsharp"
    }
   },
   "outputs": [],
   "source": [
    "let p = 5"
   ]
  },
  {
   "cell_type": "code",
   "execution_count": 4,
   "metadata": {
    "dotnet_interactive": {
     "language": "fsharp"
    },
    "vscode": {
     "languageId": "fsharp"
    }
   },
   "outputs": [
    {
     "name": "stdout",
     "output_type": "stream",
     "text": [
      "5\n"
     ]
    }
   ],
   "source": [
    "printfn \"%A\" p "
   ]
  },
  {
   "cell_type": "code",
   "execution_count": 5,
   "metadata": {
    "dotnet_interactive": {
     "language": "fsharp"
    },
    "vscode": {
     "languageId": "fsharp"
    }
   },
   "outputs": [
    {
     "name": "stdout",
     "output_type": "stream",
     "text": [
      "6\n"
     ]
    }
   ],
   "source": [
    "let p = 6\n",
    "printfn \"%A\" p "
   ]
  },
  {
   "cell_type": "markdown",
   "metadata": {},
   "source": [
    "### Functions everywhere"
   ]
  },
  {
   "cell_type": "markdown",
   "metadata": {},
   "source": [
    "Looks like one can reuse the binding name in different cells, provided one runs in the current order. Same value on one cell are not allowed, though."
   ]
  },
  {
   "cell_type": "code",
   "execution_count": 6,
   "metadata": {
    "dotnet_interactive": {
     "language": "fsharp"
    },
    "vscode": {
     "languageId": "fsharp"
    }
   },
   "outputs": [],
   "source": [
    "let foo (a:string) b =\n",
    "    a + b\n",
    "   "
   ]
  },
  {
   "cell_type": "code",
   "execution_count": 7,
   "metadata": {
    "dotnet_interactive": {
     "language": "fsharp"
    },
    "vscode": {
     "languageId": "fsharp"
    }
   },
   "outputs": [
    {
     "ename": "Error",
     "evalue": "input.fsx (2,13)-(2,14) typecheck error This expression was expected to have type\n    'string'    \nbut here has type\n    'int'    \ninput.fsx (2,15)-(2,16) typecheck error This expression was expected to have type\n    'string'    \nbut here has type\n    'int'    ",
     "output_type": "error",
     "traceback": [
      "input.fsx (2,13)-(2,14) typecheck error This expression was expected to have type\n",
      "    'string'    \n",
      "but here has type\n",
      "    'int'    \n",
      "input.fsx (2,15)-(2,16) typecheck error This expression was expected to have type\n",
      "    'string'    \n",
      "but here has type\n",
      "    'int'    "
     ]
    }
   ],
   "source": [
    "let d = foo \"John \" \"Doe\"\n",
    "let d = foo 2 3 "
   ]
  },
  {
   "cell_type": "code",
   "execution_count": 8,
   "metadata": {
    "dotnet_interactive": {
     "language": "fsharp"
    },
    "vscode": {
     "languageId": "fsharp"
    }
   },
   "outputs": [],
   "source": [
    "let foo (a:int) b =\n",
    "    a + b"
   ]
  },
  {
   "cell_type": "code",
   "execution_count": 9,
   "metadata": {
    "dotnet_interactive": {
     "language": "fsharp"
    },
    "vscode": {
     "languageId": "fsharp"
    }
   },
   "outputs": [],
   "source": [
    "let d = foo 2 3 "
   ]
  },
  {
   "cell_type": "code",
   "execution_count": 10,
   "metadata": {
    "dotnet_interactive": {
     "language": "fsharp"
    },
    "vscode": {
     "languageId": "fsharp"
    }
   },
   "outputs": [],
   "source": [
    "let next x = \n",
    "    x + 1 "
   ]
  },
  {
   "cell_type": "markdown",
   "metadata": {
    "dotnet_interactive": {
     "language": "fsharp"
    }
   },
   "source": [
    "### Discriminated unions "
   ]
  },
  {
   "cell_type": "markdown",
   "metadata": {
    "dotnet_interactive": {
     "language": "fsharp"
    }
   },
   "source": [
    "### To be or not to be, that is the option "
   ]
  },
  {
   "cell_type": "markdown",
   "metadata": {},
   "source": [
    "### On Lists"
   ]
  },
  {
   "cell_type": "code",
   "execution_count": 11,
   "metadata": {
    "dotnet_interactive": {
     "language": "fsharp"
    },
    "vscode": {
     "languageId": "fsharp"
    }
   },
   "outputs": [],
   "source": [
    "let indexOfAny (text: string) (charList: char list) = \n",
    "    let textList = Seq.toList text \n",
    "    let found = charList\n",
    "                    |> List.map (fun c -> List.tryFindIndex (fun t -> t = c) textList )\n",
    "                    |> List.choose id \n",
    "    match found with\n",
    "    | [] -> -1     \n",
    "    | _ -> List.min found "
   ]
  },
  {
   "cell_type": "markdown",
   "metadata": {},
   "source": [
    "[A nice discussion on indexing pairing al list with indexes](https://stackoverflow.com/questions/71074342/pairing-list-elements-with-indexes)\n",
    "\n",
    "\n"
   ]
  },
  {
   "cell_type": "markdown",
   "metadata": {},
   "source": []
  },
  {
   "cell_type": "code",
   "execution_count": 12,
   "metadata": {
    "dotnet_interactive": {
     "language": "fsharp"
    },
    "vscode": {
     "languageId": "fsharp"
    }
   },
   "outputs": [],
   "source": [
    "let myIndexed (xs: list<'a>) = \n",
    "    ([0..(xs.Length - 1)], xs)\n",
    "        ||> List.map2 (fun i t -> (i,t))  // This is List.zip"
   ]
  },
  {
   "cell_type": "code",
   "execution_count": 13,
   "metadata": {
    "dotnet_interactive": {
     "language": "fsharp"
    },
    "vscode": {
     "languageId": "fsharp"
    }
   },
   "outputs": [],
   "source": [
    "let indexOfAny2 (text: string) (charList: char list) = \n",
    "\n",
    "    // let textList = ([0..text.Length-1], Seq.toList text)\n",
    "    //                 ||> List.map2 (fun i t -> (i,t))\n",
    "\n",
    "    let textList = List.indexed (Seq.toList text)\n",
    "\n",
    "    let found = [ for (i,t) in textList do \n",
    "                    for c in charList do \n",
    "                        if (c = t) then yield i \n",
    "                    ]\n",
    "    \n",
    "    match found with\n",
    "    | [] -> -1     \n",
    "    | _ -> List.min found "
   ]
  },
  {
   "cell_type": "code",
   "execution_count": 14,
   "metadata": {
    "dotnet_interactive": {
     "language": "fsharp"
    },
    "vscode": {
     "languageId": "fsharp"
    }
   },
   "outputs": [],
   "source": [
    "let a = 0 "
   ]
  },
  {
   "cell_type": "code",
   "execution_count": 15,
   "metadata": {
    "dotnet_interactive": {
     "language": "fsharp"
    },
    "vscode": {
     "languageId": "fsharp"
    }
   },
   "outputs": [
    {
     "name": "stdout",
     "output_type": "stream",
     "text": [
      "0\n",
      "3\n",
      "-1\n"
     ]
    }
   ],
   "source": [
    "indexOfAny \"zzabyycdxx\" ['z';'a'] |> printfn \"%A\"\n",
    "indexOfAny \"zzabyycdxx\" ['b';'y'] |> printfn \"%A\"\n",
    "indexOfAny \"aba\" ['z'] |> printfn \"%A\"      \n"
   ]
  },
  {
   "cell_type": "code",
   "execution_count": 16,
   "metadata": {
    "dotnet_interactive": {
     "language": "javascript"
    },
    "vscode": {
     "languageId": "fsharp"
    }
   },
   "outputs": [
    {
     "data": {
      "text/plain": [
       "c is:5"
      ]
     },
     "metadata": {},
     "output_type": "display_data"
    },
    {
     "data": {
      "text/plain": [
       "or maybe is: John Doe"
      ]
     },
     "metadata": {},
     "output_type": "display_data"
    },
    {
     "data": {
      "text/plain": [
       "or maybe is: 2"
      ]
     },
     "metadata": {},
     "output_type": "display_data"
    },
    {
     "data": {
      "text/plain": [
       "or maybe is: 5"
      ]
     },
     "metadata": {},
     "output_type": "display_data"
    }
   ],
   "source": [
    "#!js\n",
    "// Function to compute the product of p1 and p2\n",
    "function foo_js(a, b) {\n",
    "  return a + b;\n",
    "}\n",
    "\n",
    "// Sum \n",
    "c = foo_js(3,2);\n",
    "console.log('c is:'+c);\n",
    "\n",
    "// Concat\n",
    "c = foo_js(\"John \",\"Doe\")\n",
    "console.log(\"or maybe is: \"+c);\n",
    "\n",
    "// Or something else\n",
    "c = foo_js(true,true)\n",
    "console.log(\"or maybe is: \"+c)\n",
    "\n",
    "// or something weirder \n",
    "c = foo_js(true,4)\n",
    "console.log(\"or maybe is: \"+c)\n",
    "\n",
    "\n"
   ]
  },
  {
   "cell_type": "code",
   "execution_count": 2,
   "metadata": {
    "dotnet_interactive": {
     "language": "javascript"
    },
    "vscode": {
     "languageId": "fsharp"
    }
   },
   "outputs": [
    {
     "data": {
      "text/plain": [
       "b :"
      ]
     },
     "metadata": {},
     "output_type": "display_data"
    },
    {
     "data": {
      "text/plain": [
       "4"
      ]
     },
     "metadata": {},
     "output_type": "display_data"
    },
    {
     "data": {
      "text/plain": [
       "b :"
      ]
     },
     "metadata": {},
     "output_type": "display_data"
    },
    {
     "data": {
      "text/plain": [
       "3"
      ]
     },
     "metadata": {},
     "output_type": "display_data"
    }
   ],
   "source": [
    "#!js\n",
    "function bar_js(a){\n",
    "    b = 3 \n",
    "    return a \n",
    "}\n",
    "\n",
    "b = 4\n",
    "console.log(\"b :\",b)\n",
    "bar_js(33)\n",
    "console.log(\"b :\",b)\n"
   ]
  },
  {
   "cell_type": "code",
   "execution_count": 17,
   "metadata": {
    "dotnet_interactive": {
     "language": "fsharp"
    },
    "vscode": {
     "languageId": "fsharp"
    }
   },
   "outputs": [
    {
     "name": "stdout",
     "output_type": "stream",
     "text": [
      "0\n",
      "3\n",
      "-1\n"
     ]
    }
   ],
   "source": [
    "indexOfAny2 \"zzabyycdxx\" ['z';'a'] |> printfn \"%A\"\n",
    "indexOfAny2 \"zzabyycdxx\" ['b';'y'] |> printfn \"%A\"\n",
    "indexOfAny2 \"aba\" ['z'] |> printfn \"%A\"      \n"
   ]
  },
  {
   "cell_type": "code",
   "execution_count": 32,
   "metadata": {
    "dotnet_interactive": {
     "language": "fsharp"
    },
    "vscode": {
     "languageId": "fsharp"
    }
   },
   "outputs": [
    {
     "ename": "Error",
     "evalue": "input.fsx (4,15)-(4,21) typecheck error The generic function 'typeof' must be given explicit type argument(s)\ninput.fsx (4,15)-(4,21) typecheck error This value is not a function and cannot be applied.",
     "output_type": "error",
     "traceback": [
      "input.fsx (4,15)-(4,21) typecheck error The generic function 'typeof' must be given explicit type argument(s)\n",
      "input.fsx (4,15)-(4,21) typecheck error This value is not a function and cannot be applied."
     ]
    }
   ],
   "source": [
    "let q =\n",
    "    3 \n",
    "\n",
    "let q () =\n",
    "    3     \n"
   ]
  },
  {
   "cell_type": "code",
   "execution_count": 23,
   "metadata": {
    "dotnet_interactive": {
     "language": "fsharp"
    },
    "vscode": {
     "languageId": "fsharp"
    }
   },
   "outputs": [],
   "source": [
    "let q = 4"
   ]
  },
  {
   "cell_type": "code",
   "execution_count": 33,
   "metadata": {
    "dotnet_interactive": {
     "language": "fsharp"
    },
    "vscode": {
     "languageId": "fsharp"
    }
   },
   "outputs": [
    {
     "data": {
      "text/html": [
       "<table><thead><tr><th>Variable</th><th>Type</th><th>Value</th></tr></thead><tbody><tr><td>q</td><td><span><a href=\"https://docs.microsoft.com/dotnet/api/system.int32?view=net-5.0\">System.Int32</a></span></td><td><div class=\"dni-plaintext\">3</div></td></tr></tbody></table>"
      ]
     },
     "metadata": {},
     "output_type": "display_data"
    }
   ],
   "source": [
    "#!whos"
   ]
  },
  {
   "cell_type": "code",
   "execution_count": null,
   "metadata": {
    "dotnet_interactive": {
     "language": "fsharp"
    },
    "vscode": {
     "languageId": "fsharp"
    }
   },
   "outputs": [],
   "source": [
    "let foo (a:string) b =\n",
    "    a + b\n",
    "   "
   ]
  },
  {
   "cell_type": "code",
   "execution_count": null,
   "metadata": {
    "dotnet_interactive": {
     "language": "fsharp"
    },
    "vscode": {
     "languageId": "fsharp"
    }
   },
   "outputs": [
    {
     "ename": "Error",
     "evalue": "input.fsx (2,13)-(2,14) typecheck error This expression was expected to have type\n    'string'    \nbut here has type\n    'int'    \ninput.fsx (2,15)-(2,16) typecheck error This expression was expected to have type\n    'string'    \nbut here has type\n    'int'    ",
     "output_type": "error",
     "traceback": [
      "input.fsx (2,13)-(2,14) typecheck error This expression was expected to have type\n",
      "\n",
      "    'string'    \n",
      "\n",
      "but here has type\n",
      "\n",
      "    'int'    \n",
      "\n",
      "input.fsx (2,15)-(2,16) typecheck error This expression was expected to have type\n",
      "\n",
      "    'string'    \n",
      "\n",
      "but here has type\n",
      "\n",
      "    'int'    "
     ]
    }
   ],
   "source": [
    "let d = foo \"John \" \"Doe\"\n",
    "let d = foo 2 3 "
   ]
  },
  {
   "cell_type": "code",
   "execution_count": null,
   "metadata": {
    "dotnet_interactive": {
     "language": "fsharp"
    },
    "vscode": {
     "languageId": "fsharp"
    }
   },
   "outputs": [],
   "source": [
    "let foo (a:int) b =\n",
    "    a + b"
   ]
  },
  {
   "cell_type": "code",
   "execution_count": null,
   "metadata": {
    "dotnet_interactive": {
     "language": "fsharp"
    },
    "vscode": {
     "languageId": "fsharp"
    }
   },
   "outputs": [],
   "source": [
    "let d = foo 2 3 "
   ]
  },
  {
   "cell_type": "code",
   "execution_count": null,
   "metadata": {
    "dotnet_interactive": {
     "language": "fsharp"
    },
    "vscode": {
     "languageId": "fsharp"
    }
   },
   "outputs": [],
   "source": [
    "let next x = \n",
    "    x + 1 "
   ]
  },
  {
   "cell_type": "code",
   "execution_count": null,
   "metadata": {
    "dotnet_interactive": {
     "language": "fsharp"
    },
    "vscode": {
     "languageId": "fsharp"
    }
   },
   "outputs": [],
   "source": [
    "let demo () = \n",
    "    let x = 7  \n",
    "    let x = x + 3\n",
    "    printfn \"The x is %d\" x"
   ]
  },
  {
   "cell_type": "code",
   "execution_count": null,
   "metadata": {
    "dotnet_interactive": {
     "language": "fsharp"
    },
    "vscode": {
     "languageId": "fsharp"
    }
   },
   "outputs": [
    {
     "name": "stdout",
     "output_type": "stream",
     "text": [
      "The x is 10\n"
     ]
    }
   ],
   "source": [
    "demo()"
   ]
  },
  {
   "cell_type": "markdown",
   "metadata": {},
   "source": []
  },
  {
   "cell_type": "code",
   "execution_count": null,
   "metadata": {
    "dotnet_interactive": {
     "language": "fsharp"
    },
    "vscode": {
     "languageId": "fsharp"
    }
   },
   "outputs": [
    {
     "name": "stdout",
     "output_type": "stream",
     "text": [
      "12345678910"
     ]
    }
   ],
   "source": [
    "let x4 = for i in [1..10]\n",
    "          do printf \"%i\" i"
   ]
  },
  {
   "cell_type": "code",
   "execution_count": null,
   "metadata": {
    "dotnet_interactive": {
     "language": "fsharp"
    },
    "vscode": {
     "languageId": "fsharp"
    }
   },
   "outputs": [
    {
     "data": {
      "text/plain": [
       "I a example for if me nobody of sentence sort the understand will words"
      ]
     },
     "metadata": {},
     "output_type": "display_data"
    }
   ],
   "source": [
    "let c = \"nobody will understand me I a example for if of sentence sort the words\"\n",
    "let q = c.Split(' ')\n",
    "Array.sort q \n",
    "|> String.concat \" \""
   ]
  },
  {
   "cell_type": "code",
   "execution_count": null,
   "metadata": {
    "dotnet_interactive": {
     "language": "fsharp"
    },
    "vscode": {
     "languageId": "fsharp"
    }
   },
   "outputs": [],
   "source": [
    "let p = 5"
   ]
  },
  {
   "cell_type": "code",
   "execution_count": null,
   "metadata": {
    "dotnet_interactive": {
     "language": "fsharp"
    },
    "vscode": {
     "languageId": "fsharp"
    }
   },
   "outputs": [
    {
     "name": "stdout",
     "output_type": "stream",
     "text": [
      "5\n"
     ]
    }
   ],
   "source": [
    "printfn \"%A\" p "
   ]
  },
  {
   "cell_type": "code",
   "execution_count": null,
   "metadata": {
    "dotnet_interactive": {
     "language": "fsharp"
    },
    "vscode": {
     "languageId": "fsharp"
    }
   },
   "outputs": [],
   "source": [
    "let f a = \n",
    "    let q = a.Split ' '\n",
    "    q\n"
   ]
  },
  {
   "cell_type": "code",
   "execution_count": null,
   "metadata": {
    "dotnet_interactive": {
     "language": "fsharp"
    },
    "vscode": {
     "languageId": "fsharp"
    }
   },
   "outputs": [
    {
     "name": "stdout",
     "output_type": "stream",
     "text": [
      "6\n"
     ]
    }
   ],
   "source": [
    "let p = 6\n",
    "printfn \"%A\" p "
   ]
  },
  {
   "cell_type": "code",
   "execution_count": 1,
   "metadata": {
    "vscode": {
     "languageId": "fsharp"
    }
   },
   "outputs": [],
   "source": [
    "type Electronics = \n",
    "    | Phones\n",
    "    | Speakers\n",
    "    | Headphones"
   ]
  },
  {
   "cell_type": "code",
   "execution_count": 2,
   "metadata": {
    "vscode": {
     "languageId": "fsharp"
    }
   },
   "outputs": [
    {
     "name": "stdout",
     "output_type": "stream",
     "text": [
      "The price of speaker is: 29 $\n"
     ]
    },
    {
     "data": {
      "text/html": [
       "<null>"
      ]
     },
     "execution_count": 2,
     "metadata": {},
     "output_type": "execute_result"
    }
   ],
   "source": [
    "let s = Electronics.Speakers\n",
    "\n",
    "let price electronic = \n",
    "    match electronic with \n",
    "    | Phones -> 435\n",
    "    | Speakers -> 29\n",
    "    | Headphones -> 122\n",
    "\n",
    "printfn \"The price of speaker is: %A $\" (price s)  "
   ]
  },
  {
   "cell_type": "code",
   "execution_count": 10,
   "metadata": {
    "vscode": {
     "languageId": "fsharp"
    }
   },
   "outputs": [
    {
     "ename": "Unhandled Exception",
     "evalue": "input.fsx (1,13)-(1,21) typecheck warning Incomplete pattern matches on this expression. For example, the value 'Headphones' may indicate a case not covered by the pattern(s).\ninput.fsx (2,13)-(2,23) typecheck warning Incomplete pattern matches on this expression. For example, the value 'Headphones' may indicate a case not covered by the pattern(s).\ninput.fsx (3,13)-(3,25) typecheck warning Incomplete pattern matches on this expression. For example, the value 'Phones' may indicate a case not covered by the pattern(s).\ninput.fsx (2,5)-(2,11) typecheck error Duplicate definition of value 'price2'\ninput.fsx (3,5)-(3,11) typecheck error Duplicate definition of value 'price2'",
     "output_type": "error",
     "traceback": [
      "input.fsx (1,13)-(1,21) typecheck warning Incomplete pattern matches on this expression. For example, the value 'Headphones' may indicate a case not covered by the pattern(s).\ninput.fsx (2,13)-(2,23) typecheck warning Incomplete pattern matches on this expression. For example, the value 'Headphones' may indicate a case not covered by the pattern(s).\ninput.fsx (3,13)-(3,25) typecheck warning Incomplete pattern matches on this expression. For example, the value 'Phones' may indicate a case not covered by the pattern(s).\ninput.fsx (2,5)-(2,11) typecheck error Duplicate definition of value 'price2'\ninput.fsx (3,5)-(3,11) typecheck error Duplicate definition of value 'price2'"
     ]
    }
   ],
   "source": [
    "let price2 (Phones _) = 435 in \n",
    "let price2 (Speakers _) = 29 in \n",
    "let price2 (Headphones _) = 122\n",
    "\n",
    "printfn \"The price of speaker is: %A $\" (price2 s)  \n"
   ]
  },
  {
   "cell_type": "markdown",
   "metadata": {},
   "source": [
    "#### Comment on FP vs OOP ?\n",
    "\n",
    "\n",
    " \n",
    "On the contrary, methods in a class are designed to change (that is, _mutate_) values of an instance of that class. \n",
    "[FP vs OP](https://betterprogramming.pub/functional-programming-vs-object-oriented-programming-why-you-dont-need-to-choose-29820f89f348)\n",
    "\n",
    "We also presented the primitive types as an example, but to program with a reasonable chance of success, it is necessary for the language to be able to aggregate different primitive types in more complex ones. In the case of object oriented languages, one builds a hierarchy of classes that represent the domain one is working on. Those classes encapsulate not only data (that is described in types) but also their associated behavior through methods. In the case of functional F\\#, and other functional languages, there is no need to attach behavior to types.\n",
    "\n",
    "\n",
    "\n",
    "\n",
    "\n",
    "#### Thinking with types\n",
    "\n",
    "As said before, almost all programming languages provide an idea of aggregating simple types (strings, bools, ints, etc.) into more complex ones, which is needed to properly describe a domain. The basic data of a user (name, email, etc.) can be put together in a type, the email data (to, from, subject, text, etc.) in another one and so on. Combining these new types one can generate more and more complex ones, until you can build, for example, all the types needed for an email application. \n",
    "\n",
    "One of the most important steps in programming is to study the domain one is working on, and to fully understand how one can describe that domain with data and the processes that manage those data. In object oriented programming one is allowed (even required) to glue related processes and data together in classes. In functional programming one focuses on how processes (that is, functions) relate different kinds of data (that is, types). Since data in functional programming is inmutable and functions create outputs from inputs, one needs to identify the processes of our domain and distill them into functions, with proper inputs and outputs, in such a way that one can combine those functions together by composing them properly. Therefore, the analysis of a process and it conversion into functions not only requires to define the rules and the logic of the creation of outputs from inputs, buy more importantly, to adequate stablish those inputs and outputs such that composition of functions can be used (see again this [beautiful picture example](https://mathinsight.org/function_machine_composition)).\n",
    "\n",
    "Functional programming languages typically define two kinds of aggregate types: product types and sum types. Product types \n",
    "\n",
    "#### Product type: Records\n",
    "\n"
   ]
  }
 ],
 "metadata": {
  "kernelspec": {
   "display_name": ".NET (F#)",
   "language": "F#",
   "name": ".net-fsharp"
  },
  "language_info": {
   "file_extension": ".fs",
   "mimetype": "text/x-fsharp",
   "name": "C#",
   "pygments_lexer": "fsharp",
   "version": "4.5"
  },
  "orig_nbformat": 4
 },
 "nbformat": 4,
 "nbformat_minor": 2
}
