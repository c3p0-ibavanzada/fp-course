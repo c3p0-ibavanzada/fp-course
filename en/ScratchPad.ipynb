{
 "cells": [
  {
   "cell_type": "markdown",
   "metadata": {
    "dotnet_interactive": {
     "language": "fsharp"
    }
   },
   "source": [
    "# Scratch Pad "
   ]
  },
  {
   "cell_type": "code",
   "execution_count": 1,
   "metadata": {
    "dotnet_interactive": {
     "language": "fsharp"
    },
    "vscode": {
     "languageId": "dotnet-interactive.fsharp"
    }
   },
   "outputs": [
    {
     "name": "stdout",
     "output_type": "stream",
     "text": [
      "12345678910"
     ]
    }
   ],
   "source": [
    "let x4 = for i in [1..10]\n",
    "          do printf \"%i\" i"
   ]
  },
  {
   "cell_type": "code",
   "execution_count": 2,
   "metadata": {
    "dotnet_interactive": {
     "language": "fsharp"
    },
    "vscode": {
     "languageId": "dotnet-interactive.fsharp"
    }
   },
   "outputs": [
    {
     "data": {
      "text/plain": [
       "I a example for if me nobody of sentence sort the understand will words"
      ]
     },
     "metadata": {},
     "output_type": "display_data"
    }
   ],
   "source": [
    "let c = \"nobody will understand me I a example for if of sentence sort the words\"\n",
    "let q = c.Split(' ')\n",
    "Array.sort q \n",
    "|> String.concat \" \""
   ]
  },
  {
   "cell_type": "code",
   "execution_count": 3,
   "metadata": {
    "dotnet_interactive": {
     "language": "fsharp"
    },
    "vscode": {
     "languageId": "dotnet-interactive.fsharp"
    }
   },
   "outputs": [],
   "source": [
    "let p = 5"
   ]
  },
  {
   "cell_type": "code",
   "execution_count": 4,
   "metadata": {
    "dotnet_interactive": {
     "language": "fsharp"
    },
    "vscode": {
     "languageId": "dotnet-interactive.fsharp"
    }
   },
   "outputs": [
    {
     "name": "stdout",
     "output_type": "stream",
     "text": [
      "5\n"
     ]
    }
   ],
   "source": [
    "printfn \"%A\" p "
   ]
  },
  {
   "cell_type": "code",
   "execution_count": 5,
   "metadata": {
    "dotnet_interactive": {
     "language": "fsharp"
    },
    "vscode": {
     "languageId": "dotnet-interactive.fsharp"
    }
   },
   "outputs": [
    {
     "name": "stdout",
     "output_type": "stream",
     "text": [
      "6\n"
     ]
    }
   ],
   "source": [
    "let p = 6\n",
    "printfn \"%A\" p "
   ]
  },
  {
   "cell_type": "markdown",
   "metadata": {},
   "source": [
    "### Functions everywhere"
   ]
  },
  {
   "cell_type": "markdown",
   "metadata": {},
   "source": [
    "Looks like one can reuse the binding name in different cells, provided one runs in the current order. Same value on one cell are not allowed, though."
   ]
  },
  {
   "cell_type": "code",
   "execution_count": 6,
   "metadata": {
    "dotnet_interactive": {
     "language": "fsharp"
    },
    "vscode": {
     "languageId": "dotnet-interactive.fsharp"
    }
   },
   "outputs": [],
   "source": [
    "let foo (a:string) b =\n",
    "    a + b\n",
    "   "
   ]
  },
  {
   "cell_type": "code",
   "execution_count": 7,
   "metadata": {
    "dotnet_interactive": {
     "language": "fsharp"
    },
    "vscode": {
     "languageId": "dotnet-interactive.fsharp"
    }
   },
   "outputs": [
    {
     "ename": "Error",
     "evalue": "input.fsx (2,13)-(2,14) typecheck error This expression was expected to have type\n    'string'    \nbut here has type\n    'int'    \ninput.fsx (2,15)-(2,16) typecheck error This expression was expected to have type\n    'string'    \nbut here has type\n    'int'    ",
     "output_type": "error",
     "traceback": [
      "input.fsx (2,13)-(2,14) typecheck error This expression was expected to have type\n",
      "    'string'    \n",
      "but here has type\n",
      "    'int'    \n",
      "input.fsx (2,15)-(2,16) typecheck error This expression was expected to have type\n",
      "    'string'    \n",
      "but here has type\n",
      "    'int'    "
     ]
    }
   ],
   "source": [
    "let d = foo \"John \" \"Doe\"\n",
    "let d = foo 2 3 "
   ]
  },
  {
   "cell_type": "code",
   "execution_count": 8,
   "metadata": {
    "dotnet_interactive": {
     "language": "fsharp"
    },
    "vscode": {
     "languageId": "dotnet-interactive.fsharp"
    }
   },
   "outputs": [],
   "source": [
    "let foo (a:int) b =\n",
    "    a + b"
   ]
  },
  {
   "cell_type": "code",
   "execution_count": 9,
   "metadata": {
    "dotnet_interactive": {
     "language": "fsharp"
    },
    "vscode": {
     "languageId": "dotnet-interactive.fsharp"
    }
   },
   "outputs": [],
   "source": [
    "let d = foo 2 3 "
   ]
  },
  {
   "cell_type": "code",
   "execution_count": 10,
   "metadata": {
    "dotnet_interactive": {
     "language": "fsharp"
    },
    "vscode": {
     "languageId": "dotnet-interactive.fsharp"
    }
   },
   "outputs": [],
   "source": [
    "let next x = \n",
    "    x + 1 "
   ]
  },
  {
   "cell_type": "markdown",
   "metadata": {
    "dotnet_interactive": {
     "language": "fsharp"
    }
   },
   "source": [
    "### Discriminated unions "
   ]
  },
  {
   "cell_type": "markdown",
   "metadata": {
    "dotnet_interactive": {
     "language": "fsharp"
    }
   },
   "source": [
    "### To be or not to be, that is the option "
   ]
  },
  {
   "cell_type": "markdown",
   "metadata": {},
   "source": [
    "### On Lists"
   ]
  },
  {
   "cell_type": "code",
   "execution_count": 11,
   "metadata": {
    "dotnet_interactive": {
     "language": "fsharp"
    },
    "vscode": {
     "languageId": "dotnet-interactive.fsharp"
    }
   },
   "outputs": [],
   "source": [
    "let indexOfAny (text: string) (charList: char list) = \n",
    "    let textList = Seq.toList text \n",
    "    let found = charList\n",
    "                    |> List.map (fun c -> List.tryFindIndex (fun t -> t = c) textList )\n",
    "                    |> List.choose id \n",
    "    match found with\n",
    "    | [] -> -1     \n",
    "    | _ -> List.min found "
   ]
  },
  {
   "cell_type": "markdown",
   "metadata": {},
   "source": [
    "[A nice discussion on indexing pairing al list with indexes](https://stackoverflow.com/questions/71074342/pairing-list-elements-with-indexes)\n",
    "\n",
    "\n"
   ]
  },
  {
   "cell_type": "markdown",
   "metadata": {},
   "source": []
  },
  {
   "cell_type": "code",
   "execution_count": 12,
   "metadata": {
    "dotnet_interactive": {
     "language": "fsharp"
    },
    "vscode": {
     "languageId": "dotnet-interactive.fsharp"
    }
   },
   "outputs": [],
   "source": [
    "let myIndexed (xs: list<'a>) = \n",
    "    ([0..(xs.Length - 1)], xs)\n",
    "        ||> List.map2 (fun i t -> (i,t))  // This is List.zip"
   ]
  },
  {
   "cell_type": "code",
   "execution_count": 13,
   "metadata": {
    "dotnet_interactive": {
     "language": "fsharp"
    },
    "vscode": {
     "languageId": "dotnet-interactive.fsharp"
    }
   },
   "outputs": [],
   "source": [
    "let indexOfAny2 (text: string) (charList: char list) = \n",
    "\n",
    "    // let textList = ([0..text.Length-1], Seq.toList text)\n",
    "    //                 ||> List.map2 (fun i t -> (i,t))\n",
    "\n",
    "    let textList = List.indexed (Seq.toList text)\n",
    "\n",
    "    let found = [ for (i,t) in textList do \n",
    "                    for c in charList do \n",
    "                        if (c = t) then yield i \n",
    "                    ]\n",
    "    \n",
    "    match found with\n",
    "    | [] -> -1     \n",
    "    | _ -> List.min found "
   ]
  },
  {
   "cell_type": "code",
   "execution_count": 14,
   "metadata": {
    "dotnet_interactive": {
     "language": "fsharp"
    },
    "vscode": {
     "languageId": "dotnet-interactive.fsharp"
    }
   },
   "outputs": [],
   "source": [
    "let a = 0 "
   ]
  },
  {
   "cell_type": "code",
   "execution_count": 15,
   "metadata": {
    "dotnet_interactive": {
     "language": "fsharp"
    },
    "vscode": {
     "languageId": "dotnet-interactive.fsharp"
    }
   },
   "outputs": [
    {
     "name": "stdout",
     "output_type": "stream",
     "text": [
      "0\n",
      "3\n",
      "-1\n"
     ]
    }
   ],
   "source": [
    "indexOfAny \"zzabyycdxx\" ['z';'a'] |> printfn \"%A\"\n",
    "indexOfAny \"zzabyycdxx\" ['b';'y'] |> printfn \"%A\"\n",
    "indexOfAny \"aba\" ['z'] |> printfn \"%A\"      \n"
   ]
  },
  {
   "cell_type": "code",
   "execution_count": 16,
   "metadata": {
    "dotnet_interactive": {
     "language": "javascript"
    },
    "vscode": {
     "languageId": "dotnet-interactive.javascript"
    }
   },
   "outputs": [
    {
     "data": {
      "text/plain": [
       "c is:5"
      ]
     },
     "metadata": {},
     "output_type": "display_data"
    },
    {
     "data": {
      "text/plain": [
       "or maybe is: John Doe"
      ]
     },
     "metadata": {},
     "output_type": "display_data"
    },
    {
     "data": {
      "text/plain": [
       "or maybe is: 2"
      ]
     },
     "metadata": {},
     "output_type": "display_data"
    },
    {
     "data": {
      "text/plain": [
       "or maybe is: 5"
      ]
     },
     "metadata": {},
     "output_type": "display_data"
    }
   ],
   "source": [
    "#!js\n",
    "// Function to compute the product of p1 and p2\n",
    "function foo_js(a, b) {\n",
    "  return a + b;\n",
    "}\n",
    "\n",
    "// Sum \n",
    "c = foo_js(3,2);\n",
    "console.log('c is:'+c);\n",
    "\n",
    "// Concat\n",
    "c = foo_js(\"John \",\"Doe\")\n",
    "console.log(\"or maybe is: \"+c);\n",
    "\n",
    "// Or something else\n",
    "c = foo_js(true,true)\n",
    "console.log(\"or maybe is: \"+c)\n",
    "\n",
    "// or something weirder \n",
    "c = foo_js(true,4)\n",
    "console.log(\"or maybe is: \"+c)\n",
    "\n",
    "\n"
   ]
  },
  {
   "cell_type": "code",
   "execution_count": 17,
   "metadata": {
    "dotnet_interactive": {
     "language": "fsharp"
    },
    "vscode": {
     "languageId": "dotnet-interactive.fsharp"
    }
   },
   "outputs": [
    {
     "name": "stdout",
     "output_type": "stream",
     "text": [
      "0\n",
      "3\n",
      "-1\n"
     ]
    }
   ],
   "source": [
    "indexOfAny2 \"zzabyycdxx\" ['z';'a'] |> printfn \"%A\"\n",
    "indexOfAny2 \"zzabyycdxx\" ['b';'y'] |> printfn \"%A\"\n",
    "indexOfAny2 \"aba\" ['z'] |> printfn \"%A\"      \n"
   ]
  }
 ],
 "metadata": {
  "kernelspec": {
   "display_name": ".NET (F#)",
   "language": "F#",
   "name": ".net-fsharp"
  },
  "language_info": {
   "file_extension": ".cs",
   "mimetype": "text/x-csharp",
   "name": "F#",
   "pygments_lexer": "csharp",
   "version": "9.0"
  },
  "orig_nbformat": 4
 },
 "nbformat": 4,
 "nbformat_minor": 2
}
