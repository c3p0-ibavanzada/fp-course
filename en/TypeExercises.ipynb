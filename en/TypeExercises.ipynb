{
 "cells": [
  {
   "attachments": {},
   "cell_type": "markdown",
   "metadata": {},
   "source": [
    "## F\\# types exercises\n",
    "\n",
    "Some gentle exercises to start working with domains.\n",
    "\n",
    "### Coins\n",
    "\n",
    "At some point, a customer will enter some amount of each coin to buy a product in the food vending machine. The machine receives coins of $\\$$0.1, $\\$$0.25 and $\\$$0.5 value only. \n",
    " - Model a type `Coins` that accounts for the number of each of the coins the machine receives. \n",
    " - Create a function `amount` that receives a value of `Coins` and returns the amount in $\\$$ that the customer introduced in the machine.\n",
    "\n",
    "> 💡 The function `float` can be used to convert an integer value to a float type \n",
    "\n",
    "### Slots\n",
    "\n",
    "The food vending machine vendor supplies the machine with different slots to accomodate products that have different sizes. The vendor provides three different sizes, single, double and triple. \n",
    "- Model the sizes of the slot in a type `SlotSize`.\n",
    "- Extend the model `FoodMachineItem` to add the size of the product measured by the size of the slot it occupies.\n",
    "\n",
    "### Coffee machine\n",
    "Our vending machine client wants to add a coffee machine just beside the food vending machine, and wants us to prepare the software to manage it. As a first round conversation, we have been informed that the coffee machine will serve coffee and black tea. Sugar and cream can be added to both of them. It will also have chocolate and capucchino, with the only option to add sugar. Finally, it will also serve a healthy green or white tea that can be topped with milk only. Start modeling the coffee machine by introducing the types to describe all these beverages.\n",
    "\n",
    "\n"
   ]
  }
 ],
 "metadata": {
  "kernelspec": {
   "display_name": ".NET (C#)",
   "language": "C#",
   "name": ".net-csharp"
  },
  "language_info": {
   "name": "polyglot-notebook"
  },
  "polyglot_notebook": {
   "kernelInfo": {
    "defaultKernelName": "csharp",
    "items": [
     {
      "aliases": [],
      "name": ".NET"
     },
     {
      "aliases": [
       "C#",
       "c#"
      ],
      "languageName": "C#",
      "name": "csharp"
     },
     {
      "aliases": [
       "F#",
       "f#"
      ],
      "languageName": "F#",
      "name": "fsharp"
     },
     {
      "aliases": [],
      "languageName": "HTML",
      "name": "html"
     },
     {
      "aliases": [
       "js"
      ],
      "languageName": "JavaScript",
      "name": "javascript"
     },
     {
      "aliases": [],
      "languageName": "KQL",
      "name": "kql"
     },
     {
      "aliases": [],
      "languageName": "Mermaid",
      "name": "mermaid"
     },
     {
      "aliases": [
       "powershell"
      ],
      "languageName": "PowerShell",
      "name": "pwsh"
     },
     {
      "aliases": [],
      "languageName": "SQL",
      "name": "sql"
     },
     {
      "aliases": [],
      "name": "value"
     },
     {
      "aliases": [
       "frontend"
      ],
      "name": "vscode"
     },
     {
      "aliases": [],
      "name": "webview"
     }
    ]
   }
  }
 },
 "nbformat": 4,
 "nbformat_minor": 2
}
