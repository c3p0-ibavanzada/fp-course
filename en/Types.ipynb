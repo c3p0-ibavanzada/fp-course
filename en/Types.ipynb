{
 "cells": [
  {
   "attachments": {},
   "cell_type": "markdown",
   "metadata": {
    "dotnet_interactive": {
     "language": "csharp"
    },
    "vscode": {
     "languageId": "csharp"
    }
   },
   "source": [
    "To completely define a function, you not only need to establish its behavior, but also the inputs and outputs. That is where _types_ come! \n",
    "\n",
    "### Thinking with types\n",
    "\n",
    "We have covered the basics of functions in F\\#, and defined some properties that difference them from routines or procedures in other languages. We have also seen how one can combine functions together. That is the first aspect about defining functions: how they behave, and how one can encapsulate this behavior in one or several functions that can be composed to generate results. In our example, the behavior of our `vendingMachine` is to give you some product once you provided enough money and selected your treat with a keyboard. \n",
    "The second aspect that is _needed_ to define the function is what sort of inputs and outputs it has. Going back to our first example, one had a table that represented the function `carColor`, with the color of each car in parked in a block. A completely different function would be `carHorsePower`, where for each car in the block, you write down the horsepower. Clearly here the inputs of both functions are the same, the license plate, but the outputs are different. If our vending machine does not take paper bills but credit cards, the input will be different, but you still get your beloved chips, that is, the outputs of `vendingMachine` and the modern `vendingMachineWithCreditCard` are the same, but the inputs are different.\n",
    "\n",
    "Then, to completely define a function, you need to specify (code...) the behavior of the function _and_ the types of inputs and outputs. These are two sides of the same coin, and one cannot live without the other. And that is where the type of inputs and a outputs of the real world need to be properly represented by your code. And that is where the language provides you with the tools to define these types. \n",
    "\n",
    "How to define the kind of inputs and outputs of your functions? To start, typically one writes down a bullet list of all the relevant characteristics of them. In the case of colors of the cars in the block, the inputs are the license plates that usually are letters and numbers, so in our code model, that would be some kind of string. How about the outputs? One can use the usual color names, as we did. That would be represented by a collection of strings.\n",
    "\n",
    "> Or, one can go for more detail and use the names of the colors [each car model has](https://www.caranddriver.com/features/g28196287/wildest-paint-colors-for-sale/). That would be a more complete collection of colors, but this also would affect the inputs of our function, because we need now also the name of the car model. Going further, the name of the color probably changes with the years model, so we would need that too. \n",
    "\n",
    "> Can you come up with the inputs and outputs of the `carHorsePower`? Start with a minimal description, and then go into more details. Would it be ok to represent the horse power as a positive floating point number? Is that enough? Or that is too many?\n",
    "\n",
    "For our vending machine with bills, our inputs are going to be the number of bills of each denomination  introduced in the machine, and a letter and a number to determine which product the customer wants:\n",
    "\n",
    "- Number of bills of each denomination\n",
    "- A letter\n",
    "- A number \n",
    "\n",
    " The outputs are possible products, that can be minimallistically modeled by saying\n",
    "\n",
    "- The product brand\n",
    "- The product type (chocolate, chips, etc.)\n",
    "\n",
    "If we have a vending machine with credit cards, our input will be slightly different, since we need to model a credit card with\n",
    "\n",
    "- Carholder's name\n",
    "- Card number\n",
    "- Expiration date\n",
    "- CVV number \n",
    "\n",
    "A _type_ is the tool the computer languages provide to group or aggregate the properties of the model of any entity of our domain. As we all know, computers only understand only 0s and 1s bits at the lowest level, however, they are presented typically as chunks _bytes_ of 8 bits each. Putting bytes together one can have the basic types of all languages, such as integer and float numbers in all of their variations (signed or unsigned integers, integers of different size, float numbers of different sizes). Other basic types, such as strings or chars, even booleans, depend on the way each language implements them. \n",
    "\n",
    "All contemporary languages can build compound types using these basic types. For example, if we need to model a wallet, we will need a way to represent money bills, credit cards, personal id, etc. Each of these elements in turn needs also to be modeled, and so on. Therefore, the wallet will be represented as a hierarchical aggregation of simpler models that, at the very bottom of it, will resort to basic types. \n",
    "\n",
    "There is also another aspect of modelling the real world entities with types that needs attention. Let us go back to our examples and examine how we can map each of the properties of our models into simpler types. Clearly the cardholder's name of a credit card can be a string, the expiration date is, well, a date. \n",
    "How about the type of the product? In principle can also be a string too. However, it seems that one can be more specific: for a food vending machine, one can make a bullet list of the possible food types:\n",
    "\n",
    "- chips\n",
    "- chocolate\n",
    "- candy\n",
    "\n",
    "and so on. There are also electronics vending machines, so one would have\n",
    "\n",
    "- phone\n",
    "- speakers\n",
    "- headphones\n",
    "- etc. \n",
    "\n",
    "The bullet list can be long, but probably one can write it down in a page (or, maybe it is provided by your vending machine client). \n",
    "\n",
    "It looks like one can classify the characteristics of inputs and outputs more broadly. On one hand, the cardholder's name of a credit card and expiration dates are huge (even infinite) collections that can not be determined _a priori_. On the other hand, we have some features that belong to a well predefined collection (car colors, types of products). \n",
    "\n",
    "Notice also that these two kind of types can be compound together in inputs or outputs, according to the bullet lists we wrote down. \n",
    "\n",
    "One of the greatest features of F\\# is to provide precise ways to implement these two kind of types. In the next sections we will see how to build these inputs and outputs in F\\#.\n",
    "\n",
    "By the way, the keyword that F\\# uses to build complex types is, of course, `type` ;-D. \n"
   ]
  },
  {
   "attachments": {},
   "cell_type": "markdown",
   "metadata": {},
   "source": [
    "# Discriminated unions\n",
    "\n",
    "One of the key aspects of F\\# (and other functional languages) is that it provides a specific syntax to model those characteristics of inputs and outputs that belong to a well predefined collection. These are called _discriminated unions_. \n",
    "\n",
    "The type for our food `vendingMachine` would be:"
   ]
  },
  {
   "cell_type": "code",
   "execution_count": 1,
   "metadata": {
    "dotnet_interactive": {
     "language": "fsharp"
    },
    "vscode": {
     "languageId": "dotnet-interactive.fsharp"
    }
   },
   "outputs": [],
   "source": [
    "type FoodProduct =\n",
    "    | Chips\n",
    "    | Chocolate\n",
    "    | Candy "
   ]
  },
  {
   "attachments": {},
   "cell_type": "markdown",
   "metadata": {},
   "source": [
    "while for the electronics we could have:"
   ]
  },
  {
   "cell_type": "code",
   "execution_count": 2,
   "metadata": {
    "dotnet_interactive": {
     "language": "fsharp"
    },
    "vscode": {
     "languageId": "dotnet-interactive.fsharp"
    }
   },
   "outputs": [],
   "source": [
    "type Electronics = \n",
    "    | Phones\n",
    "    | Speakers\n",
    "    | Headphones"
   ]
  },
  {
   "attachments": {},
   "cell_type": "markdown",
   "metadata": {},
   "source": [
    "> It is customary to use `PascalCase` for types.\n",
    "\n",
    "In the expressions above we are defining a type with a name (`FoodProduct`, `Electronics`) that can have several  case types. It is important to stress the fact that the cases of each discriminated union type are _disjoint_, that is, can not be accessed at the same time. For example:"
   ]
  },
  {
   "cell_type": "code",
   "execution_count": 3,
   "metadata": {
    "dotnet_interactive": {
     "language": "fsharp"
    },
    "vscode": {
     "languageId": "dotnet-interactive.fsharp"
    }
   },
   "outputs": [],
   "source": [
    "let s = Electronics.Speakers"
   ]
  },
  {
   "attachments": {},
   "cell_type": "markdown",
   "metadata": {},
   "source": [
    "`s` represents of course an speaker, and since it is inmutable, there is no possible way that can be a phone or a headphone. \n",
    "\n",
    "So how can we define functions with discriminated unions? Let us write a function `price` that receives an input of type `Electronics` and gives us the price:"
   ]
  },
  {
   "cell_type": "code",
   "execution_count": 5,
   "metadata": {
    "dotnet_interactive": {
     "language": "fsharp"
    },
    "vscode": {
     "languageId": "dotnet-interactive.fsharp"
    }
   },
   "outputs": [],
   "source": [
    "let price electronic = \n",
    "    match electronic with \n",
    "    | Phones -> 435\n",
    "    | Speakers -> 29\n",
    "    | Headphones -> 122"
   ]
  },
  {
   "cell_type": "code",
   "execution_count": 7,
   "metadata": {
    "dotnet_interactive": {
     "language": "fsharp"
    },
    "vscode": {
     "languageId": "dotnet-interactive.fsharp"
    }
   },
   "outputs": [
    {
     "name": "stdout",
     "output_type": "stream",
     "text": [
      "price: 29\n"
     ]
    }
   ],
   "source": [
    "let p = price s\n",
    "printfn \"price: %A\" (price s)"
   ]
  },
  {
   "cell_type": "markdown",
   "metadata": {},
   "source": []
  },
  {
   "cell_type": "markdown",
   "metadata": {},
   "source": [
    "\n",
    "\n",
    "\n",
    "\n",
    "\n",
    "\n",
    "\n",
    "\n",
    "\n",
    "- Say something about validation?\n",
    "\n",
    "\n",
    "\n",
    "\n",
    "\n"
   ]
  },
  {
   "cell_type": "markdown",
   "metadata": {},
   "source": [
    "\n",
    "\n",
    "#### Type inference\n",
    "\n",
    "We have lightly defined some values before: "
   ]
  },
  {
   "cell_type": "code",
   "execution_count": null,
   "metadata": {
    "dotnet_interactive": {
     "language": "fsharp"
    },
    "vscode": {
     "languageId": "dotnet-interactive.fsharp"
    }
   },
   "outputs": [],
   "source": [
    "let a = 1.0 + 3.0 // floats \n",
    "let s = \"this is a string\" \n",
    "let l = [1 ; 2 ; 3] // A list of integers \n",
    "let m = (\"Messi\",10) // A tuple of a string and a number \n",
    "let t = true // A bool "
   ]
  },
  {
   "attachments": {},
   "cell_type": "markdown",
   "metadata": {},
   "source": [
    "which, except for the use of the `let` keyword, can look quite familiar for, for example, Python: one uses the name of the value, the equal sign and the expression that will be assigned to the value in the right hand side. There is no declaration of _which_ type the value is! But we already stated that the language uses static types, so how the language knows which type each value has? \n",
    "\n",
    "If you hover your mouse over each of the values above, you can see something like this:\n",
    "\n",
    "![Type inference](../figures/type_inference.png)\n",
    "\n",
    "That box contains the type of the value `a` that has been _inferred_ by the compiler. Yes, when you code in a F\\# supported IDE, there will be an F\\# compiler digesting your code as you write it, and exploring which types are you working with. In the vast majority of the cases, the compiler guess is correct. There are some cases where it cannot infer the type from your code's context. in that case, you will see some red wiggles underlining your variable, and a warning message:\n",
    "\n",
    "![Indeterminate lookup](../figures/indeterminate_lookup.png)\n",
    "\n",
    "that says exactly that: the compiler does not know which type needs to assign to the troubled value.\n",
    "\n",
    "So, in general, one does not explicitly define the types of the values, and that task is delegated to the compiler behind scenes. However, one can define the type as: "
   ]
  },
  {
   "cell_type": "code",
   "execution_count": null,
   "metadata": {
    "dotnet_interactive": {
     "language": "fsharp"
    },
    "vscode": {
     "languageId": "dotnet-interactive.fsharp"
    }
   },
   "outputs": [],
   "source": [
    "let (aa: float) = 1.0 + 3.0 // floats \n",
    "let (ss: string) = \"this is a string\" \n",
    "let (ll: int list) = [1 ; 2 ; 3] // A list of integers \n",
    "let (mm: string * int) = (\"Messi\",10) // A tuple of a string and a number \n",
    "let (tt: bool) = true // A bool "
   ]
  },
  {
   "attachments": {},
   "cell_type": "markdown",
   "metadata": {},
   "source": [
    "In the case of functions one also uses `:<type>` just after defining all the inputs:"
   ]
  },
  {
   "cell_type": "code",
   "execution_count": null,
   "metadata": {
    "dotnet_interactive": {
     "language": "fsharp"
    },
    "vscode": {
     "languageId": "dotnet-interactive.fsharp"
    }
   },
   "outputs": [],
   "source": [
    "let sum a b : int = \n",
    "    a + b "
   ]
  },
  {
   "attachments": {},
   "cell_type": "markdown",
   "metadata": {
    "dotnet_interactive": {
     "language": "fsharp"
    }
   },
   "source": [
    "A closer look at the function above leads us to another property. Hovering over `sum` we see:\n",
    "\n",
    "![Inferred function types](../figures/function_types.png)\n",
    "\n",
    "The compiler says us that the function is of type \n",
    "```fsharp\n",
    "int -> int -> int \n",
    "```\n",
    "that is, it receives two `int`s as input and returns an `int` as output. We only needed to explicitly type the output of the function, and the compiler determined that both inputs are `int`s. That is because the sum operator `+` needs two values of the _same_ type, and there is no implicit promotion of types in the language:"
   ]
  },
  {
   "cell_type": "code",
   "execution_count": 1,
   "metadata": {
    "dotnet_interactive": {
     "language": "fsharp"
    },
    "vscode": {
     "languageId": "dotnet-interactive.fsharp"
    }
   },
   "outputs": [
    {
     "ename": "Error",
     "evalue": "input.fsx (2,14)-(2,17) typecheck error The type 'float' does not match the type 'int'\ninput.fsx (2,12)-(2,13) typecheck error The type 'float' does not match the type 'int'",
     "output_type": "error",
     "traceback": [
      "input.fsx (2,14)-(2,17) typecheck error The type 'float' does not match the type 'int'\n",
      "input.fsx (2,12)-(2,13) typecheck error The type 'float' does not match the type 'int'"
     ]
    }
   ],
   "source": [
    "let si = 2 + 3 \n",
    "let sf = 2 + 3.0 "
   ]
  },
  {
   "attachments": {},
   "cell_type": "markdown",
   "metadata": {},
   "source": [
    "#### Comment on FP vs OOP ?\n",
    "\n",
    "\n",
    " \n",
    "On the contrary, methods in a class are designed to change (that is, _mutate_) values of an instance of that class. \n",
    "[FP vs OP](https://betterprogramming.pub/functional-programming-vs-object-oriented-programming-why-you-dont-need-to-choose-29820f89f348)\n",
    "\n",
    "We also presented the primitive types as an example, but to program with a reasonable chance of success, it is necessary for the language to be able to aggregate different primitive types in more complex ones. In the case of object oriented languages, one builds a hierarchy of classes that represent the domain one is working on. Those classes encapsulate not only data (that is described in types) but also their associated behavior through methods. In the case of functional F\\#, and other functional languages, there is no need to attach behavior to types.\n",
    "\n",
    "\n",
    "\n",
    "\n",
    "\n",
    "#### Thinking with types\n",
    "\n",
    "As said before, almost all programming languages provide an idea of aggregating simple types (strings, bools, ints, etc.) into more complex ones, which is needed to properly describe a domain. The basic data of a user (name, email, etc.) can be put together in a type, the email data (to, from, subject, text, etc.) in another one and so on. Combining these new types one can generate more and more complex ones, until you can build, for example, all the types needed for an email application. \n",
    "\n",
    "One of the most important steps in programming is to study the domain one is working on, and to fully understand how one can describe that domain with data and the processes that manage those data. In object oriented programming one is allowed (even required) to glue related processes and data together in classes. In functional programming one focuses on how processes (that is, functions) relate different kinds of data (that is, types). Since data in functional programming is inmutable and functions create outputs from inputs, one needs to identify the processes of our domain and distill them into functions, with proper inputs and outputs, in such a way that one can combine those functions together by composing them properly. Therefore, the analysis of a process and it conversion into functions not only requires to define the rules and the logic of the creation of outputs from inputs, buy more importantly, to adequate stablish those inputs and outputs such that composition of functions can be used (see again this [beautiful picture example](https://mathinsight.org/function_machine_composition)).\n",
    "\n",
    "Functional programming languages typically define two kinds of aggregate types: product types and sum types. Product types \n",
    "\n",
    "#### Product type: Records\n",
    "\n"
   ]
  },
  {
   "attachments": {},
   "cell_type": "markdown",
   "metadata": {},
   "source": [
    "\n",
    "\n",
    "#### Sum type: Discriminated unions"
   ]
  },
  {
   "cell_type": "markdown",
   "metadata": {},
   "source": []
  },
  {
   "cell_type": "markdown",
   "metadata": {},
   "source": []
  }
 ],
 "metadata": {
  "kernelspec": {
   "display_name": ".NET (C#)",
   "language": "C#",
   "name": ".net-csharp"
  },
  "language_info": {
   "file_extension": ".cs",
   "mimetype": "text/x-csharp",
   "name": "C#",
   "pygments_lexer": "csharp",
   "version": "9.0"
  },
  "orig_nbformat": 4,
  "vscode": {
   "interpreter": {
    "hash": "1a1af0ee75eeea9e2e1ee996c87e7a2b11a0bebd85af04bb136d915cefc0abce"
   }
  }
 },
 "nbformat": 4,
 "nbformat_minor": 2
}
