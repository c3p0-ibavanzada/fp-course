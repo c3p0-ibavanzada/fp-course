{
 "cells": [
  {
   "attachments": {},
   "cell_type": "markdown",
   "metadata": {
    "dotnet_interactive": {
     "language": "csharp"
    },
    "vscode": {
     "languageId": "csharp"
    }
   },
   "source": [
    "### Types\n",
    "\n",
    "We have covered the basics of functions in F\\#, and defined some properties that difference them from routines or procedures in other languages. We also presented the primitive types as an example, but program with a reasonable chance of success, it is necessary for the language to be able to aggregate different primitive types in more complex ones. In the case of object oriented languages, one builds a hierarchy of classes that represent the domain one is working on. Those classes encapsulate not only data (that is described in types) but also their associated behavior through methods. \n",
    "\n",
    "\n",
    "In the case of functional F\\#, and other functional languages, there is no need to attach behavior to types. Let us remember that functions always receive inputs and _create_ outputs, and also, all values are inmutable. On the contrary, methods in a class are designed to change (that is, _mutate_) values of an instance of that class. \n",
    "[FP vs OP](https://betterprogramming.pub/functional-programming-vs-object-oriented-programming-why-you-dont-need-to-choose-29820f89f348)\n",
    "\n",
    "#### Type inference\n",
    "\n",
    "We have lightly defined some values before: "
   ]
  },
  {
   "cell_type": "code",
   "execution_count": null,
   "metadata": {
    "dotnet_interactive": {
     "language": "fsharp"
    },
    "vscode": {
     "languageId": "dotnet-interactive.fsharp"
    }
   },
   "outputs": [],
   "source": [
    "let a = 1.0 + 3.0 // floats \n",
    "let s = \"this is a string\" \n",
    "let l = [1 ; 2 ; 3] // A list of integers \n",
    "let m = (\"Messi\",10) // A tuple of a string and a number \n",
    "let t = true // A bool "
   ]
  },
  {
   "attachments": {},
   "cell_type": "markdown",
   "metadata": {},
   "source": [
    "which, except for the use of the `let` keyword, can look quite familiar for, for example, Python developers: one uses the name of the value, the equal sign and the expression that will be assigned to the value in the right hand side. There is no declaration of _which_ type the value is! But we already stated that the language uses static types, so how the language knows which type each value has? \n",
    "\n",
    "If you hover your mouse over each of the values above, you can see something like this:\n",
    "\n",
    "![Type inference](../figures/type_inference.png)\n",
    "\n",
    "That box contains the type of the value `a` that has been _inferred_ by the compiler. Yes, when you code in a F\\# supported IDE, there will be an F\\# compiler digesting your code as you write it, and exploring which types are you working with. In the vast majority of the cases, the compiler guess is correct. There are some cases where it cannot infer the type from your code's context. in that case, you will see some red wiggles underlining your variable, and a warning message:\n",
    "\n",
    "![Indeterminate lookup](../figures/indeterminate_lookup.png)\n",
    "\n",
    "that says exactly that: the compiler does not know which type needs to assign to the troubled value.\n",
    "\n",
    "So, in general, one does not explicitly define the types of the values, and that task is delegated to the compiler behind scenes. However, one can define the type as: "
   ]
  },
  {
   "cell_type": "code",
   "execution_count": null,
   "metadata": {
    "dotnet_interactive": {
     "language": "fsharp"
    },
    "vscode": {
     "languageId": "dotnet-interactive.fsharp"
    }
   },
   "outputs": [],
   "source": [
    "let (aa: float) = 1.0 + 3.0 // floats \n",
    "let (ss: string) = \"this is a string\" \n",
    "let (ll: int list) = [1 ; 2 ; 3] // A list of integers \n",
    "let (mm: string * int) = (\"Messi\",10) // A tuple of a string and a number \n",
    "let (tt: bool) = true // A bool "
   ]
  },
  {
   "attachments": {},
   "cell_type": "markdown",
   "metadata": {},
   "source": [
    "In the case of functions one also uses `:<type>` just after defining all the inputs:"
   ]
  },
  {
   "cell_type": "code",
   "execution_count": null,
   "metadata": {
    "dotnet_interactive": {
     "language": "fsharp"
    },
    "vscode": {
     "languageId": "dotnet-interactive.fsharp"
    }
   },
   "outputs": [],
   "source": [
    "let sum a b : int = \n",
    "    a + b "
   ]
  },
  {
   "attachments": {},
   "cell_type": "markdown",
   "metadata": {
    "dotnet_interactive": {
     "language": "fsharp"
    }
   },
   "source": [
    "A closer look at the function above leads us to another property. Hovering over `sum` we see:\n",
    "\n",
    "![Inferred function types](../figures/function_types.png)\n",
    "\n",
    "The compiler says us that the function is of type \n",
    "```fsharp\n",
    "int -> int -> int \n",
    "```\n",
    "that is, it receives two `int`s as input and returns an `int` as output. We only needed to explicitly type the output of the function, and the compiler determined that both inputs are `int`s. That is because the sum operator `+` needs two values of the _same_ type, and there is no implicit promotion of types in the language:"
   ]
  },
  {
   "cell_type": "code",
   "execution_count": 1,
   "metadata": {
    "dotnet_interactive": {
     "language": "fsharp"
    },
    "vscode": {
     "languageId": "dotnet-interactive.fsharp"
    }
   },
   "outputs": [
    {
     "ename": "Error",
     "evalue": "input.fsx (2,14)-(2,17) typecheck error The type 'float' does not match the type 'int'\ninput.fsx (2,12)-(2,13) typecheck error The type 'float' does not match the type 'int'",
     "output_type": "error",
     "traceback": [
      "input.fsx (2,14)-(2,17) typecheck error The type 'float' does not match the type 'int'\n",
      "input.fsx (2,12)-(2,13) typecheck error The type 'float' does not match the type 'int'"
     ]
    }
   ],
   "source": [
    "let si = 2 + 3 \n",
    "let sf = 2 + 3.0 "
   ]
  },
  {
   "attachments": {},
   "cell_type": "markdown",
   "metadata": {},
   "source": [
    "\n",
    "#### Product type: Records\n",
    "\n",
    "#### Sum type: Discriminated unions"
   ]
  },
  {
   "cell_type": "markdown",
   "metadata": {},
   "source": []
  },
  {
   "cell_type": "markdown",
   "metadata": {},
   "source": []
  }
 ],
 "metadata": {
  "kernelspec": {
   "display_name": ".NET (C#)",
   "language": "C#",
   "name": ".net-csharp"
  },
  "language_info": {
   "file_extension": ".cs",
   "mimetype": "text/x-csharp",
   "name": "C#",
   "pygments_lexer": "csharp",
   "version": "9.0"
  },
  "orig_nbformat": 4,
  "vscode": {
   "interpreter": {
    "hash": "1a1af0ee75eeea9e2e1ee996c87e7a2b11a0bebd85af04bb136d915cefc0abce"
   }
  }
 },
 "nbformat": 4,
 "nbformat_minor": 2
}
