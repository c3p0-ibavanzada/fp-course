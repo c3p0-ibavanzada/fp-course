{
 "cells": [
  {
   "cell_type": "code",
   "execution_count": 18,
   "metadata": {
    "dotnet_interactive": {
     "language": "fsharp"
    },
    "vscode": {
     "languageId": "dotnet-interactive.fsharp"
    }
   },
   "outputs": [],
   "source": [
    "type Food =\n",
    "    | Chips\n",
    "    | Chocolate\n",
    "    | Candy \n",
    "\n",
    "type Beverage = \n",
    "    | Soda\n",
    "    | Water\n",
    "    | IcedTea     \n",
    "    | Juice \n",
    "\n",
    "type FoodType = \n",
    "    | Food of Food\n",
    "    | Beverage of Beverage"
   ]
  },
  {
   "cell_type": "code",
   "execution_count": 19,
   "metadata": {
    "dotnet_interactive": {
     "language": "fsharp"
    },
    "vscode": {
     "languageId": "dotnet-interactive.fsharp"
    }
   },
   "outputs": [],
   "source": [
    "type Product =\n",
    "    { \n",
    "        Type : FoodType        \n",
    "        Price : float  \n",
    "    }"
   ]
  },
  {
   "cell_type": "code",
   "execution_count": 20,
   "metadata": {
    "dotnet_interactive": {
     "language": "fsharp"
    },
    "vscode": {
     "languageId": "dotnet-interactive.fsharp"
    }
   },
   "outputs": [],
   "source": [
    "let createProduct kind price = \n",
    "    {\n",
    "        Type = kind\n",
    "        Price = price \n",
    "    }\n",
    "\n",
    "\n",
    "let coke = createProduct (Beverage (Beverage.Soda)) 2.3\n",
    "let fanta = createProduct (Beverage (Beverage.Soda)) 2.5\n",
    "let black = createProduct (Beverage (Beverage.Soda)) 1.3\n",
    "let shot = createProduct (Food (Food.Chocolate)) 2.1\n",
    "let nachos = createProduct (Food (Food.Chips)) 3.5\n",
    "let drf = createProduct (Food (Food.Candy)) 0.8 \n"
   ]
  },
  {
   "cell_type": "code",
   "execution_count": 37,
   "metadata": {
    "dotnet_interactive": {
     "language": "fsharp"
    },
    "vscode": {
     "languageId": "dotnet-interactive.fsharp"
    }
   },
   "outputs": [],
   "source": [
    "type SlotSize =\n",
    "    | Single\n",
    "    | Double\n",
    "    | Triple \n",
    "\n",
    "type Slot = \n",
    "    { \n",
    "        SlotSize : SlotSize\n",
    "        Product:  Product \n",
    "        Occupancy: int \n",
    "    }    \n",
    "\n",
    "type Shelf =\n",
    "    | Shelf of Slot list \n",
    "\n",
    "type ShelfConfig =\n",
    "    | Config of SlotSize list     \n",
    "\n",
    "let shelfSize shelfConfig = \n",
    "    let (Config slots) = shelfConfig\n",
    "    slots.Length \n"
   ]
  },
  {
   "cell_type": "code",
   "execution_count": 38,
   "metadata": {
    "dotnet_interactive": {
     "language": "fsharp"
    },
    "vscode": {
     "languageId": "dotnet-interactive.fsharp"
    }
   },
   "outputs": [],
   "source": [
    "\n",
    "let spaces slotSize = \n",
    "    match slotSize with \n",
    "    | Single -> 1 \n",
    "    | Double -> 2 \n",
    "    | Triple -> 3 \n",
    "\n",
    "let slotIndex (Config shelfConfig) = \n",
    "    shelfConfig\n",
    "    |> List.map spaces \n",
    "    |> List.scan (fun s a -> a + s ) 0  \n",
    "    |> List.map (fun i -> i+1)  // Starting scan in 1 avoids this\n",
    "    |> List.take shelfConfig.Length \n",
    "\n",
    "\n"
   ]
  },
  {
   "attachments": {},
   "cell_type": "markdown",
   "metadata": {},
   "source": [
    "Shelves functions "
   ]
  },
  {
   "cell_type": "code",
   "execution_count": null,
   "metadata": {
    "dotnet_interactive": {
     "language": "fsharp"
    },
    "vscode": {
     "languageId": "dotnet-interactive.fsharp"
    }
   },
   "outputs": [],
   "source": [
    "let firstSlotConfig = Config [Single;Single;Double;Double;Single;Single;Double]\n",
    "let singleConfig = List.init 10 (fun _ -> Single) \n",
    "                    |> Config \n",
    " \n",
    "\n",
    "\n",
    "\n",
    "// [1;2;3;5;7;8;9;10]\n",
    "let firstSlotIndex =\n",
    "    slotIndex firstSlotConfig \n",
    "\n",
    "let singleSlotIndex =\n",
    "    slotIndex singleConfig \n",
    "\n",
    "\n"
   ]
  },
  {
   "cell_type": "code",
   "execution_count": 23,
   "metadata": {
    "dotnet_interactive": {
     "language": "fsharp"
    },
    "vscode": {
     "languageId": "dotnet-interactive.fsharp"
    }
   },
   "outputs": [],
   "source": [
    "let singleSlot beverage occ = \n",
    "    {\n",
    "        SlotSize = Single\n",
    "        Product = beverage \n",
    "        Occupancy = occ \n",
    "\n",
    "    }\n",
    "\n",
    "let doubleSlot food occ = \n",
    "    {\n",
    "        SlotSize = Double\n",
    "        Product = food  \n",
    "        Occupancy = occ \n",
    "\n",
    "    }\n",
    "    "
   ]
  },
  {
   "attachments": {},
   "cell_type": "markdown",
   "metadata": {
    "dotnet_interactive": {
     "language": "fsharp"
    }
   },
   "source": [
    "Now we want to populate the shelf doing something like this:\n",
    "```fsharp\n",
    "let firstShelf = Shelf [fanta;shot;nachos;nachos;drf;shot;nachos]\n",
    "```\n",
    "but the problem is that one can put a single slot product into a double one. How can we solve this?"
   ]
  },
  {
   "attachments": {},
   "cell_type": "markdown",
   "metadata": {},
   "source": [
    "#### Scan list example\n",
    "\n",
    "Note that it always generates an extra element, with the `fold` applied completely to the list. "
   ]
  },
  {
   "cell_type": "code",
   "execution_count": null,
   "metadata": {
    "dotnet_interactive": {
     "language": "fsharp"
    },
    "vscode": {
     "languageId": "dotnet-interactive.fsharp"
    }
   },
   "outputs": [],
   "source": [
    "[1;1;2;2;1;1;2]\n",
    "    |> List.scan (fun s a -> a + s ) 1"
   ]
  }
 ],
 "metadata": {
  "kernelspec": {
   "display_name": ".NET (C#)",
   "language": "C#",
   "name": ".net-csharp"
  },
  "language_info": {
   "file_extension": ".cs",
   "mimetype": "text/x-csharp",
   "name": "C#",
   "pygments_lexer": "csharp",
   "version": "9.0"
  },
  "orig_nbformat": 4
 },
 "nbformat": 4,
 "nbformat_minor": 2
}
