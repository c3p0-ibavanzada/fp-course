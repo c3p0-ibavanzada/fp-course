{
 "cells": [
  {
   "cell_type": "code",
   "execution_count": 3,
   "metadata": {
    "dotnet_interactive": {
     "language": "fsharp"
    },
    "vscode": {
     "languageId": "dotnet-interactive.fsharp"
    }
   },
   "outputs": [
    {
     "name": "stdout",
     "output_type": "stream",
     "text": [
      "dani es Bostero\n",
      "leo es Gallina\n",
      "jose sos de Racing, no existis\n"
     ]
    }
   ],
   "source": [
    "let q = 10\n",
    "\n",
    "type EquipoChico =\n",
    "    | Huracan\n",
    "    | SanLorenzo\n",
    "    | EquipoMasChicoTodavia of string \n",
    "\n",
    "type Hincha =\n",
    "    | DeBoca \n",
    "    | DeRiver\n",
    "    | DeEquipoChico of EquipoChico \n",
    "\n",
    "let esHinchaDe hincha =    \n",
    "    match hincha with \n",
    "    | DeBoca -> \"Bostero\"\n",
    "    | DeRiver -> \"Gallina\"\n",
    "    | DeEquipoChico hincha -> \n",
    "        match hincha with \n",
    "        | Huracan -> \"Del Globo\"\n",
    "        | SanLorenzo -> \"Cuervo\"\n",
    "        | EquipoMasChicoTodavia hincha -> $\"sos de {hincha}, no existis\"\n",
    "\n",
    "\n",
    "let dani = Hincha.DeBoca\n",
    "let leo = Hincha.DeRiver\n",
    "let jose = Hincha.DeEquipoChico (EquipoChico.EquipoMasChicoTodavia \"Racing\")\n",
    "\n",
    "printfn $\"dani es {esHinchaDe dani}\"\n",
    "printfn $\"leo es {esHinchaDe leo}\"\n",
    "printfn $\"jose {esHinchaDe jose}\"\n",
    "\n"
   ]
  }
 ],
 "metadata": {
  "kernelspec": {
   "display_name": ".NET (C#)",
   "language": "C#",
   "name": ".net-csharp"
  },
  "language_info": {
   "file_extension": ".cs",
   "mimetype": "text/x-csharp",
   "name": "C#",
   "pygments_lexer": "csharp",
   "version": "9.0"
  },
  "orig_nbformat": 4
 },
 "nbformat": 4,
 "nbformat_minor": 2
}
