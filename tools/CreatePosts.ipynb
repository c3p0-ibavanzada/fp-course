{
 "cells": [
  {
   "cell_type": "code",
   "execution_count": 8,
   "metadata": {
    "dotnet_interactive": {
     "language": "fsharp"
    },
    "polyglot_notebook": {
     "kernelName": "fsharp"
    }
   },
   "outputs": [
    {
     "data": {
      "text/html": [
       "<div><div></div><div></div><div><strong>Installed Packages</strong><ul><li><span>Fli, 1.0.1</span></li></ul></div></div>"
      ]
     },
     "metadata": {},
     "output_type": "display_data"
    }
   ],
   "source": [
    "#r \"nuget: Fli\"\n",
    "\n",
    "open Fli\n",
    "open System.IO\n",
    "\n",
    "let postsFlaDir = \"/Users/flavioc/Web/fcolavecchia/_fsharp\"\n",
    "let srcDir = \"/Users/flavioc/Documents/Blog/\"\n",
    "\n"
   ]
  },
  {
   "cell_type": "code",
   "execution_count": 3,
   "metadata": {
    "dotnet_interactive": {
     "language": "fsharp"
    },
    "polyglot_notebook": {
     "kernelName": "fsharp"
    }
   },
   "outputs": [],
   "source": [
    "let nbConvert file outfile =\n",
    "    let fullName = Path.Combine(srcDir,\"en\",file)\n",
    "    $\"/opt/miniconda3/bin/jupyter nbconvert --to markdown {fullName}.ipynb --no-prompt --output={outfile}\""
   ]
  },
  {
   "cell_type": "code",
   "execution_count": 4,
   "metadata": {
    "dotnet_interactive": {
     "language": "fsharp"
    },
    "polyglot_notebook": {
     "kernelName": "fsharp"
    }
   },
   "outputs": [],
   "source": [
    "let cliConvert inFile outfile = \n",
    "    cli {\n",
    "        Shell BASH \n",
    "        Command (\"\\\"\" + (nbConvert inFile outfile) + \"\\\"\" )\n",
    "        // Arguments $\"--output={outfile}\" \n",
    "        WorkingDirectory (Path.Combine(srcDir,\"tools\"))\n",
    "    }\n",
    "\n",
    "let dry (cliValue:  ShellContext) =    \n",
    "    cliValue \n",
    "    |> Command.toString\n",
    "\n",
    "let run (cliValue:  ShellContext) =    \n",
    "    cliValue \n",
    "    |> Command.execute\n"
   ]
  },
  {
   "cell_type": "code",
   "execution_count": 13,
   "metadata": {
    "dotnet_interactive": {
     "language": "fsharp"
    },
    "polyglot_notebook": {
     "kernelName": "fsharp"
    }
   },
   "outputs": [
    {
     "data": {
      "text/html": [
       "<table><thead><tr><th><i>index</i></th><th>value</th></tr></thead><tbody><tr><td>0</td><td>Fundamentals</td></tr><tr><td>1</td><td>Functions</td></tr><tr><td>2</td><td>IntroToTypes</td></tr><tr><td>3</td><td>DiscriminatedUnions</td></tr><tr><td>4</td><td>Records</td></tr><tr><td>5</td><td>TypeExercises</td></tr></tbody></table><style>\r\n",
       ".dni-code-hint {\r\n",
       "    font-style: italic;\r\n",
       "    overflow: hidden;\r\n",
       "    white-space: nowrap;\r\n",
       "}\r\n",
       ".dni-treeview {\r\n",
       "    white-space: nowrap;\r\n",
       "}\r\n",
       ".dni-treeview td {\r\n",
       "    vertical-align: top;\r\n",
       "    text-align: start;\r\n",
       "}\r\n",
       "details.dni-treeview {\r\n",
       "    padding-left: 1em;\r\n",
       "}\r\n",
       "table td {\r\n",
       "    text-align: start;\r\n",
       "}\r\n",
       "table tr { \r\n",
       "    vertical-align: top; \r\n",
       "    margin: 0em 0px;\r\n",
       "}\r\n",
       "table tr td pre \r\n",
       "{ \r\n",
       "    vertical-align: top !important; \r\n",
       "    margin: 0em 0px !important;\r\n",
       "} \r\n",
       "table th {\r\n",
       "    text-align: start;\r\n",
       "}\r\n",
       "</style>"
      ]
     },
     "metadata": {},
     "output_type": "display_data"
    }
   ],
   "source": [
    "let allNotebooks = Directory.GetFiles(Path.Combine(srcDir,\"en/\"),\"*.ipynb\")\n",
    "let notebooks = \n",
    "    [\n",
    "        \"Fundamentals\"\n",
    "        \"Functions\"\n",
    "        \"IntroToTypes\"\n",
    "        \"DiscriminatedUnions\"\n",
    "        \"Records\"\n",
    "        \"TypeExercises\"\n",
    "    ]\n",
    "    \n",
    "notebooks"
   ]
  },
  {
   "cell_type": "code",
   "execution_count": 14,
   "metadata": {
    "dotnet_interactive": {
     "language": "fsharp"
    },
    "polyglot_notebook": {
     "kernelName": "fsharp"
    }
   },
   "outputs": [
    {
     "data": {
      "text/html": [
       "<table><thead><tr><th><i>index</i></th><th>value</th></tr></thead><tbody><tr><td>0</td><td>/Users/flavioc/Web/fcolavecchia/_fsharp/Fundamentals.md</td></tr><tr><td>1</td><td>/Users/flavioc/Web/fcolavecchia/_fsharp/Functions.md</td></tr><tr><td>2</td><td>/Users/flavioc/Web/fcolavecchia/_fsharp/IntroToTypes.md</td></tr><tr><td>3</td><td>/Users/flavioc/Web/fcolavecchia/_fsharp/DiscriminatedUnions.md</td></tr><tr><td>4</td><td>/Users/flavioc/Web/fcolavecchia/_fsharp/Records.md</td></tr><tr><td>5</td><td>/Users/flavioc/Web/fcolavecchia/_fsharp/TypeExercises.md</td></tr></tbody></table><style>\r\n",
       ".dni-code-hint {\r\n",
       "    font-style: italic;\r\n",
       "    overflow: hidden;\r\n",
       "    white-space: nowrap;\r\n",
       "}\r\n",
       ".dni-treeview {\r\n",
       "    white-space: nowrap;\r\n",
       "}\r\n",
       ".dni-treeview td {\r\n",
       "    vertical-align: top;\r\n",
       "    text-align: start;\r\n",
       "}\r\n",
       "details.dni-treeview {\r\n",
       "    padding-left: 1em;\r\n",
       "}\r\n",
       "table td {\r\n",
       "    text-align: start;\r\n",
       "}\r\n",
       "table tr { \r\n",
       "    vertical-align: top; \r\n",
       "    margin: 0em 0px;\r\n",
       "}\r\n",
       "table tr td pre \r\n",
       "{ \r\n",
       "    vertical-align: top !important; \r\n",
       "    margin: 0em 0px !important;\r\n",
       "} \r\n",
       "table th {\r\n",
       "    text-align: start;\r\n",
       "}\r\n",
       "</style>"
      ]
     },
     "metadata": {},
     "output_type": "display_data"
    }
   ],
   "source": [
    "let posts = \n",
    "    notebooks\n",
    "    // |> List.mapi (fun i n -> string i + \"_\"+n)\n",
    "    |> List.map (fun n -> Path.Combine(postsFlaDir,n+\".md\"))\n",
    "    // |> List.map (fun (ni,no) -> dry (cliConvert ni no))\n",
    "posts"
   ]
  },
  {
   "cell_type": "code",
   "execution_count": 17,
   "metadata": {
    "dotnet_interactive": {
     "language": "fsharp"
    },
    "polyglot_notebook": {
     "kernelName": "fsharp"
    }
   },
   "outputs": [
    {
     "data": {
      "text/html": [
       "<table><thead><tr><th><i>index</i></th><th>Id</th><th>Text</th><th>ExitCode</th><th>Error</th></tr></thead><tbody><tr><td>0</td><td><div class=\"dni-plaintext\"><pre>91938</pre></div></td><td><div class=\"dni-plaintext\"><pre>&lt;null&gt;</pre></div></td><td><div class=\"dni-plaintext\"><pre>0</pre></div></td><td><table><thead><tr><th>Value</th></tr></thead><tbody><tr><td><div class=\"dni-plaintext\"><pre>[NbConvertApp] Converting notebook /Users/flavioc/Documents/Blog/en/Fundamentals.ipynb to markdown\n",
       "[NbConvertApp] Writing 8666 bytes to /Users/flavioc/Web/fcolavecchia/_fsharp/Fundamentals.md</pre></div></td></tr></tbody></table></td></tr><tr><td>1</td><td><div class=\"dni-plaintext\"><pre>91941</pre></div></td><td><div class=\"dni-plaintext\"><pre>&lt;null&gt;</pre></div></td><td><div class=\"dni-plaintext\"><pre>0</pre></div></td><td><table><thead><tr><th>Value</th></tr></thead><tbody><tr><td><div class=\"dni-plaintext\"><pre>[NbConvertApp] Converting notebook /Users/flavioc/Documents/Blog/en/Functions.ipynb to markdown\n",
       "[NbConvertApp] Writing 12049 bytes to /Users/flavioc/Web/fcolavecchia/_fsharp/Functions.md</pre></div></td></tr></tbody></table></td></tr><tr><td>2</td><td><div class=\"dni-plaintext\"><pre>91949</pre></div></td><td><div class=\"dni-plaintext\"><pre>&lt;null&gt;</pre></div></td><td><div class=\"dni-plaintext\"><pre>0</pre></div></td><td><table><thead><tr><th>Value</th></tr></thead><tbody><tr><td><div class=\"dni-plaintext\"><pre>[NbConvertApp] Converting notebook /Users/flavioc/Documents/Blog/en/IntroToTypes.ipynb to markdown\n",
       "[NbConvertApp] Writing 13524 bytes to /Users/flavioc/Web/fcolavecchia/_fsharp/IntroToTypes.md</pre></div></td></tr></tbody></table></td></tr><tr><td>3</td><td><div class=\"dni-plaintext\"><pre>91954</pre></div></td><td><div class=\"dni-plaintext\"><pre>&lt;null&gt;</pre></div></td><td><div class=\"dni-plaintext\"><pre>0</pre></div></td><td><table><thead><tr><th>Value</th></tr></thead><tbody><tr><td><div class=\"dni-plaintext\"><pre>[NbConvertApp] Converting notebook /Users/flavioc/Documents/Blog/en/DiscriminatedUnions.ipynb to markdown\n",
       "[NbConvertApp] Writing 9648 bytes to /Users/flavioc/Web/fcolavecchia/_fsharp/DiscriminatedUnions.md</pre></div></td></tr></tbody></table></td></tr><tr><td>4</td><td><div class=\"dni-plaintext\"><pre>91961</pre></div></td><td><div class=\"dni-plaintext\"><pre>&lt;null&gt;</pre></div></td><td><div class=\"dni-plaintext\"><pre>0</pre></div></td><td><table><thead><tr><th>Value</th></tr></thead><tbody><tr><td><div class=\"dni-plaintext\"><pre>[NbConvertApp] Converting notebook /Users/flavioc/Documents/Blog/en/Records.ipynb to markdown\n",
       "[NbConvertApp] Writing 4894 bytes to /Users/flavioc/Web/fcolavecchia/_fsharp/Records.md</pre></div></td></tr></tbody></table></td></tr><tr><td>5</td><td><div class=\"dni-plaintext\"><pre>91969</pre></div></td><td><div class=\"dni-plaintext\"><pre>&lt;null&gt;</pre></div></td><td><div class=\"dni-plaintext\"><pre>0</pre></div></td><td><table><thead><tr><th>Value</th></tr></thead><tbody><tr><td><div class=\"dni-plaintext\"><pre>[NbConvertApp] Converting notebook /Users/flavioc/Documents/Blog/en/TypeExercises.ipynb to markdown\n",
       "[NbConvertApp] Writing 1980 bytes to /Users/flavioc/Web/fcolavecchia/_fsharp/TypeExercises.md</pre></div></td></tr></tbody></table></td></tr></tbody></table><style>\r\n",
       ".dni-code-hint {\r\n",
       "    font-style: italic;\r\n",
       "    overflow: hidden;\r\n",
       "    white-space: nowrap;\r\n",
       "}\r\n",
       ".dni-treeview {\r\n",
       "    white-space: nowrap;\r\n",
       "}\r\n",
       ".dni-treeview td {\r\n",
       "    vertical-align: top;\r\n",
       "    text-align: start;\r\n",
       "}\r\n",
       "details.dni-treeview {\r\n",
       "    padding-left: 1em;\r\n",
       "}\r\n",
       "table td {\r\n",
       "    text-align: start;\r\n",
       "}\r\n",
       "table tr { \r\n",
       "    vertical-align: top; \r\n",
       "    margin: 0em 0px;\r\n",
       "}\r\n",
       "table tr td pre \r\n",
       "{ \r\n",
       "    vertical-align: top !important; \r\n",
       "    margin: 0em 0px !important;\r\n",
       "} \r\n",
       "table th {\r\n",
       "    text-align: start;\r\n",
       "}\r\n",
       "</style>"
      ]
     },
     "metadata": {},
     "output_type": "display_data"
    }
   ],
   "source": [
    "(notebooks, posts)\n",
    "    ||> List.map2 (fun ni no -> run (cliConvert ni no))"
   ]
  },
  {
   "cell_type": "code",
   "execution_count": null,
   "metadata": {
    "dotnet_interactive": {
     "language": "fsharp"
    },
    "polyglot_notebook": {
     "kernelName": "fsharp"
    }
   },
   "outputs": [],
   "source": [
    "(notebooks, posts)\n",
    "    ||> List.map2 (fun ni no -> run (cliConvert ni no))"
   ]
  },
  {
   "cell_type": "code",
   "execution_count": null,
   "metadata": {
    "dotnet_interactive": {
     "language": "fsharp"
    },
    "polyglot_notebook": {
     "kernelName": "fsharp"
    }
   },
   "outputs": [],
   "source": [
    "let test =\n",
    "    cli {\n",
    "        Shell BASH\n",
    "        Command \"echo Hello World!\"\n",
    "    }\n",
    "    // |> Command.execute\n",
    "test"
   ]
  },
  {
   "cell_type": "code",
   "execution_count": 20,
   "metadata": {
    "dotnet_interactive": {
     "language": "fsharp"
    },
    "polyglot_notebook": {
     "kernelName": "fsharp"
    }
   },
   "outputs": [],
   "source": [
    "let frontmatter title tagline = \n",
    "    $\"---\n",
    "layout: post\n",
    "title:  {title}\n",
    "tagline: {tagline}\n",
    "categories: \n",
    "- F# as your first functional programming language\n",
    "tags:\n",
    "- fsharp\n",
    "---\n",
    "\""
   ]
  },
  {
   "cell_type": "code",
   "execution_count": null,
   "metadata": {
    "dotnet_interactive": {
     "language": "fsharp"
    },
    "polyglot_notebook": {
     "kernelName": "fsharp"
    }
   },
   "outputs": [],
   "source": [
    "printfn \"%A\" (frontmatter \"hola\" \" To completely define a function, you not only need to establish its behavior, but also its inputs and outputs. That is what _types_ are for! )"
   ]
  },
  {
   "cell_type": "code",
   "execution_count": 21,
   "metadata": {
    "dotnet_interactive": {
     "language": "fsharp"
    },
    "polyglot_notebook": {
     "kernelName": "fsharp"
    }
   },
   "outputs": [
    {
     "name": "stdout",
     "output_type": "stream",
     "text": [
      "\"These guides are oriented to those progammers interested in learning some concepts on F\\# functional programming, from a practical perspective. \"\n"
     ]
    }
   ],
   "source": [
    "let sent = @\"These guides are oriented to those progammers interested in learning some concepts on F\\# functional programming, from a practical perspective. F\\# is an excelent _first_ functional programming language: it is functional (of course), it has a clean and readable syntax (not a lot of fancy symbols and stuff), it is flexible (in case you need to grasp some other paradigm in the middle of your code) and it is concise enough to express your ideas with clarity. \"\n",
    "\n",
    "let findFirstSentence s =\n",
    "    let regex = @\"^(.*?[\\.!\\?](?:\\s|$))\"\n",
    "    let rx = System.Text.RegularExpressions.Regex(regex, System.Text.RegularExpressions.RegexOptions.Compiled)\n",
    "\n",
    "    let check e =\n",
    "        let m = rx.Match(e)\n",
    "        m.Value//, m.Groups[1], m.Groups[2])\n",
    "\n",
    "    check s \n",
    "\n",
    "printfn \"%A\" (findFirstSentence sent)\n",
    "        \n",
    "\n"
   ]
  },
  {
   "cell_type": "code",
   "execution_count": 26,
   "metadata": {
    "dotnet_interactive": {
     "language": "fsharp"
    },
    "polyglot_notebook": {
     "kernelName": "fsharp"
    }
   },
   "outputs": [],
   "source": [
    "let createFrontMatter post =\n",
    "    let lines = System.IO.File.ReadLines(post)\n",
    "                |> Seq.toList\n",
    "\n",
    "    let title = \n",
    "        let firstline = lines.[0]\n",
    "        firstline.Replace(\"## \",\"\")\n",
    "\n",
    "    let firstline = \n",
    "        lines[1..10]\n",
    "        |> List.tryFindIndex (fun l -> l.Contains(\"##\"))   \n",
    "        |> Option.defaultValue 1     \n",
    "\n",
    "\n",
    "    let tagline = lines[1..10]  \n",
    "                |> List.tryFind (fun s -> \n",
    "                                    String.IsNullOrEmpty(s) |> not &&\n",
    "                                    s.Contains(\"##\") |> not)   \n",
    "                |> Option.map findFirstSentence \n",
    "                |> Option.defaultValue \"\"    \n",
    "\n",
    "    // printfn \"%A\" title\n",
    "    // printfn \"%A\" tagline\n",
    "    let front = frontmatter title tagline \n",
    "    let newpost = [front] @ lines[firstline..]\n",
    "    let newFile = post.Replace(\".md\",\"_new.md\")\n",
    "    // printfn \"%A\" newFile\n",
    "    File.AppendAllLines(newFile, newpost)\n",
    "    \n",
    "    // printfn \"%A\" (newpost[0..20] |> String.Concat)\n",
    "    // newpost\n",
    "\n",
    "// printfn \"%A\" posts\n",
    "// createFrontMatter posts.[0]    "
   ]
  },
  {
   "cell_type": "code",
   "execution_count": 27,
   "metadata": {
    "dotnet_interactive": {
     "language": "fsharp"
    },
    "polyglot_notebook": {
     "kernelName": "fsharp"
    }
   },
   "outputs": [
    {
     "data": {
      "text/html": [
       "<table><thead><tr><th><i>index</i></th><th>value</th></tr></thead><tbody><tr><td>0</td><td><div class=\"dni-plaintext\"><pre>&lt;null&gt;</pre></div></td></tr><tr><td>1</td><td><div class=\"dni-plaintext\"><pre>&lt;null&gt;</pre></div></td></tr><tr><td>2</td><td><div class=\"dni-plaintext\"><pre>&lt;null&gt;</pre></div></td></tr><tr><td>3</td><td><div class=\"dni-plaintext\"><pre>&lt;null&gt;</pre></div></td></tr><tr><td>4</td><td><div class=\"dni-plaintext\"><pre>&lt;null&gt;</pre></div></td></tr><tr><td>5</td><td><div class=\"dni-plaintext\"><pre>&lt;null&gt;</pre></div></td></tr></tbody></table><style>\r\n",
       ".dni-code-hint {\r\n",
       "    font-style: italic;\r\n",
       "    overflow: hidden;\r\n",
       "    white-space: nowrap;\r\n",
       "}\r\n",
       ".dni-treeview {\r\n",
       "    white-space: nowrap;\r\n",
       "}\r\n",
       ".dni-treeview td {\r\n",
       "    vertical-align: top;\r\n",
       "    text-align: start;\r\n",
       "}\r\n",
       "details.dni-treeview {\r\n",
       "    padding-left: 1em;\r\n",
       "}\r\n",
       "table td {\r\n",
       "    text-align: start;\r\n",
       "}\r\n",
       "table tr { \r\n",
       "    vertical-align: top; \r\n",
       "    margin: 0em 0px;\r\n",
       "}\r\n",
       "table tr td pre \r\n",
       "{ \r\n",
       "    vertical-align: top !important; \r\n",
       "    margin: 0em 0px !important;\r\n",
       "} \r\n",
       "table th {\r\n",
       "    text-align: start;\r\n",
       "}\r\n",
       "</style>"
      ]
     },
     "metadata": {},
     "output_type": "display_data"
    }
   ],
   "source": [
    "posts \n",
    "|> List.map createFrontMatter \n"
   ]
  }
 ],
 "metadata": {
  "kernelspec": {
   "display_name": ".NET (C#)",
   "language": "C#",
   "name": ".net-csharp"
  },
  "polyglot_notebook": {
   "kernelInfo": {
    "defaultKernelName": "csharp",
    "items": [
     {
      "aliases": [
       "c#",
       "C#"
      ],
      "languageName": "C#",
      "name": "csharp"
     },
     {
      "aliases": [
       "js"
      ],
      "languageName": "JavaScript",
      "name": "javascript"
     },
     {
      "aliases": [
       "frontend"
      ],
      "languageName": null,
      "name": "vscode"
     },
     {
      "aliases": [],
      "name": "webview"
     },
     {
      "aliases": [],
      "languageName": null,
      "name": ".NET"
     },
     {
      "aliases": [
       "f#",
       "F#"
      ],
      "languageName": "F#",
      "name": "fsharp"
     },
     {
      "aliases": [],
      "languageName": "HTML",
      "name": "html"
     },
     {
      "aliases": [],
      "languageName": "KQL",
      "name": "kql"
     },
     {
      "aliases": [],
      "languageName": "Mermaid",
      "name": "mermaid"
     },
     {
      "aliases": [
       "powershell"
      ],
      "languageName": "PowerShell",
      "name": "pwsh"
     },
     {
      "aliases": [],
      "languageName": "SQL",
      "name": "sql"
     },
     {
      "aliases": [],
      "languageName": null,
      "name": "value"
     }
    ]
   }
  }
 },
 "nbformat": 4,
 "nbformat_minor": 2
}
