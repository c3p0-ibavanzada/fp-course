{
 "cells": [
  {
   "cell_type": "code",
   "execution_count": null,
   "metadata": {
    "dotnet_interactive": {
     "language": "fsharp"
    },
    "polyglot_notebook": {
     "kernelName": "fsharp"
    }
   },
   "outputs": [],
   "source": [
    "#r \"nuget: Fli\"\n",
    "\n",
    "open Fli\n",
    "open System.IO\n",
    "\n",
    "let postsFlaDir = \"/Users/flavioc/Web/fcolavecchia/_posts/fsharp\"\n",
    "let srcDir = \"/Users/flavioc/Documents/Blog/\"\n",
    "\n"
   ]
  },
  {
   "cell_type": "code",
   "execution_count": null,
   "metadata": {
    "dotnet_interactive": {
     "language": "fsharp"
    },
    "polyglot_notebook": {
     "kernelName": "fsharp"
    }
   },
   "outputs": [],
   "source": [
    "let nbConvert file outfile =\n",
    "    let fullName = Path.Combine(srcDir,\"en\",file)\n",
    "    $\"/opt/miniconda3/bin/jupyter nbconvert --to markdown {fullName}.ipynb --no-prompt --output={outfile}\""
   ]
  },
  {
   "cell_type": "code",
   "execution_count": null,
   "metadata": {
    "dotnet_interactive": {
     "language": "fsharp"
    },
    "polyglot_notebook": {
     "kernelName": "fsharp"
    }
   },
   "outputs": [],
   "source": [
    "let cliConvert inFile outfile = \n",
    "    cli {\n",
    "        Shell BASH \n",
    "        Command (\"\\\"\" + (nbConvert inFile outfile) + \"\\\"\" )\n",
    "        // Arguments $\"--output={outfile}\" \n",
    "        WorkingDirectory (Path.Combine(srcDir,\"tools\"))\n",
    "    }\n",
    "\n",
    "let dry (cliValue:  ShellContext) =    \n",
    "    cliValue \n",
    "    |> Command.toString\n",
    "\n",
    "let run (cliValue:  ShellContext) =    \n",
    "    cliValue \n",
    "    |> Command.execute\n"
   ]
  },
  {
   "cell_type": "code",
   "execution_count": null,
   "metadata": {
    "dotnet_interactive": {
     "language": "fsharp"
    },
    "polyglot_notebook": {
     "kernelName": "fsharp"
    }
   },
   "outputs": [],
   "source": [
    "let allNotebooks = Directory.GetFiles(Path.Combine(srcDir,\"en/\"),\"*.ipynb\")\n",
    "let notebooks = \n",
    "    [\n",
    "        \"Fundamentals\"\n",
    "        // \"Functions\"\n",
    "        // \"IntroToTypes\"\n",
    "        // \"DiscriminatedUnions\"\n",
    "    ]\n",
    "    \n",
    "notebooks"
   ]
  },
  {
   "cell_type": "code",
   "execution_count": null,
   "metadata": {
    "dotnet_interactive": {
     "language": "fsharp"
    },
    "polyglot_notebook": {
     "kernelName": "fsharp"
    }
   },
   "outputs": [],
   "source": [
    "let posts = \n",
    "    notebooks\n",
    "    |> List.mapi (fun i n -> string i + \"_\"+n)\n",
    "    |> List.map (fun n -> Path.Combine(postsFlaDir,n+\".md\"))\n",
    "    // |> List.map (fun (ni,no) -> dry (cliConvert ni no))\n",
    "posts"
   ]
  },
  {
   "cell_type": "code",
   "execution_count": null,
   "metadata": {
    "dotnet_interactive": {
     "language": "fsharp"
    },
    "polyglot_notebook": {
     "kernelName": "fsharp"
    }
   },
   "outputs": [],
   "source": [
    "(notebooks, posts)\n",
    "    ||> List.map2 (fun ni no -> dry (cliConvert ni no))"
   ]
  },
  {
   "cell_type": "code",
   "execution_count": null,
   "metadata": {
    "dotnet_interactive": {
     "language": "fsharp"
    },
    "polyglot_notebook": {
     "kernelName": "fsharp"
    }
   },
   "outputs": [],
   "source": [
    "(notebooks, posts)\n",
    "    ||> List.map2 (fun ni no -> run (cliConvert ni no))"
   ]
  },
  {
   "cell_type": "code",
   "execution_count": null,
   "metadata": {
    "dotnet_interactive": {
     "language": "fsharp"
    },
    "polyglot_notebook": {
     "kernelName": "fsharp"
    }
   },
   "outputs": [],
   "source": [
    "let test =\n",
    "    cli {\n",
    "        Shell BASH\n",
    "        Command \"echo Hello World!\"\n",
    "    }\n",
    "    // |> Command.execute\n",
    "test"
   ]
  }
 ],
 "metadata": {
  "kernelspec": {
   "display_name": ".NET (C#)",
   "language": "C#",
   "name": ".net-csharp"
  },
  "polyglot_notebook": {
   "kernelInfo": {
    "defaultKernelName": "csharp",
    "items": [
     {
      "aliases": [
       "c#",
       "C#"
      ],
      "languageName": "C#",
      "name": "csharp"
     },
     {
      "aliases": [
       "js"
      ],
      "languageName": "JavaScript",
      "name": "javascript"
     },
     {
      "aliases": [
       "frontend"
      ],
      "languageName": null,
      "name": "vscode"
     },
     {
      "aliases": [],
      "name": "webview"
     }
    ]
   }
  }
 },
 "nbformat": 4,
 "nbformat_minor": 2
}
