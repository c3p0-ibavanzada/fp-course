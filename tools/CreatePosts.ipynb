{
 "cells": [
  {
   "cell_type": "code",
   "execution_count": 1,
   "metadata": {
    "dotnet_interactive": {
     "language": "fsharp"
    },
    "polyglot_notebook": {
     "kernelName": "fsharp"
    }
   },
   "outputs": [
    {
     "data": {
      "text/html": [
       "<div><div></div><div></div><div><strong>Installed Packages</strong><ul><li><span>Fli, 1.0.1</span></li></ul></div></div>"
      ]
     },
     "metadata": {},
     "output_type": "display_data"
    }
   ],
   "source": [
    "#r \"nuget: Fli\"\n",
    "\n",
    "open Fli\n",
    "open System.IO\n",
    "\n",
    "let postsFlaDir = \"/Users/flavioc/Web/fcolavecchia/_posts/fsharp\"\n",
    "let srcDir = \"/Users/flavioc/Documents/Blog/\"\n",
    "\n"
   ]
  },
  {
   "cell_type": "code",
   "execution_count": 8,
   "metadata": {
    "dotnet_interactive": {
     "language": "fsharp"
    },
    "polyglot_notebook": {
     "kernelName": "fsharp"
    }
   },
   "outputs": [],
   "source": [
    "let nbConvert file =\n",
    "    let fullName = Path.Combine(srcDir,\"en\",file)\n",
    "    $\"/opt/miniconda3/bin/jupyter nbconvert --to markdown {fullName}.ipynb --no-prompt\""
   ]
  },
  {
   "cell_type": "code",
   "execution_count": 18,
   "metadata": {
    "dotnet_interactive": {
     "language": "fsharp"
    },
    "polyglot_notebook": {
     "kernelName": "fsharp"
    }
   },
   "outputs": [],
   "source": [
    "let cliConvert inFile outfile = \n",
    "    cli {\n",
    "        Exec (nbConvert inFile)\n",
    "        // Arguments $\"--output={outfile}\" \n",
    "        WorkingDirectory (Path.Combine(srcDir,\"tools\"))\n",
    "    }\n",
    "\n",
    "let dry (cliValue:  ExecContext) =    \n",
    "    cliValue \n",
    "    |> Command.toString\n",
    "\n",
    "let run (cliValue:  ExecContext) =    \n",
    "    cliValue \n",
    "    |> Command.execute\n"
   ]
  },
  {
   "cell_type": "code",
   "execution_count": 11,
   "metadata": {
    "dotnet_interactive": {
     "language": "fsharp"
    },
    "polyglot_notebook": {
     "kernelName": "fsharp"
    }
   },
   "outputs": [
    {
     "data": {
      "text/html": [
       "<table><thead><tr><th><i>index</i></th><th>value</th></tr></thead><tbody><tr><td>0</td><td>Fundamentals</td></tr></tbody></table><style>\r\n",
       ".dni-code-hint {\r\n",
       "    font-style: italic;\r\n",
       "    overflow: hidden;\r\n",
       "    white-space: nowrap;\r\n",
       "}\r\n",
       ".dni-treeview {\r\n",
       "    white-space: nowrap;\r\n",
       "}\r\n",
       ".dni-treeview td {\r\n",
       "    vertical-align: top;\r\n",
       "    text-align: start;\r\n",
       "}\r\n",
       "details.dni-treeview {\r\n",
       "    padding-left: 1em;\r\n",
       "}\r\n",
       "table td {\r\n",
       "    text-align: start;\r\n",
       "}\r\n",
       "table tr { \r\n",
       "    vertical-align: top; \r\n",
       "    margin: 0em 0px;\r\n",
       "}\r\n",
       "table tr td pre \r\n",
       "{ \r\n",
       "    vertical-align: top !important; \r\n",
       "    margin: 0em 0px !important;\r\n",
       "} \r\n",
       "table th {\r\n",
       "    text-align: start;\r\n",
       "}\r\n",
       "</style>"
      ]
     },
     "metadata": {},
     "output_type": "display_data"
    }
   ],
   "source": [
    "let allNotebooks = Directory.GetFiles(Path.Combine(srcDir,\"en/\"),\"*.ipynb\")\n",
    "let notebooks = \n",
    "    [\n",
    "        \"Fundamentals\"\n",
    "        // \"Functions\"\n",
    "        // \"IntroToTypes\"\n",
    "        // \"DiscriminatedUnions\"\n",
    "    ]\n",
    "    \n",
    "notebooks"
   ]
  },
  {
   "cell_type": "code",
   "execution_count": 5,
   "metadata": {
    "dotnet_interactive": {
     "language": "fsharp"
    },
    "polyglot_notebook": {
     "kernelName": "fsharp"
    }
   },
   "outputs": [
    {
     "data": {
      "text/html": [
       "<table><thead><tr><th><i>index</i></th><th>value</th></tr></thead><tbody><tr><td>0</td><td>/Users/flavioc/Web/fcolavecchia/_posts/fsharp/0_Fundamentals.md</td></tr></tbody></table><style>\r\n",
       ".dni-code-hint {\r\n",
       "    font-style: italic;\r\n",
       "    overflow: hidden;\r\n",
       "    white-space: nowrap;\r\n",
       "}\r\n",
       ".dni-treeview {\r\n",
       "    white-space: nowrap;\r\n",
       "}\r\n",
       ".dni-treeview td {\r\n",
       "    vertical-align: top;\r\n",
       "    text-align: start;\r\n",
       "}\r\n",
       "details.dni-treeview {\r\n",
       "    padding-left: 1em;\r\n",
       "}\r\n",
       "table td {\r\n",
       "    text-align: start;\r\n",
       "}\r\n",
       "table tr { \r\n",
       "    vertical-align: top; \r\n",
       "    margin: 0em 0px;\r\n",
       "}\r\n",
       "table tr td pre \r\n",
       "{ \r\n",
       "    vertical-align: top !important; \r\n",
       "    margin: 0em 0px !important;\r\n",
       "} \r\n",
       "table th {\r\n",
       "    text-align: start;\r\n",
       "}\r\n",
       "</style>"
      ]
     },
     "metadata": {},
     "output_type": "display_data"
    }
   ],
   "source": [
    "let posts = \n",
    "    notebooks\n",
    "    |> List.mapi (fun i n -> string i + \"_\"+n)\n",
    "    |> List.map (fun n -> Path.Combine(postsFlaDir,n+\".md\"))\n",
    "    // |> List.map (fun (ni,no) -> dry (cliConvert ni no))\n",
    "posts"
   ]
  },
  {
   "cell_type": "code",
   "execution_count": 19,
   "metadata": {
    "dotnet_interactive": {
     "language": "fsharp"
    },
    "polyglot_notebook": {
     "kernelName": "fsharp"
    }
   },
   "outputs": [
    {
     "data": {
      "text/html": [
       "<table><thead><tr><th><i>index</i></th><th>value</th></tr></thead><tbody><tr><td>0</td><td>/opt/miniconda3/bin/jupyter nbconvert --to markdown /Users/flavioc/Documents/Blog/en/Fundamentals.ipynb --no-prompt </td></tr></tbody></table><style>\r\n",
       ".dni-code-hint {\r\n",
       "    font-style: italic;\r\n",
       "    overflow: hidden;\r\n",
       "    white-space: nowrap;\r\n",
       "}\r\n",
       ".dni-treeview {\r\n",
       "    white-space: nowrap;\r\n",
       "}\r\n",
       ".dni-treeview td {\r\n",
       "    vertical-align: top;\r\n",
       "    text-align: start;\r\n",
       "}\r\n",
       "details.dni-treeview {\r\n",
       "    padding-left: 1em;\r\n",
       "}\r\n",
       "table td {\r\n",
       "    text-align: start;\r\n",
       "}\r\n",
       "table tr { \r\n",
       "    vertical-align: top; \r\n",
       "    margin: 0em 0px;\r\n",
       "}\r\n",
       "table tr td pre \r\n",
       "{ \r\n",
       "    vertical-align: top !important; \r\n",
       "    margin: 0em 0px !important;\r\n",
       "} \r\n",
       "table th {\r\n",
       "    text-align: start;\r\n",
       "}\r\n",
       "</style>"
      ]
     },
     "metadata": {},
     "output_type": "display_data"
    }
   ],
   "source": [
    "(notebooks, posts)\n",
    "    ||> List.map2 (fun ni no -> dry (cliConvert ni no))"
   ]
  },
  {
   "cell_type": "code",
   "execution_count": 20,
   "metadata": {
    "dotnet_interactive": {
     "language": "fsharp"
    },
    "polyglot_notebook": {
     "kernelName": "fsharp"
    }
   },
   "outputs": [
    {
     "ename": "Error",
     "evalue": "System.ComponentModel.Win32Exception (2): An error occurred trying to start process '/opt/miniconda3/bin/jupyter nbconvert --to markdown /Users/flavioc/Documents/Blog/en/Fundamentals.ipynb --no-prompt' with working directory '/Users/flavioc/Documents/Blog/tools'. No such file or directory\n   at System.Diagnostics.Process.ForkAndExecProcess(ProcessStartInfo startInfo, String resolvedFilename, String[] argv, String[] envp, String cwd, Boolean setCredentials, UInt32 userId, UInt32 groupId, UInt32[] groups, Int32& stdinFd, Int32& stdoutFd, Int32& stderrFd, Boolean usesTerminal, Boolean throwOnNoExec)\n   at System.Diagnostics.Process.StartCore(ProcessStartInfo startInfo)\n   at System.Diagnostics.Process.Start(ProcessStartInfo startInfo)\n   at Fli.Command.startProcess(FSharpFunc`2 inputFunc, FSharpFunc`2 outputFunc, ProcessStartInfo psi) in C:\\Users\\const\\github\\repos\\Fli\\src\\Fli\\Command.fs:line 67\n   at Fli.Command.Command.execute(ExecContext context) in C:\\Users\\const\\github\\repos\\Fli\\src\\Fli\\Command.fs:line 187\n   at Microsoft.FSharp.Primitives.Basics.List.map2[T1,T2,TResult](FSharpFunc`2 mapping, FSharpList`1 xs1, FSharpList`1 xs2) in D:\\a\\_work\\1\\s\\src\\FSharp.Core\\local.fs:line 288\n   at <StartupCode$FSI_0027>.$FSI_0027.main@()\n   at System.RuntimeMethodHandle.InvokeMethod(Object target, Void** arguments, Signature sig, Boolean isConstructor)\n   at System.Reflection.MethodInvoker.Invoke(Object obj, IntPtr* args, BindingFlags invokeAttr)",
     "output_type": "error",
     "traceback": [
      "System.ComponentModel.Win32Exception (2): An error occurred trying to start process '/opt/miniconda3/bin/jupyter nbconvert --to markdown /Users/flavioc/Documents/Blog/en/Fundamentals.ipynb --no-prompt' with working directory '/Users/flavioc/Documents/Blog/tools'. No such file or directory\n",
      "   at System.Diagnostics.Process.ForkAndExecProcess(ProcessStartInfo startInfo, String resolvedFilename, String[] argv, String[] envp, String cwd, Boolean setCredentials, UInt32 userId, UInt32 groupId, UInt32[] groups, Int32& stdinFd, Int32& stdoutFd, Int32& stderrFd, Boolean usesTerminal, Boolean throwOnNoExec)\n",
      "   at System.Diagnostics.Process.StartCore(ProcessStartInfo startInfo)\n",
      "   at System.Diagnostics.Process.Start(ProcessStartInfo startInfo)\n",
      "   at Fli.Command.startProcess(FSharpFunc`2 inputFunc, FSharpFunc`2 outputFunc, ProcessStartInfo psi) in C:\\Users\\const\\github\\repos\\Fli\\src\\Fli\\Command.fs:line 67\n",
      "   at Fli.Command.Command.execute(ExecContext context) in C:\\Users\\const\\github\\repos\\Fli\\src\\Fli\\Command.fs:line 187\n",
      "   at Microsoft.FSharp.Primitives.Basics.List.map2[T1,T2,TResult](FSharpFunc`2 mapping, FSharpList`1 xs1, FSharpList`1 xs2) in D:\\a\\_work\\1\\s\\src\\FSharp.Core\\local.fs:line 288\n",
      "   at <StartupCode$FSI_0027>.$FSI_0027.main@()\n",
      "   at System.RuntimeMethodHandle.InvokeMethod(Object target, Void** arguments, Signature sig, Boolean isConstructor)\n",
      "   at System.Reflection.MethodInvoker.Invoke(Object obj, IntPtr* args, BindingFlags invokeAttr)"
     ]
    }
   ],
   "source": [
    "(notebooks, posts)\n",
    "    ||> List.map2 (fun ni no -> run (cliConvert ni no))"
   ]
  }
 ],
 "metadata": {
  "kernelspec": {
   "display_name": ".NET (C#)",
   "language": "C#",
   "name": ".net-csharp"
  },
  "polyglot_notebook": {
   "kernelInfo": {
    "defaultKernelName": "csharp",
    "items": [
     {
      "aliases": [],
      "name": "csharp"
     }
    ]
   }
  }
 },
 "nbformat": 4,
 "nbformat_minor": 2
}
